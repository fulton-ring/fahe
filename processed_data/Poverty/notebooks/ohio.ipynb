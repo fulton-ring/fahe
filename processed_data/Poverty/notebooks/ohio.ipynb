{
 "cells": [
  {
   "cell_type": "code",
   "execution_count": 1,
   "id": "78531bf3",
   "metadata": {},
   "outputs": [],
   "source": [
    "import pandas as pd"
   ]
  },
  {
   "cell_type": "code",
   "execution_count": 2,
   "id": "bbfcc656",
   "metadata": {},
   "outputs": [],
   "source": [
    "import warnings\n",
    "warnings.filterwarnings('ignore', category=pd.errors.DtypeWarning)"
   ]
  },
  {
   "cell_type": "code",
   "execution_count": 3,
   "id": "646b0614",
   "metadata": {},
   "outputs": [],
   "source": [
    "# Basic CSV reading\n",
    "df15 = pd.read_csv(r'C:\\Users\\athar\\OneDrive\\Desktop\\fulton_ring\\fahe\\poverty\\ohio_poverty_15.csv')\n",
    "df16 = pd.read_csv(r'C:\\Users\\athar\\OneDrive\\Desktop\\fulton_ring\\fahe\\poverty\\ohio_poverty_16.csv')\n",
    "df17 = pd.read_csv(r'C:\\Users\\athar\\OneDrive\\Desktop\\fulton_ring\\fahe\\poverty\\ohio_poverty_17.csv')\n",
    "df18 = pd.read_csv(r'C:\\Users\\athar\\OneDrive\\Desktop\\fulton_ring\\fahe\\poverty\\ohio_poverty_18.csv')\n",
    "df19 = pd.read_csv(r'C:\\Users\\athar\\OneDrive\\Desktop\\fulton_ring\\fahe\\poverty\\ohio_poverty_19.csv')\n",
    "df20 = pd.read_csv(r'C:\\Users\\athar\\OneDrive\\Desktop\\fulton_ring\\fahe\\poverty\\ohio_poverty_20.csv')\n",
    "df21 = pd.read_csv(r'C:\\Users\\athar\\OneDrive\\Desktop\\fulton_ring\\fahe\\poverty\\ohio_poverty_21.csv')\n",
    "df22 = pd.read_csv(r'C:\\Users\\athar\\OneDrive\\Desktop\\fulton_ring\\fahe\\poverty\\ohio_poverty_22.csv')\n",
    "df23 = pd.read_csv(r'C:\\Users\\athar\\OneDrive\\Desktop\\fulton_ring\\fahe\\poverty\\ohio_poverty_23.csv')"
   ]
  },
  {
   "cell_type": "code",
   "execution_count": 4,
   "id": "4ed67010",
   "metadata": {},
   "outputs": [],
   "source": [
    "df15['year'] = 2015\n",
    "df16['year'] = 2016\n",
    "df17['year'] = 2017\n",
    "df18['year'] = 2018\n",
    "df19['year'] = 2019\n",
    "df20['year'] = 2020\n",
    "df21['year'] = 2021\n",
    "df22['year'] = 2022\n",
    "df23['year'] = 2023"
   ]
  },
  {
   "cell_type": "code",
   "execution_count": 5,
   "id": "fdf733fb",
   "metadata": {},
   "outputs": [],
   "source": [
    "# Combine them vertically\n",
    "df_all = pd.concat([df15, df16, df17, df18, df19, df20, df21, df22, df23], ignore_index=True)"
   ]
  },
  {
   "cell_type": "code",
   "execution_count": 6,
   "id": "c4cd36a7",
   "metadata": {},
   "outputs": [
    {
     "name": "stderr",
     "output_type": "stream",
     "text": [
      "C:\\Users\\athar\\AppData\\Local\\Temp\\ipykernel_27572\\61925457.py:2: PerformanceWarning: DataFrame is highly fragmented.  This is usually the result of calling `frame.insert` many times, which has poor performance.  Consider joining all columns at once using pd.concat(axis=1) instead. To get a de-fragmented frame, use `newframe = frame.copy()`\n",
      "  df_all[['County', 'State']] = df_all['NAME'].str.split(',', expand=True)\n",
      "C:\\Users\\athar\\AppData\\Local\\Temp\\ipykernel_27572\\61925457.py:2: PerformanceWarning: DataFrame is highly fragmented.  This is usually the result of calling `frame.insert` many times, which has poor performance.  Consider joining all columns at once using pd.concat(axis=1) instead. To get a de-fragmented frame, use `newframe = frame.copy()`\n",
      "  df_all[['County', 'State']] = df_all['NAME'].str.split(',', expand=True)\n"
     ]
    }
   ],
   "source": [
    "# Split NAME column into County and State\n",
    "df_all[['County', 'State']] = df_all['NAME'].str.split(',', expand=True)"
   ]
  },
  {
   "cell_type": "code",
   "execution_count": 7,
   "id": "fcd3295c",
   "metadata": {},
   "outputs": [],
   "source": [
    "# Clean up extra spaces\n",
    "df_all['County'] = df_all['County'].str.strip()\n",
    "df_all['State'] = df_all['State'].str.strip()"
   ]
  },
  {
   "cell_type": "code",
   "execution_count": 8,
   "id": "9976f01f",
   "metadata": {},
   "outputs": [],
   "source": [
    "# Drop the original NAME column if not needed\n",
    "df_all = df_all.drop(columns=['NAME'])"
   ]
  },
  {
   "cell_type": "code",
   "execution_count": 9,
   "id": "8750b4c8",
   "metadata": {},
   "outputs": [],
   "source": [
    "# Delete row at index 0\n",
    "df_all = df_all.drop(0)\n",
    "# Reset index after deletion\n",
    "df_all = df_all.reset_index(drop=True)"
   ]
  },
  {
   "cell_type": "code",
   "execution_count": 10,
   "id": "de5f0e95",
   "metadata": {},
   "outputs": [],
   "source": [
    "# Remove the word \"County\" from County column\n",
    "df_all['County'] = df_all['County'].str.replace('County', '', regex=False).str.strip()"
   ]
  },
  {
   "cell_type": "code",
   "execution_count": 11,
   "id": "225385fe",
   "metadata": {},
   "outputs": [],
   "source": [
    "# Reorder columns: GEO_ID, year, County, State, then the rest\n",
    "cols = df_all.columns.tolist()"
   ]
  },
  {
   "cell_type": "code",
   "execution_count": 12,
   "id": "99818423",
   "metadata": {},
   "outputs": [],
   "source": [
    "# Ensure order\n",
    "new_order = ['GEO_ID', 'year', 'County', 'State'] + [col for col in cols if col not in ['GEO_ID', 'year', 'County', 'State']]\n"
   ]
  },
  {
   "cell_type": "code",
   "execution_count": 13,
   "id": "f41d5e2d",
   "metadata": {},
   "outputs": [],
   "source": [
    "\n",
    "df_all = df_all[new_order]"
   ]
  },
  {
   "cell_type": "code",
   "execution_count": 14,
   "id": "f784aa14",
   "metadata": {},
   "outputs": [],
   "source": [
    "keep = [\n",
    "    \"GEO_ID\", \"NAME\", \"State\", \"County\", \"year\",\n",
    "    \"S1701_C01_001E\",      # Total Population\n",
    "    \"S1701_C02_001E\",       # Population Below Poverty\n",
    "    \"S1701_C03_001E\",       #Percent Below Poverty\n",
    "    \"S1701_C01_024E\",       #Adults with High School\n",
    "    \"S1701_C03_024E\",       #Percent Adults with High School\n",
    "    \"S1701_C01_026E\",       #Adults with College Degree\n",
    "    \"S1701_C03_026E\"        #Percent Adults with College Degree\n",
    "]"
   ]
  },
  {
   "cell_type": "code",
   "execution_count": 15,
   "id": "b6c59f9d",
   "metadata": {},
   "outputs": [],
   "source": [
    "# Filter to the columns that exist, then rename\n",
    "existing = [c for c in keep if c in df_all.columns]"
   ]
  },
  {
   "cell_type": "code",
   "execution_count": 16,
   "id": "17e495f7",
   "metadata": {},
   "outputs": [],
   "source": [
    "renamed = {\n",
    "    \"S1701_C01_001E\": \"Total Population\",\n",
    "    \"S1701_C02_001E\": \"Population Below Poverty\",     \n",
    "    \"S1701_C03_001E\": \"Percent Below Poverty\",      \n",
    "    \"S1701_C01_024E\": \"Adults with High School\",       \n",
    "    \"S1701_C03_024E\": \"Percent Adults with High School\",       \n",
    "    \"S1701_C01_026E\": \"Adults with College Degree\",       \n",
    "    \"S1701_C03_026E\": \"Percent Adults with College Degree\"       \n",
    "}"
   ]
  },
  {
   "cell_type": "code",
   "execution_count": 17,
   "id": "4571b821",
   "metadata": {},
   "outputs": [],
   "source": [
    "df_out = df_all[existing].rename(columns=renamed)"
   ]
  },
  {
   "cell_type": "code",
   "execution_count": 18,
   "id": "1198839c",
   "metadata": {},
   "outputs": [],
   "source": [
    "keep_county = pd.read_csv(r\"C:\\Users\\athar\\OneDrive\\Desktop\\fulton_ring\\fahe\\appalachian_counties.csv\")"
   ]
  },
  {
   "cell_type": "code",
   "execution_count": 19,
   "id": "337190bb",
   "metadata": {},
   "outputs": [],
   "source": [
    "keep_ohio = keep_county[keep_county[\"state\"] == \"Ohio\"]"
   ]
  },
  {
   "cell_type": "code",
   "execution_count": 20,
   "id": "746d4f82",
   "metadata": {},
   "outputs": [],
   "source": [
    "ohio_counties = set(keep_ohio[\"county\"])"
   ]
  },
  {
   "cell_type": "code",
   "execution_count": 21,
   "id": "67ffe8f3",
   "metadata": {},
   "outputs": [],
   "source": [
    "# Keep only rows in df_out where 'County' is in that list\n",
    "df_out8 = df_out[df_out[\"County\"].isin(ohio_counties)]"
   ]
  },
  {
   "cell_type": "code",
   "execution_count": 22,
   "id": "a7d85373",
   "metadata": {},
   "outputs": [
    {
     "data": {
      "text/html": [
       "<div>\n",
       "<style scoped>\n",
       "    .dataframe tbody tr th:only-of-type {\n",
       "        vertical-align: middle;\n",
       "    }\n",
       "\n",
       "    .dataframe tbody tr th {\n",
       "        vertical-align: top;\n",
       "    }\n",
       "\n",
       "    .dataframe thead th {\n",
       "        text-align: right;\n",
       "    }\n",
       "</style>\n",
       "<table border=\"1\" class=\"dataframe\">\n",
       "  <thead>\n",
       "    <tr style=\"text-align: right;\">\n",
       "      <th></th>\n",
       "      <th>GEO_ID</th>\n",
       "      <th>State</th>\n",
       "      <th>County</th>\n",
       "      <th>year</th>\n",
       "      <th>Total Population</th>\n",
       "      <th>Population Below Poverty</th>\n",
       "      <th>Percent Below Poverty</th>\n",
       "      <th>Adults with High School</th>\n",
       "      <th>Percent Adults with High School</th>\n",
       "      <th>Adults with College Degree</th>\n",
       "      <th>Percent Adults with College Degree</th>\n",
       "    </tr>\n",
       "  </thead>\n",
       "  <tbody>\n",
       "    <tr>\n",
       "      <th>0</th>\n",
       "      <td>0500000US39001</td>\n",
       "      <td>Ohio</td>\n",
       "      <td>Adams</td>\n",
       "      <td>2015</td>\n",
       "      <td>27750</td>\n",
       "      <td>6832</td>\n",
       "      <td>24.6</td>\n",
       "      <td>8236</td>\n",
       "      <td>20.8</td>\n",
       "      <td>1987</td>\n",
       "      <td>11.7</td>\n",
       "    </tr>\n",
       "    <tr>\n",
       "      <th>3</th>\n",
       "      <td>0500000US39007</td>\n",
       "      <td>Ohio</td>\n",
       "      <td>Ashtabula</td>\n",
       "      <td>2015</td>\n",
       "      <td>96064</td>\n",
       "      <td>19266</td>\n",
       "      <td>20.1</td>\n",
       "      <td>29697</td>\n",
       "      <td>16.7</td>\n",
       "      <td>9016</td>\n",
       "      <td>5.5</td>\n",
       "    </tr>\n",
       "    <tr>\n",
       "      <th>4</th>\n",
       "      <td>0500000US39009</td>\n",
       "      <td>Ohio</td>\n",
       "      <td>Athens</td>\n",
       "      <td>2015</td>\n",
       "      <td>55353</td>\n",
       "      <td>18263</td>\n",
       "      <td>33.0</td>\n",
       "      <td>11152</td>\n",
       "      <td>18.8</td>\n",
       "      <td>10298</td>\n",
       "      <td>14.8</td>\n",
       "    </tr>\n",
       "    <tr>\n",
       "      <th>6</th>\n",
       "      <td>0500000US39013</td>\n",
       "      <td>Ohio</td>\n",
       "      <td>Belmont</td>\n",
       "      <td>2015</td>\n",
       "      <td>65538</td>\n",
       "      <td>9553</td>\n",
       "      <td>14.6</td>\n",
       "      <td>20789</td>\n",
       "      <td>12.2</td>\n",
       "      <td>7515</td>\n",
       "      <td>2.2</td>\n",
       "    </tr>\n",
       "    <tr>\n",
       "      <th>7</th>\n",
       "      <td>0500000US39015</td>\n",
       "      <td>Ohio</td>\n",
       "      <td>Brown</td>\n",
       "      <td>2015</td>\n",
       "      <td>43277</td>\n",
       "      <td>6442</td>\n",
       "      <td>14.9</td>\n",
       "      <td>14378</td>\n",
       "      <td>12.5</td>\n",
       "      <td>3650</td>\n",
       "      <td>4.5</td>\n",
       "    </tr>\n",
       "  </tbody>\n",
       "</table>\n",
       "</div>"
      ],
      "text/plain": [
       "           GEO_ID State     County  year Total Population  \\\n",
       "0  0500000US39001  Ohio      Adams  2015            27750   \n",
       "3  0500000US39007  Ohio  Ashtabula  2015            96064   \n",
       "4  0500000US39009  Ohio     Athens  2015            55353   \n",
       "6  0500000US39013  Ohio    Belmont  2015            65538   \n",
       "7  0500000US39015  Ohio      Brown  2015            43277   \n",
       "\n",
       "  Population Below Poverty Percent Below Poverty Adults with High School  \\\n",
       "0                     6832                  24.6                    8236   \n",
       "3                    19266                  20.1                   29697   \n",
       "4                    18263                  33.0                   11152   \n",
       "6                     9553                  14.6                   20789   \n",
       "7                     6442                  14.9                   14378   \n",
       "\n",
       "  Percent Adults with High School Adults with College Degree  \\\n",
       "0                            20.8                       1987   \n",
       "3                            16.7                       9016   \n",
       "4                            18.8                      10298   \n",
       "6                            12.2                       7515   \n",
       "7                            12.5                       3650   \n",
       "\n",
       "  Percent Adults with College Degree  \n",
       "0                               11.7  \n",
       "3                                5.5  \n",
       "4                               14.8  \n",
       "6                                2.2  \n",
       "7                                4.5  "
      ]
     },
     "execution_count": 22,
     "metadata": {},
     "output_type": "execute_result"
    }
   ],
   "source": [
    "df_out8.head()"
   ]
  },
  {
   "cell_type": "code",
   "execution_count": 23,
   "id": "aaf68f30",
   "metadata": {},
   "outputs": [],
   "source": [
    "df_out8.to_csv(\"df_out8.csv\", index=False)\n"
   ]
  }
 ],
 "metadata": {
  "kernelspec": {
   "display_name": ".venv",
   "language": "python",
   "name": "python3"
  },
  "language_info": {
   "codemirror_mode": {
    "name": "ipython",
    "version": 3
   },
   "file_extension": ".py",
   "mimetype": "text/x-python",
   "name": "python",
   "nbconvert_exporter": "python",
   "pygments_lexer": "ipython3",
   "version": "3.12.2"
  }
 },
 "nbformat": 4,
 "nbformat_minor": 5
}
