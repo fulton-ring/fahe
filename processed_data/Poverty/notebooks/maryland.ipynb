{
 "cells": [
  {
   "cell_type": "code",
   "execution_count": 1,
   "id": "1c638933",
   "metadata": {},
   "outputs": [],
   "source": [
    "import pandas as pd"
   ]
  },
  {
   "cell_type": "code",
   "execution_count": 2,
   "id": "c1a5d2ba",
   "metadata": {},
   "outputs": [],
   "source": [
    "import warnings\n",
    "warnings.filterwarnings('ignore', category=pd.errors.DtypeWarning)"
   ]
  },
  {
   "cell_type": "code",
   "execution_count": 3,
   "id": "5179f2a4",
   "metadata": {},
   "outputs": [],
   "source": [
    "# Basic CSV reading\n",
    "df15 = pd.read_csv(r'C:\\Users\\athar\\OneDrive\\Desktop\\fulton_ring\\fahe\\poverty\\maryland_poverty_15.csv')\n",
    "df16 = pd.read_csv(r'C:\\Users\\athar\\OneDrive\\Desktop\\fulton_ring\\fahe\\poverty\\maryland_poverty_16.csv')\n",
    "df17 = pd.read_csv(r'C:\\Users\\athar\\OneDrive\\Desktop\\fulton_ring\\fahe\\poverty\\maryland_poverty_17.csv')\n",
    "df18 = pd.read_csv(r'C:\\Users\\athar\\OneDrive\\Desktop\\fulton_ring\\fahe\\poverty\\maryland_poverty_18.csv')\n",
    "df19 = pd.read_csv(r'C:\\Users\\athar\\OneDrive\\Desktop\\fulton_ring\\fahe\\poverty\\maryland_poverty_19.csv')\n",
    "df20 = pd.read_csv(r'C:\\Users\\athar\\OneDrive\\Desktop\\fulton_ring\\fahe\\poverty\\maryland_poverty_20.csv')\n",
    "df21 = pd.read_csv(r'C:\\Users\\athar\\OneDrive\\Desktop\\fulton_ring\\fahe\\poverty\\maryland_poverty_21.csv')\n",
    "df22 = pd.read_csv(r'C:\\Users\\athar\\OneDrive\\Desktop\\fulton_ring\\fahe\\poverty\\maryland_poverty_22.csv')\n",
    "df23 = pd.read_csv(r'C:\\Users\\athar\\OneDrive\\Desktop\\fulton_ring\\fahe\\poverty\\maryland_poverty_23.csv')"
   ]
  },
  {
   "cell_type": "code",
   "execution_count": 4,
   "id": "01c0f7e1",
   "metadata": {},
   "outputs": [],
   "source": [
    "df15['year'] = 2015\n",
    "df16['year'] = 2016\n",
    "df17['year'] = 2017\n",
    "df18['year'] = 2018\n",
    "df19['year'] = 2019\n",
    "df20['year'] = 2020\n",
    "df21['year'] = 2021\n",
    "df22['year'] = 2022\n",
    "df23['year'] = 2023"
   ]
  },
  {
   "cell_type": "code",
   "execution_count": 5,
   "id": "fd1dcad9",
   "metadata": {},
   "outputs": [],
   "source": [
    "# Combine them vertically\n",
    "df_all = pd.concat([df15, df16, df17, df18, df19, df20, df21, df22, df23], ignore_index=True)"
   ]
  },
  {
   "cell_type": "code",
   "execution_count": 6,
   "id": "6109732e",
   "metadata": {},
   "outputs": [
    {
     "name": "stderr",
     "output_type": "stream",
     "text": [
      "C:\\Users\\athar\\AppData\\Local\\Temp\\ipykernel_22156\\61925457.py:2: PerformanceWarning: DataFrame is highly fragmented.  This is usually the result of calling `frame.insert` many times, which has poor performance.  Consider joining all columns at once using pd.concat(axis=1) instead. To get a de-fragmented frame, use `newframe = frame.copy()`\n",
      "  df_all[['County', 'State']] = df_all['NAME'].str.split(',', expand=True)\n",
      "C:\\Users\\athar\\AppData\\Local\\Temp\\ipykernel_22156\\61925457.py:2: PerformanceWarning: DataFrame is highly fragmented.  This is usually the result of calling `frame.insert` many times, which has poor performance.  Consider joining all columns at once using pd.concat(axis=1) instead. To get a de-fragmented frame, use `newframe = frame.copy()`\n",
      "  df_all[['County', 'State']] = df_all['NAME'].str.split(',', expand=True)\n"
     ]
    }
   ],
   "source": [
    "# Split NAME column into County and State\n",
    "df_all[['County', 'State']] = df_all['NAME'].str.split(',', expand=True)"
   ]
  },
  {
   "cell_type": "code",
   "execution_count": 7,
   "id": "c033e0ab",
   "metadata": {},
   "outputs": [],
   "source": [
    "# Clean up extra spaces\n",
    "df_all['County'] = df_all['County'].str.strip()\n",
    "df_all['State'] = df_all['State'].str.strip()"
   ]
  },
  {
   "cell_type": "code",
   "execution_count": 8,
   "id": "887386f1",
   "metadata": {},
   "outputs": [],
   "source": [
    "# Drop the original NAME column if not needed\n",
    "df_all = df_all.drop(columns=['NAME'])"
   ]
  },
  {
   "cell_type": "code",
   "execution_count": 9,
   "id": "3e7e1799",
   "metadata": {},
   "outputs": [],
   "source": [
    "# Delete row at index 0\n",
    "df_all = df_all.drop(0)"
   ]
  },
  {
   "cell_type": "code",
   "execution_count": 10,
   "id": "6871c516",
   "metadata": {},
   "outputs": [],
   "source": [
    "# Reset index after deletion\n",
    "df_all = df_all.reset_index(drop=True)"
   ]
  },
  {
   "cell_type": "code",
   "execution_count": 11,
   "id": "fa8611f4",
   "metadata": {},
   "outputs": [],
   "source": [
    "# Remove the word \"County\" from County column\n",
    "df_all['County'] = df_all['County'].str.replace('County', '', regex=False).str.strip()"
   ]
  },
  {
   "cell_type": "code",
   "execution_count": 12,
   "id": "fda31870",
   "metadata": {},
   "outputs": [],
   "source": [
    "# Reorder columns: GEO_ID, year, County, State, then the rest\n",
    "cols = df_all.columns.tolist()"
   ]
  },
  {
   "cell_type": "code",
   "execution_count": 13,
   "id": "2ecfb7f3",
   "metadata": {},
   "outputs": [],
   "source": [
    "# Ensure order\n",
    "new_order = ['GEO_ID', 'year', 'County', 'State'] + [col for col in cols if col not in ['GEO_ID', 'year', 'County', 'State']]\n"
   ]
  },
  {
   "cell_type": "code",
   "execution_count": 14,
   "id": "a56c39a1",
   "metadata": {},
   "outputs": [],
   "source": [
    "\n",
    "df_all = df_all[new_order]"
   ]
  },
  {
   "cell_type": "code",
   "execution_count": 15,
   "id": "5fd13cab",
   "metadata": {},
   "outputs": [],
   "source": [
    "keep = [\n",
    "    \"GEO_ID\", \"NAME\", \"State\", \"County\", \"year\",\n",
    "    \"S1701_C01_001E\",      # Total Population\n",
    "    \"S1701_C02_001E\",       # Population Below Poverty\n",
    "    \"S1701_C03_001E\",       #Percent Below Poverty\n",
    "    \"S1701_C01_024E\",       #Adults with High School\n",
    "    \"S1701_C03_024E\",       #Percent Adults with High School\n",
    "    \"S1701_C01_026E\",       #Adults with College Degree\n",
    "    \"S1701_C03_026E\"        #Percent Adults with College Degree\n",
    "]"
   ]
  },
  {
   "cell_type": "code",
   "execution_count": 16,
   "id": "c7b46037",
   "metadata": {},
   "outputs": [],
   "source": [
    "# Filter to the columns that exist, then rename\n",
    "existing = [c for c in keep if c in df_all.columns]"
   ]
  },
  {
   "cell_type": "code",
   "execution_count": 17,
   "id": "35f1cb41",
   "metadata": {},
   "outputs": [],
   "source": [
    "renamed = {\n",
    "    \"S1701_C01_001E\": \"Total Population\",\n",
    "    \"S1701_C02_001E\": \"Population Below Poverty\",     \n",
    "    \"S1701_C03_001E\": \"Percent Below Poverty\",      \n",
    "    \"S1701_C01_024E\": \"Adults with High School\",       \n",
    "    \"S1701_C03_024E\": \"Percent Adults with High School\",       \n",
    "    \"S1701_C01_026E\": \"Adults with College Degree\",       \n",
    "    \"S1701_C03_026E\": \"Percent Adults with College Degree\"       \n",
    "}"
   ]
  },
  {
   "cell_type": "code",
   "execution_count": 18,
   "id": "49dbee52",
   "metadata": {},
   "outputs": [],
   "source": [
    "df_out = df_all[existing].rename(columns=renamed)"
   ]
  },
  {
   "cell_type": "code",
   "execution_count": 19,
   "id": "6ad78900",
   "metadata": {},
   "outputs": [],
   "source": [
    "keep_county = pd.read_csv(r\"C:\\Users\\athar\\OneDrive\\Desktop\\fulton_ring\\fahe\\appalachian_counties.csv\")"
   ]
  },
  {
   "cell_type": "code",
   "execution_count": 20,
   "id": "b3a3af34",
   "metadata": {},
   "outputs": [],
   "source": [
    "keep_maryland = keep_county[keep_county[\"state\"] == \"Maryland\"]"
   ]
  },
  {
   "cell_type": "code",
   "execution_count": 21,
   "id": "76d48ecd",
   "metadata": {},
   "outputs": [],
   "source": [
    "maryland_counties = set(keep_maryland[\"county\"])"
   ]
  },
  {
   "cell_type": "code",
   "execution_count": 22,
   "id": "d5486ccc",
   "metadata": {},
   "outputs": [],
   "source": [
    "# Keep only rows in df_out where 'County' is in that list\n",
    "df_out4 = df_out[df_out[\"County\"].isin(maryland_counties)]"
   ]
  },
  {
   "cell_type": "code",
   "execution_count": 23,
   "id": "a451605e",
   "metadata": {},
   "outputs": [
    {
     "data": {
      "text/html": [
       "<div>\n",
       "<style scoped>\n",
       "    .dataframe tbody tr th:only-of-type {\n",
       "        vertical-align: middle;\n",
       "    }\n",
       "\n",
       "    .dataframe tbody tr th {\n",
       "        vertical-align: top;\n",
       "    }\n",
       "\n",
       "    .dataframe thead th {\n",
       "        text-align: right;\n",
       "    }\n",
       "</style>\n",
       "<table border=\"1\" class=\"dataframe\">\n",
       "  <thead>\n",
       "    <tr style=\"text-align: right;\">\n",
       "      <th></th>\n",
       "      <th>GEO_ID</th>\n",
       "      <th>State</th>\n",
       "      <th>County</th>\n",
       "      <th>year</th>\n",
       "      <th>Total Population</th>\n",
       "      <th>Population Below Poverty</th>\n",
       "      <th>Percent Below Poverty</th>\n",
       "      <th>Adults with High School</th>\n",
       "      <th>Percent Adults with High School</th>\n",
       "      <th>Adults with College Degree</th>\n",
       "      <th>Percent Adults with College Degree</th>\n",
       "    </tr>\n",
       "  </thead>\n",
       "  <tbody>\n",
       "    <tr>\n",
       "      <th>0</th>\n",
       "      <td>0500000US24001</td>\n",
       "      <td>Maryland</td>\n",
       "      <td>Allegany</td>\n",
       "      <td>2015</td>\n",
       "      <td>66139</td>\n",
       "      <td>11927</td>\n",
       "      <td>18.0</td>\n",
       "      <td>19144</td>\n",
       "      <td>14.8</td>\n",
       "      <td>8663</td>\n",
       "      <td>5.7</td>\n",
       "    </tr>\n",
       "    <tr>\n",
       "      <th>10</th>\n",
       "      <td>0500000US24023</td>\n",
       "      <td>Maryland</td>\n",
       "      <td>Garrett</td>\n",
       "      <td>2015</td>\n",
       "      <td>29124</td>\n",
       "      <td>3615</td>\n",
       "      <td>12.4</td>\n",
       "      <td>8842</td>\n",
       "      <td>10.1</td>\n",
       "      <td>4001</td>\n",
       "      <td>4.7</td>\n",
       "    </tr>\n",
       "    <tr>\n",
       "      <th>20</th>\n",
       "      <td>0500000US24043</td>\n",
       "      <td>Maryland</td>\n",
       "      <td>Washington</td>\n",
       "      <td>2015</td>\n",
       "      <td>140358</td>\n",
       "      <td>18094</td>\n",
       "      <td>12.9</td>\n",
       "      <td>36838</td>\n",
       "      <td>9.7</td>\n",
       "      <td>20258</td>\n",
       "      <td>3.2</td>\n",
       "    </tr>\n",
       "    <tr>\n",
       "      <th>25</th>\n",
       "      <td>0500000US24001</td>\n",
       "      <td>Maryland</td>\n",
       "      <td>Allegany</td>\n",
       "      <td>2016</td>\n",
       "      <td>65671</td>\n",
       "      <td>11430</td>\n",
       "      <td>17.4</td>\n",
       "      <td>19021</td>\n",
       "      <td>14.4</td>\n",
       "      <td>8882</td>\n",
       "      <td>4.8</td>\n",
       "    </tr>\n",
       "    <tr>\n",
       "      <th>35</th>\n",
       "      <td>0500000US24023</td>\n",
       "      <td>Maryland</td>\n",
       "      <td>Garrett</td>\n",
       "      <td>2016</td>\n",
       "      <td>28973</td>\n",
       "      <td>3666</td>\n",
       "      <td>12.7</td>\n",
       "      <td>8827</td>\n",
       "      <td>10.6</td>\n",
       "      <td>4041</td>\n",
       "      <td>5.7</td>\n",
       "    </tr>\n",
       "  </tbody>\n",
       "</table>\n",
       "</div>"
      ],
      "text/plain": [
       "            GEO_ID     State      County  year Total Population  \\\n",
       "0   0500000US24001  Maryland    Allegany  2015            66139   \n",
       "10  0500000US24023  Maryland     Garrett  2015            29124   \n",
       "20  0500000US24043  Maryland  Washington  2015           140358   \n",
       "25  0500000US24001  Maryland    Allegany  2016            65671   \n",
       "35  0500000US24023  Maryland     Garrett  2016            28973   \n",
       "\n",
       "   Population Below Poverty Percent Below Poverty Adults with High School  \\\n",
       "0                     11927                  18.0                   19144   \n",
       "10                     3615                  12.4                    8842   \n",
       "20                    18094                  12.9                   36838   \n",
       "25                    11430                  17.4                   19021   \n",
       "35                     3666                  12.7                    8827   \n",
       "\n",
       "   Percent Adults with High School Adults with College Degree  \\\n",
       "0                             14.8                       8663   \n",
       "10                            10.1                       4001   \n",
       "20                             9.7                      20258   \n",
       "25                            14.4                       8882   \n",
       "35                            10.6                       4041   \n",
       "\n",
       "   Percent Adults with College Degree  \n",
       "0                                 5.7  \n",
       "10                                4.7  \n",
       "20                                3.2  \n",
       "25                                4.8  \n",
       "35                                5.7  "
      ]
     },
     "execution_count": 23,
     "metadata": {},
     "output_type": "execute_result"
    }
   ],
   "source": [
    "df_out4.head()"
   ]
  },
  {
   "cell_type": "code",
   "execution_count": 24,
   "id": "73cb72ff",
   "metadata": {},
   "outputs": [
    {
     "data": {
      "text/plain": [
       "(27, 11)"
      ]
     },
     "execution_count": 24,
     "metadata": {},
     "output_type": "execute_result"
    }
   ],
   "source": [
    "df_out4.shape"
   ]
  },
  {
   "cell_type": "code",
   "execution_count": 25,
   "id": "3389235b",
   "metadata": {},
   "outputs": [],
   "source": [
    "df_out4.to_csv(\"df_out4.csv\", index=False)\n"
   ]
  }
 ],
 "metadata": {
  "kernelspec": {
   "display_name": ".venv",
   "language": "python",
   "name": "python3"
  },
  "language_info": {
   "codemirror_mode": {
    "name": "ipython",
    "version": 3
   },
   "file_extension": ".py",
   "mimetype": "text/x-python",
   "name": "python",
   "nbconvert_exporter": "python",
   "pygments_lexer": "ipython3",
   "version": "3.12.2"
  }
 },
 "nbformat": 4,
 "nbformat_minor": 5
}
