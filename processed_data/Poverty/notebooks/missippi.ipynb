{
 "cells": [
  {
   "cell_type": "code",
   "execution_count": 1,
   "id": "b774cc92",
   "metadata": {},
   "outputs": [],
   "source": [
    "import pandas as pd"
   ]
  },
  {
   "cell_type": "code",
   "execution_count": 2,
   "id": "37351011",
   "metadata": {},
   "outputs": [],
   "source": [
    "import warnings\n",
    "warnings.filterwarnings('ignore', category=pd.errors.DtypeWarning)"
   ]
  },
  {
   "cell_type": "code",
   "execution_count": 3,
   "id": "ef7db3e7",
   "metadata": {},
   "outputs": [],
   "source": [
    "# Basic CSV reading\n",
    "df15 = pd.read_csv(r'C:\\Users\\athar\\OneDrive\\Desktop\\fulton_ring\\fahe\\poverty\\missippi_poverty_15.csv')\n",
    "df16 = pd.read_csv(r'C:\\Users\\athar\\OneDrive\\Desktop\\fulton_ring\\fahe\\poverty\\missippi_poverty_16.csv')\n",
    "df17 = pd.read_csv(r'C:\\Users\\athar\\OneDrive\\Desktop\\fulton_ring\\fahe\\poverty\\missippi_poverty_17.csv')\n",
    "df18 = pd.read_csv(r'C:\\Users\\athar\\OneDrive\\Desktop\\fulton_ring\\fahe\\poverty\\missippi_poverty_18.csv')\n",
    "df19 = pd.read_csv(r'C:\\Users\\athar\\OneDrive\\Desktop\\fulton_ring\\fahe\\poverty\\missippi_poverty_19.csv')\n",
    "df20 = pd.read_csv(r'C:\\Users\\athar\\OneDrive\\Desktop\\fulton_ring\\fahe\\poverty\\missippi_poverty_20.csv')\n",
    "df21 = pd.read_csv(r'C:\\Users\\athar\\OneDrive\\Desktop\\fulton_ring\\fahe\\poverty\\missippi_poverty_21.csv')\n",
    "df22 = pd.read_csv(r'C:\\Users\\athar\\OneDrive\\Desktop\\fulton_ring\\fahe\\poverty\\missippi_poverty_22.csv')\n",
    "df23 = pd.read_csv(r'C:\\Users\\athar\\OneDrive\\Desktop\\fulton_ring\\fahe\\poverty\\missippi_poverty_23.csv')"
   ]
  },
  {
   "cell_type": "code",
   "execution_count": 4,
   "id": "267b3dbb",
   "metadata": {},
   "outputs": [],
   "source": [
    "df15['year'] = 2015\n",
    "df16['year'] = 2016\n",
    "df17['year'] = 2017\n",
    "df18['year'] = 2018\n",
    "df19['year'] = 2019\n",
    "df20['year'] = 2020\n",
    "df21['year'] = 2021\n",
    "df22['year'] = 2022\n",
    "df23['year'] = 2023"
   ]
  },
  {
   "cell_type": "code",
   "execution_count": 5,
   "id": "3c49fe6d",
   "metadata": {},
   "outputs": [],
   "source": [
    "# Combine them vertically\n",
    "df_all = pd.concat([df15, df16, df17, df18, df19, df20, df21, df22, df23], ignore_index=True)"
   ]
  },
  {
   "cell_type": "code",
   "execution_count": 6,
   "id": "ed9edd18",
   "metadata": {},
   "outputs": [
    {
     "name": "stderr",
     "output_type": "stream",
     "text": [
      "C:\\Users\\athar\\AppData\\Local\\Temp\\ipykernel_24664\\61925457.py:2: PerformanceWarning: DataFrame is highly fragmented.  This is usually the result of calling `frame.insert` many times, which has poor performance.  Consider joining all columns at once using pd.concat(axis=1) instead. To get a de-fragmented frame, use `newframe = frame.copy()`\n",
      "  df_all[['County', 'State']] = df_all['NAME'].str.split(',', expand=True)\n",
      "C:\\Users\\athar\\AppData\\Local\\Temp\\ipykernel_24664\\61925457.py:2: PerformanceWarning: DataFrame is highly fragmented.  This is usually the result of calling `frame.insert` many times, which has poor performance.  Consider joining all columns at once using pd.concat(axis=1) instead. To get a de-fragmented frame, use `newframe = frame.copy()`\n",
      "  df_all[['County', 'State']] = df_all['NAME'].str.split(',', expand=True)\n"
     ]
    }
   ],
   "source": [
    "# Split NAME column into County and State\n",
    "df_all[['County', 'State']] = df_all['NAME'].str.split(',', expand=True)"
   ]
  },
  {
   "cell_type": "code",
   "execution_count": 7,
   "id": "e16f9eca",
   "metadata": {},
   "outputs": [],
   "source": [
    "# Clean up extra spaces\n",
    "df_all['County'] = df_all['County'].str.strip()\n",
    "df_all['State'] = df_all['State'].str.strip()"
   ]
  },
  {
   "cell_type": "code",
   "execution_count": 8,
   "id": "d7095c9d",
   "metadata": {},
   "outputs": [],
   "source": [
    "# Drop the original NAME column if not needed\n",
    "df_all = df_all.drop(columns=['NAME'])"
   ]
  },
  {
   "cell_type": "code",
   "execution_count": 9,
   "id": "5f334a54",
   "metadata": {},
   "outputs": [],
   "source": [
    "# Delete row at index 0\n",
    "df_all = df_all.drop(0)"
   ]
  },
  {
   "cell_type": "code",
   "execution_count": 10,
   "id": "ae929055",
   "metadata": {},
   "outputs": [],
   "source": [
    "# Reset index after deletion\n",
    "df_all = df_all.reset_index(drop=True)"
   ]
  },
  {
   "cell_type": "code",
   "execution_count": 11,
   "id": "fc99852b",
   "metadata": {},
   "outputs": [],
   "source": [
    "# Remove the word \"County\" from County column\n",
    "df_all['County'] = df_all['County'].str.replace('County', '', regex=False).str.strip()"
   ]
  },
  {
   "cell_type": "code",
   "execution_count": 12,
   "id": "bf45fcec",
   "metadata": {},
   "outputs": [],
   "source": [
    "# Reorder columns: GEO_ID, year, County, State, then the rest\n",
    "cols = df_all.columns.tolist()"
   ]
  },
  {
   "cell_type": "code",
   "execution_count": 13,
   "id": "7f3fdc0a",
   "metadata": {},
   "outputs": [],
   "source": [
    "# Ensure order\n",
    "new_order = ['GEO_ID', 'year', 'County', 'State'] + [col for col in cols if col not in ['GEO_ID', 'year', 'County', 'State']]\n"
   ]
  },
  {
   "cell_type": "code",
   "execution_count": 14,
   "id": "364fd887",
   "metadata": {},
   "outputs": [],
   "source": [
    "\n",
    "df_all = df_all[new_order]"
   ]
  },
  {
   "cell_type": "code",
   "execution_count": 15,
   "id": "4d80213e",
   "metadata": {},
   "outputs": [],
   "source": [
    "keep = [\n",
    "    \"GEO_ID\", \"NAME\", \"State\", \"County\", \"year\",\n",
    "    \"S1701_C01_001E\",      # Total Population\n",
    "    \"S1701_C02_001E\",       # Population Below Poverty\n",
    "    \"S1701_C03_001E\",       #Percent Below Poverty\n",
    "    \"S1701_C01_024E\",       #Adults with High School\n",
    "    \"S1701_C03_024E\",       #Percent Adults with High School\n",
    "    \"S1701_C01_026E\",       #Adults with College Degree\n",
    "    \"S1701_C03_026E\"        #Percent Adults with College Degree\n",
    "]"
   ]
  },
  {
   "cell_type": "code",
   "execution_count": 16,
   "id": "21ffe974",
   "metadata": {},
   "outputs": [],
   "source": [
    "# Filter to the columns that exist, then rename\n",
    "existing = [c for c in keep if c in df_all.columns]"
   ]
  },
  {
   "cell_type": "code",
   "execution_count": 17,
   "id": "a1575b89",
   "metadata": {},
   "outputs": [],
   "source": [
    "renamed = {\n",
    "    \"S1701_C01_001E\": \"Total Population\",\n",
    "    \"S1701_C02_001E\": \"Population Below Poverty\",     \n",
    "    \"S1701_C03_001E\": \"Percent Below Poverty\",      \n",
    "    \"S1701_C01_024E\": \"Adults with High School\",       \n",
    "    \"S1701_C03_024E\": \"Percent Adults with High School\",       \n",
    "    \"S1701_C01_026E\": \"Adults with College Degree\",       \n",
    "    \"S1701_C03_026E\": \"Percent Adults with College Degree\"       \n",
    "}"
   ]
  },
  {
   "cell_type": "code",
   "execution_count": 18,
   "id": "754c17be",
   "metadata": {},
   "outputs": [],
   "source": [
    "df_out = df_all[existing].rename(columns=renamed)"
   ]
  },
  {
   "cell_type": "code",
   "execution_count": 19,
   "id": "e8cc4011",
   "metadata": {},
   "outputs": [
    {
     "data": {
      "text/html": [
       "<div>\n",
       "<style scoped>\n",
       "    .dataframe tbody tr th:only-of-type {\n",
       "        vertical-align: middle;\n",
       "    }\n",
       "\n",
       "    .dataframe tbody tr th {\n",
       "        vertical-align: top;\n",
       "    }\n",
       "\n",
       "    .dataframe thead th {\n",
       "        text-align: right;\n",
       "    }\n",
       "</style>\n",
       "<table border=\"1\" class=\"dataframe\">\n",
       "  <thead>\n",
       "    <tr style=\"text-align: right;\">\n",
       "      <th></th>\n",
       "      <th>GEO_ID</th>\n",
       "      <th>State</th>\n",
       "      <th>County</th>\n",
       "      <th>year</th>\n",
       "      <th>Total Population</th>\n",
       "      <th>Population Below Poverty</th>\n",
       "      <th>Percent Below Poverty</th>\n",
       "      <th>Adults with High School</th>\n",
       "      <th>Percent Adults with High School</th>\n",
       "      <th>Adults with College Degree</th>\n",
       "      <th>Percent Adults with College Degree</th>\n",
       "    </tr>\n",
       "  </thead>\n",
       "  <tbody>\n",
       "    <tr>\n",
       "      <th>0</th>\n",
       "      <td>0500000US28001</td>\n",
       "      <td>Mississippi</td>\n",
       "      <td>Adams</td>\n",
       "      <td>2015</td>\n",
       "      <td>29586</td>\n",
       "      <td>8898</td>\n",
       "      <td>30.1</td>\n",
       "      <td>7092</td>\n",
       "      <td>24.6</td>\n",
       "      <td>3850</td>\n",
       "      <td>7.7</td>\n",
       "    </tr>\n",
       "    <tr>\n",
       "      <th>1</th>\n",
       "      <td>0500000US28003</td>\n",
       "      <td>Mississippi</td>\n",
       "      <td>Alcorn</td>\n",
       "      <td>2015</td>\n",
       "      <td>36608</td>\n",
       "      <td>7752</td>\n",
       "      <td>21.2</td>\n",
       "      <td>9044</td>\n",
       "      <td>22.6</td>\n",
       "      <td>4049</td>\n",
       "      <td>5.8</td>\n",
       "    </tr>\n",
       "    <tr>\n",
       "      <th>2</th>\n",
       "      <td>0500000US28005</td>\n",
       "      <td>Mississippi</td>\n",
       "      <td>Amite</td>\n",
       "      <td>2015</td>\n",
       "      <td>12727</td>\n",
       "      <td>2852</td>\n",
       "      <td>22.4</td>\n",
       "      <td>3348</td>\n",
       "      <td>18.0</td>\n",
       "      <td>1118</td>\n",
       "      <td>9.2</td>\n",
       "    </tr>\n",
       "    <tr>\n",
       "      <th>3</th>\n",
       "      <td>0500000US28007</td>\n",
       "      <td>Mississippi</td>\n",
       "      <td>Attala</td>\n",
       "      <td>2015</td>\n",
       "      <td>18871</td>\n",
       "      <td>4908</td>\n",
       "      <td>26.0</td>\n",
       "      <td>3889</td>\n",
       "      <td>21.7</td>\n",
       "      <td>1874</td>\n",
       "      <td>6.4</td>\n",
       "    </tr>\n",
       "    <tr>\n",
       "      <th>4</th>\n",
       "      <td>0500000US28009</td>\n",
       "      <td>Mississippi</td>\n",
       "      <td>Benton</td>\n",
       "      <td>2015</td>\n",
       "      <td>8389</td>\n",
       "      <td>1764</td>\n",
       "      <td>21.0</td>\n",
       "      <td>2154</td>\n",
       "      <td>11.3</td>\n",
       "      <td>599</td>\n",
       "      <td>1.2</td>\n",
       "    </tr>\n",
       "  </tbody>\n",
       "</table>\n",
       "</div>"
      ],
      "text/plain": [
       "           GEO_ID        State  County  year Total Population  \\\n",
       "0  0500000US28001  Mississippi   Adams  2015            29586   \n",
       "1  0500000US28003  Mississippi  Alcorn  2015            36608   \n",
       "2  0500000US28005  Mississippi   Amite  2015            12727   \n",
       "3  0500000US28007  Mississippi  Attala  2015            18871   \n",
       "4  0500000US28009  Mississippi  Benton  2015             8389   \n",
       "\n",
       "  Population Below Poverty Percent Below Poverty Adults with High School  \\\n",
       "0                     8898                  30.1                    7092   \n",
       "1                     7752                  21.2                    9044   \n",
       "2                     2852                  22.4                    3348   \n",
       "3                     4908                  26.0                    3889   \n",
       "4                     1764                  21.0                    2154   \n",
       "\n",
       "  Percent Adults with High School Adults with College Degree  \\\n",
       "0                            24.6                       3850   \n",
       "1                            22.6                       4049   \n",
       "2                            18.0                       1118   \n",
       "3                            21.7                       1874   \n",
       "4                            11.3                        599   \n",
       "\n",
       "  Percent Adults with College Degree  \n",
       "0                                7.7  \n",
       "1                                5.8  \n",
       "2                                9.2  \n",
       "3                                6.4  \n",
       "4                                1.2  "
      ]
     },
     "execution_count": 19,
     "metadata": {},
     "output_type": "execute_result"
    }
   ],
   "source": [
    "df_out.head()"
   ]
  },
  {
   "cell_type": "code",
   "execution_count": 20,
   "id": "1440febf",
   "metadata": {},
   "outputs": [],
   "source": [
    "keep_county = pd.read_csv(r\"C:\\Users\\athar\\OneDrive\\Desktop\\fulton_ring\\fahe\\appalachian_counties.csv\")"
   ]
  },
  {
   "cell_type": "code",
   "execution_count": 21,
   "id": "83884692",
   "metadata": {},
   "outputs": [],
   "source": [
    "keep_mississippi = keep_county[keep_county[\"state\"] == \"Mississippi\"]"
   ]
  },
  {
   "cell_type": "code",
   "execution_count": 22,
   "id": "4b9057fc",
   "metadata": {},
   "outputs": [],
   "source": [
    "mississippi_counties = set(keep_mississippi[\"county\"])"
   ]
  },
  {
   "cell_type": "code",
   "execution_count": 23,
   "id": "172aa3d1",
   "metadata": {},
   "outputs": [],
   "source": [
    "# Keep only rows in df_out where 'County' is in that list\n",
    "df_out5 = df_out[df_out[\"County\"].isin(mississippi_counties)]"
   ]
  },
  {
   "cell_type": "code",
   "execution_count": 24,
   "id": "776ed61b",
   "metadata": {},
   "outputs": [
    {
     "data": {
      "text/html": [
       "<div>\n",
       "<style scoped>\n",
       "    .dataframe tbody tr th:only-of-type {\n",
       "        vertical-align: middle;\n",
       "    }\n",
       "\n",
       "    .dataframe tbody tr th {\n",
       "        vertical-align: top;\n",
       "    }\n",
       "\n",
       "    .dataframe thead th {\n",
       "        text-align: right;\n",
       "    }\n",
       "</style>\n",
       "<table border=\"1\" class=\"dataframe\">\n",
       "  <thead>\n",
       "    <tr style=\"text-align: right;\">\n",
       "      <th></th>\n",
       "      <th>GEO_ID</th>\n",
       "      <th>State</th>\n",
       "      <th>County</th>\n",
       "      <th>year</th>\n",
       "      <th>Total Population</th>\n",
       "      <th>Population Below Poverty</th>\n",
       "      <th>Percent Below Poverty</th>\n",
       "      <th>Adults with High School</th>\n",
       "      <th>Percent Adults with High School</th>\n",
       "      <th>Adults with College Degree</th>\n",
       "      <th>Percent Adults with College Degree</th>\n",
       "    </tr>\n",
       "  </thead>\n",
       "  <tbody>\n",
       "    <tr>\n",
       "      <th>1</th>\n",
       "      <td>0500000US28003</td>\n",
       "      <td>Mississippi</td>\n",
       "      <td>Alcorn</td>\n",
       "      <td>2015</td>\n",
       "      <td>36608</td>\n",
       "      <td>7752</td>\n",
       "      <td>21.2</td>\n",
       "      <td>9044</td>\n",
       "      <td>22.6</td>\n",
       "      <td>4049</td>\n",
       "      <td>5.8</td>\n",
       "    </tr>\n",
       "    <tr>\n",
       "      <th>4</th>\n",
       "      <td>0500000US28009</td>\n",
       "      <td>Mississippi</td>\n",
       "      <td>Benton</td>\n",
       "      <td>2015</td>\n",
       "      <td>8389</td>\n",
       "      <td>1764</td>\n",
       "      <td>21.0</td>\n",
       "      <td>2154</td>\n",
       "      <td>11.3</td>\n",
       "      <td>599</td>\n",
       "      <td>1.2</td>\n",
       "    </tr>\n",
       "    <tr>\n",
       "      <th>6</th>\n",
       "      <td>0500000US28013</td>\n",
       "      <td>Mississippi</td>\n",
       "      <td>Calhoun</td>\n",
       "      <td>2015</td>\n",
       "      <td>14501</td>\n",
       "      <td>3763</td>\n",
       "      <td>25.9</td>\n",
       "      <td>3346</td>\n",
       "      <td>16.7</td>\n",
       "      <td>1109</td>\n",
       "      <td>4.7</td>\n",
       "    </tr>\n",
       "    <tr>\n",
       "      <th>8</th>\n",
       "      <td>0500000US28017</td>\n",
       "      <td>Mississippi</td>\n",
       "      <td>Chickasaw</td>\n",
       "      <td>2015</td>\n",
       "      <td>17074</td>\n",
       "      <td>4493</td>\n",
       "      <td>26.3</td>\n",
       "      <td>4126</td>\n",
       "      <td>21.0</td>\n",
       "      <td>1210</td>\n",
       "      <td>6.1</td>\n",
       "    </tr>\n",
       "    <tr>\n",
       "      <th>9</th>\n",
       "      <td>0500000US28019</td>\n",
       "      <td>Mississippi</td>\n",
       "      <td>Choctaw</td>\n",
       "      <td>2015</td>\n",
       "      <td>8198</td>\n",
       "      <td>2147</td>\n",
       "      <td>26.2</td>\n",
       "      <td>1870</td>\n",
       "      <td>18.0</td>\n",
       "      <td>758</td>\n",
       "      <td>6.9</td>\n",
       "    </tr>\n",
       "  </tbody>\n",
       "</table>\n",
       "</div>"
      ],
      "text/plain": [
       "           GEO_ID        State     County  year Total Population  \\\n",
       "1  0500000US28003  Mississippi     Alcorn  2015            36608   \n",
       "4  0500000US28009  Mississippi     Benton  2015             8389   \n",
       "6  0500000US28013  Mississippi    Calhoun  2015            14501   \n",
       "8  0500000US28017  Mississippi  Chickasaw  2015            17074   \n",
       "9  0500000US28019  Mississippi    Choctaw  2015             8198   \n",
       "\n",
       "  Population Below Poverty Percent Below Poverty Adults with High School  \\\n",
       "1                     7752                  21.2                    9044   \n",
       "4                     1764                  21.0                    2154   \n",
       "6                     3763                  25.9                    3346   \n",
       "8                     4493                  26.3                    4126   \n",
       "9                     2147                  26.2                    1870   \n",
       "\n",
       "  Percent Adults with High School Adults with College Degree  \\\n",
       "1                            22.6                       4049   \n",
       "4                            11.3                        599   \n",
       "6                            16.7                       1109   \n",
       "8                            21.0                       1210   \n",
       "9                            18.0                        758   \n",
       "\n",
       "  Percent Adults with College Degree  \n",
       "1                                5.8  \n",
       "4                                1.2  \n",
       "6                                4.7  \n",
       "8                                6.1  \n",
       "9                                6.9  "
      ]
     },
     "execution_count": 24,
     "metadata": {},
     "output_type": "execute_result"
    }
   ],
   "source": [
    "df_out5.head()"
   ]
  },
  {
   "cell_type": "code",
   "execution_count": 25,
   "id": "6e2c8e6e",
   "metadata": {},
   "outputs": [
    {
     "data": {
      "text/plain": [
       "(216, 11)"
      ]
     },
     "execution_count": 25,
     "metadata": {},
     "output_type": "execute_result"
    }
   ],
   "source": [
    "df_out5.shape\n"
   ]
  },
  {
   "cell_type": "code",
   "execution_count": 26,
   "id": "afb334d6",
   "metadata": {},
   "outputs": [],
   "source": [
    "df_out5.to_csv(\"df_out5.csv\", index=False)\n"
   ]
  }
 ],
 "metadata": {
  "kernelspec": {
   "display_name": ".venv",
   "language": "python",
   "name": "python3"
  },
  "language_info": {
   "codemirror_mode": {
    "name": "ipython",
    "version": 3
   },
   "file_extension": ".py",
   "mimetype": "text/x-python",
   "name": "python",
   "nbconvert_exporter": "python",
   "pygments_lexer": "ipython3",
   "version": "3.12.2"
  }
 },
 "nbformat": 4,
 "nbformat_minor": 5
}
