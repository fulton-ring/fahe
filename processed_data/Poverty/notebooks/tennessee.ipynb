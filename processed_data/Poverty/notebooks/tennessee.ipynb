{
 "cells": [
  {
   "cell_type": "code",
   "execution_count": 1,
   "id": "8dc1114f",
   "metadata": {},
   "outputs": [],
   "source": [
    "import pandas as pd"
   ]
  },
  {
   "cell_type": "code",
   "execution_count": 2,
   "id": "a1e35b31",
   "metadata": {},
   "outputs": [],
   "source": [
    "import warnings\n",
    "warnings.filterwarnings('ignore', category=pd.errors.DtypeWarning)"
   ]
  },
  {
   "cell_type": "code",
   "execution_count": 3,
   "id": "8ce486ac",
   "metadata": {},
   "outputs": [],
   "source": [
    "# Basic CSV reading\n",
    "df15 = pd.read_csv(r'C:\\Users\\athar\\OneDrive\\Desktop\\fulton_ring\\fahe\\poverty\\tn_poverty_15.csv')\n",
    "df16 = pd.read_csv(r'C:\\Users\\athar\\OneDrive\\Desktop\\fulton_ring\\fahe\\poverty\\tn_poverty_16.csv')\n",
    "df17 = pd.read_csv(r'C:\\Users\\athar\\OneDrive\\Desktop\\fulton_ring\\fahe\\poverty\\tn_poverty_17.csv')\n",
    "df18 = pd.read_csv(r'C:\\Users\\athar\\OneDrive\\Desktop\\fulton_ring\\fahe\\poverty\\tn_poverty_18.csv')\n",
    "df19 = pd.read_csv(r'C:\\Users\\athar\\OneDrive\\Desktop\\fulton_ring\\fahe\\poverty\\tn_poverty_19.csv')\n",
    "df20 = pd.read_csv(r'C:\\Users\\athar\\OneDrive\\Desktop\\fulton_ring\\fahe\\poverty\\tn_poverty_20.csv')\n",
    "df21 = pd.read_csv(r'C:\\Users\\athar\\OneDrive\\Desktop\\fulton_ring\\fahe\\poverty\\tn_poverty_21.csv')\n",
    "df22 = pd.read_csv(r'C:\\Users\\athar\\OneDrive\\Desktop\\fulton_ring\\fahe\\poverty\\tn_poverty_22.csv')\n",
    "df23 = pd.read_csv(r'C:\\Users\\athar\\OneDrive\\Desktop\\fulton_ring\\fahe\\poverty\\tn_poverty_23.csv')"
   ]
  },
  {
   "cell_type": "code",
   "execution_count": 4,
   "id": "c4b133f7",
   "metadata": {},
   "outputs": [],
   "source": [
    "df15['year'] = 2015\n",
    "df16['year'] = 2016\n",
    "df17['year'] = 2017\n",
    "df18['year'] = 2018\n",
    "df19['year'] = 2019\n",
    "df20['year'] = 2020\n",
    "df21['year'] = 2021\n",
    "df22['year'] = 2022\n",
    "df23['year'] = 2023"
   ]
  },
  {
   "cell_type": "code",
   "execution_count": 5,
   "id": "1d6cc617",
   "metadata": {},
   "outputs": [],
   "source": [
    "# Combine them vertically\n",
    "df_all = pd.concat([df15, df16, df17, df18, df19, df20, df21, df22, df23], ignore_index=True)"
   ]
  },
  {
   "cell_type": "code",
   "execution_count": 6,
   "id": "d97f4202",
   "metadata": {},
   "outputs": [
    {
     "name": "stderr",
     "output_type": "stream",
     "text": [
      "C:\\Users\\athar\\AppData\\Local\\Temp\\ipykernel_7264\\61925457.py:2: PerformanceWarning: DataFrame is highly fragmented.  This is usually the result of calling `frame.insert` many times, which has poor performance.  Consider joining all columns at once using pd.concat(axis=1) instead. To get a de-fragmented frame, use `newframe = frame.copy()`\n",
      "  df_all[['County', 'State']] = df_all['NAME'].str.split(',', expand=True)\n",
      "C:\\Users\\athar\\AppData\\Local\\Temp\\ipykernel_7264\\61925457.py:2: PerformanceWarning: DataFrame is highly fragmented.  This is usually the result of calling `frame.insert` many times, which has poor performance.  Consider joining all columns at once using pd.concat(axis=1) instead. To get a de-fragmented frame, use `newframe = frame.copy()`\n",
      "  df_all[['County', 'State']] = df_all['NAME'].str.split(',', expand=True)\n"
     ]
    }
   ],
   "source": [
    "# Split NAME column into County and State\n",
    "df_all[['County', 'State']] = df_all['NAME'].str.split(',', expand=True)"
   ]
  },
  {
   "cell_type": "code",
   "execution_count": 7,
   "id": "3d2f32c4",
   "metadata": {},
   "outputs": [],
   "source": [
    "# Clean up extra spaces\n",
    "df_all['County'] = df_all['County'].str.strip()\n",
    "df_all['State'] = df_all['State'].str.strip()"
   ]
  },
  {
   "cell_type": "code",
   "execution_count": 8,
   "id": "6e431dde",
   "metadata": {},
   "outputs": [],
   "source": [
    "# Drop the original NAME column if not needed\n",
    "df_all = df_all.drop(columns=['NAME'])"
   ]
  },
  {
   "cell_type": "code",
   "execution_count": 9,
   "id": "b40a4b83",
   "metadata": {},
   "outputs": [],
   "source": [
    "# Delete row at index 0\n",
    "df_all = df_all.drop(0)\n",
    "# Reset index after deletion\n",
    "df_all = df_all.reset_index(drop=True)"
   ]
  },
  {
   "cell_type": "code",
   "execution_count": 10,
   "id": "ead78763",
   "metadata": {},
   "outputs": [],
   "source": [
    "# Remove the word \"County\" from County column\n",
    "df_all['County'] = df_all['County'].str.replace('County', '', regex=False).str.strip()"
   ]
  },
  {
   "cell_type": "code",
   "execution_count": 11,
   "id": "ed431fd7",
   "metadata": {},
   "outputs": [],
   "source": [
    "# Reorder columns: GEO_ID, year, County, State, then the rest\n",
    "cols = df_all.columns.tolist()"
   ]
  },
  {
   "cell_type": "code",
   "execution_count": 12,
   "id": "355a6129",
   "metadata": {},
   "outputs": [],
   "source": [
    "# Ensure order\n",
    "new_order = ['GEO_ID', 'year', 'County', 'State'] + [col for col in cols if col not in ['GEO_ID', 'year', 'County', 'State']]\n"
   ]
  },
  {
   "cell_type": "code",
   "execution_count": 13,
   "id": "39e72155",
   "metadata": {},
   "outputs": [],
   "source": [
    "\n",
    "df_all = df_all[new_order]"
   ]
  },
  {
   "cell_type": "code",
   "execution_count": 14,
   "id": "dd9301a2",
   "metadata": {},
   "outputs": [],
   "source": [
    "keep = [\n",
    "    \"GEO_ID\", \"NAME\", \"State\", \"County\", \"year\",\n",
    "    \"S1701_C01_001E\",      # Total Population\n",
    "    \"S1701_C02_001E\",       # Population Below Poverty\n",
    "    \"S1701_C03_001E\",       #Percent Below Poverty\n",
    "    \"S1701_C01_024E\",       #Adults with High School\n",
    "    \"S1701_C03_024E\",       #Percent Adults with High School\n",
    "    \"S1701_C01_026E\",       #Adults with College Degree\n",
    "    \"S1701_C03_026E\"        #Percent Adults with College Degree\n",
    "]"
   ]
  },
  {
   "cell_type": "code",
   "execution_count": 15,
   "id": "73ea8f6f",
   "metadata": {},
   "outputs": [],
   "source": [
    "# Filter to the columns that exist, then rename\n",
    "existing = [c for c in keep if c in df_all.columns]"
   ]
  },
  {
   "cell_type": "code",
   "execution_count": 16,
   "id": "91f8ac81",
   "metadata": {},
   "outputs": [],
   "source": [
    "renamed = {\n",
    "    \"S1701_C01_001E\": \"Total Population\",\n",
    "    \"S1701_C02_001E\": \"Population Below Poverty\",     \n",
    "    \"S1701_C03_001E\": \"Percent Below Poverty\",      \n",
    "    \"S1701_C01_024E\": \"Adults with High School\",       \n",
    "    \"S1701_C03_024E\": \"Percent Adults with High School\",       \n",
    "    \"S1701_C01_026E\": \"Adults with College Degree\",       \n",
    "    \"S1701_C03_026E\": \"Percent Adults with College Degree\"       \n",
    "}"
   ]
  },
  {
   "cell_type": "code",
   "execution_count": 17,
   "id": "c8f55bb9",
   "metadata": {},
   "outputs": [],
   "source": [
    "df_out = df_all[existing].rename(columns=renamed)"
   ]
  },
  {
   "cell_type": "code",
   "execution_count": 18,
   "id": "8e96aa8e",
   "metadata": {},
   "outputs": [],
   "source": [
    "keep_county = pd.read_csv(r\"C:\\Users\\athar\\OneDrive\\Desktop\\fulton_ring\\fahe\\appalachian_counties.csv\")"
   ]
  },
  {
   "cell_type": "code",
   "execution_count": 19,
   "id": "0d6d8b50",
   "metadata": {},
   "outputs": [],
   "source": [
    "keep_tn = keep_county[keep_county[\"state\"] == \"Tennessee\"]"
   ]
  },
  {
   "cell_type": "code",
   "execution_count": 20,
   "id": "a198a238",
   "metadata": {},
   "outputs": [],
   "source": [
    "tn_counties = set(keep_tn[\"county\"])"
   ]
  },
  {
   "cell_type": "code",
   "execution_count": 21,
   "id": "be1e3008",
   "metadata": {},
   "outputs": [],
   "source": [
    "# Keep only rows in df_out where 'County' is in that list\n",
    "df_out11 = df_out[df_out[\"County\"].isin(tn_counties)]"
   ]
  },
  {
   "cell_type": "code",
   "execution_count": 22,
   "id": "a5a895b6",
   "metadata": {},
   "outputs": [
    {
     "data": {
      "text/html": [
       "<div>\n",
       "<style scoped>\n",
       "    .dataframe tbody tr th:only-of-type {\n",
       "        vertical-align: middle;\n",
       "    }\n",
       "\n",
       "    .dataframe tbody tr th {\n",
       "        vertical-align: top;\n",
       "    }\n",
       "\n",
       "    .dataframe thead th {\n",
       "        text-align: right;\n",
       "    }\n",
       "</style>\n",
       "<table border=\"1\" class=\"dataframe\">\n",
       "  <thead>\n",
       "    <tr style=\"text-align: right;\">\n",
       "      <th></th>\n",
       "      <th>GEO_ID</th>\n",
       "      <th>State</th>\n",
       "      <th>County</th>\n",
       "      <th>year</th>\n",
       "      <th>Total Population</th>\n",
       "      <th>Population Below Poverty</th>\n",
       "      <th>Percent Below Poverty</th>\n",
       "      <th>Adults with High School</th>\n",
       "      <th>Percent Adults with High School</th>\n",
       "      <th>Adults with College Degree</th>\n",
       "      <th>Percent Adults with College Degree</th>\n",
       "    </tr>\n",
       "  </thead>\n",
       "  <tbody>\n",
       "    <tr>\n",
       "      <th>0</th>\n",
       "      <td>0500000US47001</td>\n",
       "      <td>Tennessee</td>\n",
       "      <td>Anderson</td>\n",
       "      <td>2015</td>\n",
       "      <td>74196</td>\n",
       "      <td>13309</td>\n",
       "      <td>17.9</td>\n",
       "      <td>17769</td>\n",
       "      <td>16.5</td>\n",
       "      <td>12762</td>\n",
       "      <td>3.8</td>\n",
       "    </tr>\n",
       "    <tr>\n",
       "      <th>3</th>\n",
       "      <td>0500000US47007</td>\n",
       "      <td>Tennessee</td>\n",
       "      <td>Bledsoe</td>\n",
       "      <td>2015</td>\n",
       "      <td>12433</td>\n",
       "      <td>2697</td>\n",
       "      <td>21.7</td>\n",
       "      <td>3654</td>\n",
       "      <td>18.1</td>\n",
       "      <td>1054</td>\n",
       "      <td>3.2</td>\n",
       "    </tr>\n",
       "    <tr>\n",
       "      <th>4</th>\n",
       "      <td>0500000US47009</td>\n",
       "      <td>Tennessee</td>\n",
       "      <td>Blount</td>\n",
       "      <td>2015</td>\n",
       "      <td>122779</td>\n",
       "      <td>17305</td>\n",
       "      <td>14.1</td>\n",
       "      <td>30324</td>\n",
       "      <td>13.0</td>\n",
       "      <td>20038</td>\n",
       "      <td>3.5</td>\n",
       "    </tr>\n",
       "    <tr>\n",
       "      <th>5</th>\n",
       "      <td>0500000US47011</td>\n",
       "      <td>Tennessee</td>\n",
       "      <td>Bradley</td>\n",
       "      <td>2015</td>\n",
       "      <td>98670</td>\n",
       "      <td>19357</td>\n",
       "      <td>19.6</td>\n",
       "      <td>21709</td>\n",
       "      <td>17.7</td>\n",
       "      <td>13530</td>\n",
       "      <td>4.5</td>\n",
       "    </tr>\n",
       "    <tr>\n",
       "      <th>6</th>\n",
       "      <td>0500000US47013</td>\n",
       "      <td>Tennessee</td>\n",
       "      <td>Campbell</td>\n",
       "      <td>2015</td>\n",
       "      <td>39592</td>\n",
       "      <td>9203</td>\n",
       "      <td>23.2</td>\n",
       "      <td>11852</td>\n",
       "      <td>17.2</td>\n",
       "      <td>2919</td>\n",
       "      <td>7.3</td>\n",
       "    </tr>\n",
       "  </tbody>\n",
       "</table>\n",
       "</div>"
      ],
      "text/plain": [
       "           GEO_ID      State    County  year Total Population  \\\n",
       "0  0500000US47001  Tennessee  Anderson  2015            74196   \n",
       "3  0500000US47007  Tennessee   Bledsoe  2015            12433   \n",
       "4  0500000US47009  Tennessee    Blount  2015           122779   \n",
       "5  0500000US47011  Tennessee   Bradley  2015            98670   \n",
       "6  0500000US47013  Tennessee  Campbell  2015            39592   \n",
       "\n",
       "  Population Below Poverty Percent Below Poverty Adults with High School  \\\n",
       "0                    13309                  17.9                   17769   \n",
       "3                     2697                  21.7                    3654   \n",
       "4                    17305                  14.1                   30324   \n",
       "5                    19357                  19.6                   21709   \n",
       "6                     9203                  23.2                   11852   \n",
       "\n",
       "  Percent Adults with High School Adults with College Degree  \\\n",
       "0                            16.5                      12762   \n",
       "3                            18.1                       1054   \n",
       "4                            13.0                      20038   \n",
       "5                            17.7                      13530   \n",
       "6                            17.2                       2919   \n",
       "\n",
       "  Percent Adults with College Degree  \n",
       "0                                3.8  \n",
       "3                                3.2  \n",
       "4                                3.5  \n",
       "5                                4.5  \n",
       "6                                7.3  "
      ]
     },
     "execution_count": 22,
     "metadata": {},
     "output_type": "execute_result"
    }
   ],
   "source": [
    "df_out11.head()"
   ]
  },
  {
   "cell_type": "code",
   "execution_count": 23,
   "id": "82c9dbcf",
   "metadata": {},
   "outputs": [],
   "source": [
    "df_out11.to_csv(\"df_out11.csv\", index=False)\n"
   ]
  }
 ],
 "metadata": {
  "kernelspec": {
   "display_name": ".venv",
   "language": "python",
   "name": "python3"
  },
  "language_info": {
   "codemirror_mode": {
    "name": "ipython",
    "version": 3
   },
   "file_extension": ".py",
   "mimetype": "text/x-python",
   "name": "python",
   "nbconvert_exporter": "python",
   "pygments_lexer": "ipython3",
   "version": "3.12.2"
  }
 },
 "nbformat": 4,
 "nbformat_minor": 5
}
