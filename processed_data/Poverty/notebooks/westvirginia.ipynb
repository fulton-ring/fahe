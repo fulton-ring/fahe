{
 "cells": [
  {
   "cell_type": "code",
   "execution_count": 1,
   "id": "7fcbc548",
   "metadata": {},
   "outputs": [],
   "source": [
    "\n",
    "import pandas as pd"
   ]
  },
  {
   "cell_type": "code",
   "execution_count": 2,
   "id": "d166b546",
   "metadata": {},
   "outputs": [],
   "source": [
    "import warnings\n",
    "warnings.filterwarnings('ignore', category=pd.errors.DtypeWarning)"
   ]
  },
  {
   "cell_type": "code",
   "execution_count": 3,
   "id": "42a4abf8",
   "metadata": {},
   "outputs": [],
   "source": [
    "# Basic CSV reading\n",
    "df15 = pd.read_csv(r'C:\\Users\\athar\\OneDrive\\Desktop\\fulton_ring\\fahe\\poverty\\wvir_poverty_15.csv')\n",
    "df16 = pd.read_csv(r'C:\\Users\\athar\\OneDrive\\Desktop\\fulton_ring\\fahe\\poverty\\wvir_poverty_16.csv')\n",
    "df17 = pd.read_csv(r'C:\\Users\\athar\\OneDrive\\Desktop\\fulton_ring\\fahe\\poverty\\wvir_poverty_17.csv')\n",
    "df18 = pd.read_csv(r'C:\\Users\\athar\\OneDrive\\Desktop\\fulton_ring\\fahe\\poverty\\wvir_poverty_18.csv')\n",
    "df19 = pd.read_csv(r'C:\\Users\\athar\\OneDrive\\Desktop\\fulton_ring\\fahe\\poverty\\wvir_poverty_19.csv')\n",
    "df20 = pd.read_csv(r'C:\\Users\\athar\\OneDrive\\Desktop\\fulton_ring\\fahe\\poverty\\wvir_poverty_20.csv')\n",
    "df21 = pd.read_csv(r'C:\\Users\\athar\\OneDrive\\Desktop\\fulton_ring\\fahe\\poverty\\wvir_poverty_21.csv')\n",
    "df22 = pd.read_csv(r'C:\\Users\\athar\\OneDrive\\Desktop\\fulton_ring\\fahe\\poverty\\wvir_poverty_22.csv')\n",
    "df23 = pd.read_csv(r'C:\\Users\\athar\\OneDrive\\Desktop\\fulton_ring\\fahe\\poverty\\wvir_poverty_23.csv')"
   ]
  },
  {
   "cell_type": "code",
   "execution_count": 4,
   "id": "2041cc86",
   "metadata": {},
   "outputs": [],
   "source": [
    "df15['year'] = 2015\n",
    "df16['year'] = 2016\n",
    "df17['year'] = 2017\n",
    "df18['year'] = 2018\n",
    "df19['year'] = 2019\n",
    "df20['year'] = 2020\n",
    "df21['year'] = 2021\n",
    "df22['year'] = 2022\n",
    "df23['year'] = 2023"
   ]
  },
  {
   "cell_type": "code",
   "execution_count": 5,
   "id": "6cd86eca",
   "metadata": {},
   "outputs": [],
   "source": [
    "# Combine them vertically\n",
    "df_all = pd.concat([df15, df16, df17, df18, df19, df20, df21, df22, df23], ignore_index=True)"
   ]
  },
  {
   "cell_type": "code",
   "execution_count": 6,
   "id": "37109da5",
   "metadata": {},
   "outputs": [
    {
     "name": "stderr",
     "output_type": "stream",
     "text": [
      "C:\\Users\\athar\\AppData\\Local\\Temp\\ipykernel_3864\\61925457.py:2: PerformanceWarning: DataFrame is highly fragmented.  This is usually the result of calling `frame.insert` many times, which has poor performance.  Consider joining all columns at once using pd.concat(axis=1) instead. To get a de-fragmented frame, use `newframe = frame.copy()`\n",
      "  df_all[['County', 'State']] = df_all['NAME'].str.split(',', expand=True)\n",
      "C:\\Users\\athar\\AppData\\Local\\Temp\\ipykernel_3864\\61925457.py:2: PerformanceWarning: DataFrame is highly fragmented.  This is usually the result of calling `frame.insert` many times, which has poor performance.  Consider joining all columns at once using pd.concat(axis=1) instead. To get a de-fragmented frame, use `newframe = frame.copy()`\n",
      "  df_all[['County', 'State']] = df_all['NAME'].str.split(',', expand=True)\n"
     ]
    }
   ],
   "source": [
    "# Split NAME column into County and State\n",
    "df_all[['County', 'State']] = df_all['NAME'].str.split(',', expand=True)"
   ]
  },
  {
   "cell_type": "code",
   "execution_count": 7,
   "id": "33c514fa",
   "metadata": {},
   "outputs": [],
   "source": [
    "# Clean up extra spaces\n",
    "df_all['County'] = df_all['County'].str.strip()\n",
    "df_all['State'] = df_all['State'].str.strip()"
   ]
  },
  {
   "cell_type": "code",
   "execution_count": 8,
   "id": "72fbc8b9",
   "metadata": {},
   "outputs": [],
   "source": [
    "# Drop the original NAME column if not needed\n",
    "df_all = df_all.drop(columns=['NAME'])"
   ]
  },
  {
   "cell_type": "code",
   "execution_count": 9,
   "id": "781c3268",
   "metadata": {},
   "outputs": [],
   "source": [
    "# Delete row at index 0\n",
    "df_all = df_all.drop(0)\n",
    "# Reset index after deletion\n",
    "df_all = df_all.reset_index(drop=True)"
   ]
  },
  {
   "cell_type": "code",
   "execution_count": 10,
   "id": "6f44c225",
   "metadata": {},
   "outputs": [],
   "source": [
    "# Remove the word \"County\" from County column\n",
    "df_all['County'] = df_all['County'].str.replace('County', '', regex=False).str.strip()"
   ]
  },
  {
   "cell_type": "code",
   "execution_count": 11,
   "id": "1a343067",
   "metadata": {},
   "outputs": [],
   "source": [
    "# Reorder columns: GEO_ID, year, County, State, then the rest\n",
    "cols = df_all.columns.tolist()"
   ]
  },
  {
   "cell_type": "code",
   "execution_count": 12,
   "id": "7a8673ef",
   "metadata": {},
   "outputs": [],
   "source": [
    "# Ensure order\n",
    "new_order = ['GEO_ID', 'year', 'County', 'State'] + [col for col in cols if col not in ['GEO_ID', 'year', 'County', 'State']]\n"
   ]
  },
  {
   "cell_type": "code",
   "execution_count": 13,
   "id": "8bea3eb5",
   "metadata": {},
   "outputs": [],
   "source": [
    "\n",
    "df_all = df_all[new_order]"
   ]
  },
  {
   "cell_type": "code",
   "execution_count": 14,
   "id": "7f54fcf1",
   "metadata": {},
   "outputs": [],
   "source": [
    "keep = [\n",
    "    \"GEO_ID\", \"NAME\", \"State\", \"County\", \"year\",\n",
    "    \"S1701_C01_001E\",      # Total Population\n",
    "    \"S1701_C02_001E\",       # Population Below Poverty\n",
    "    \"S1701_C03_001E\",       #Percent Below Poverty\n",
    "    \"S1701_C01_024E\",       #Adults with High School\n",
    "    \"S1701_C03_024E\",       #Percent Adults with High School\n",
    "    \"S1701_C01_026E\",       #Adults with College Degree\n",
    "    \"S1701_C03_026E\"        #Percent Adults with College Degree\n",
    "]"
   ]
  },
  {
   "cell_type": "code",
   "execution_count": 15,
   "id": "81940825",
   "metadata": {},
   "outputs": [],
   "source": [
    "# Filter to the columns that exist, then rename\n",
    "existing = [c for c in keep if c in df_all.columns]"
   ]
  },
  {
   "cell_type": "code",
   "execution_count": 16,
   "id": "be61d1f7",
   "metadata": {},
   "outputs": [],
   "source": [
    "renamed = {\n",
    "    \"S1701_C01_001E\": \"Total Population\",\n",
    "    \"S1701_C02_001E\": \"Population Below Poverty\",     \n",
    "    \"S1701_C03_001E\": \"Percent Below Poverty\",      \n",
    "    \"S1701_C01_024E\": \"Adults with High School\",       \n",
    "    \"S1701_C03_024E\": \"Percent Adults with High School\",       \n",
    "    \"S1701_C01_026E\": \"Adults with College Degree\",       \n",
    "    \"S1701_C03_026E\": \"Percent Adults with College Degree\"       \n",
    "}"
   ]
  },
  {
   "cell_type": "code",
   "execution_count": 17,
   "id": "bfd63ec1",
   "metadata": {},
   "outputs": [],
   "source": [
    "df_out = df_all[existing].rename(columns=renamed)"
   ]
  },
  {
   "cell_type": "code",
   "execution_count": 18,
   "id": "1d03eb48",
   "metadata": {},
   "outputs": [],
   "source": [
    "keep_county = pd.read_csv(r\"C:\\Users\\athar\\OneDrive\\Desktop\\fulton_ring\\fahe\\appalachian_counties.csv\")"
   ]
  },
  {
   "cell_type": "code",
   "execution_count": 19,
   "id": "418104e9",
   "metadata": {},
   "outputs": [],
   "source": [
    "keep_wvir = keep_county[keep_county[\"state\"] == \"West Virginia\"]"
   ]
  },
  {
   "cell_type": "code",
   "execution_count": 20,
   "id": "96590be9",
   "metadata": {},
   "outputs": [],
   "source": [
    "wvir_counties = set(keep_wvir[\"county\"])"
   ]
  },
  {
   "cell_type": "code",
   "execution_count": 21,
   "id": "07a0bf92",
   "metadata": {},
   "outputs": [],
   "source": [
    "# Keep only rows in df_out where 'County' is in that list\n",
    "df_out13 = df_out[df_out[\"County\"].isin(wvir_counties)]"
   ]
  },
  {
   "cell_type": "code",
   "execution_count": 22,
   "id": "ea3270c7",
   "metadata": {},
   "outputs": [
    {
     "data": {
      "text/html": [
       "<div>\n",
       "<style scoped>\n",
       "    .dataframe tbody tr th:only-of-type {\n",
       "        vertical-align: middle;\n",
       "    }\n",
       "\n",
       "    .dataframe tbody tr th {\n",
       "        vertical-align: top;\n",
       "    }\n",
       "\n",
       "    .dataframe thead th {\n",
       "        text-align: right;\n",
       "    }\n",
       "</style>\n",
       "<table border=\"1\" class=\"dataframe\">\n",
       "  <thead>\n",
       "    <tr style=\"text-align: right;\">\n",
       "      <th></th>\n",
       "      <th>GEO_ID</th>\n",
       "      <th>State</th>\n",
       "      <th>County</th>\n",
       "      <th>year</th>\n",
       "      <th>Total Population</th>\n",
       "      <th>Population Below Poverty</th>\n",
       "      <th>Percent Below Poverty</th>\n",
       "      <th>Adults with High School</th>\n",
       "      <th>Percent Adults with High School</th>\n",
       "      <th>Adults with College Degree</th>\n",
       "      <th>Percent Adults with College Degree</th>\n",
       "    </tr>\n",
       "  </thead>\n",
       "  <tbody>\n",
       "    <tr>\n",
       "      <th>0</th>\n",
       "      <td>0500000US54001</td>\n",
       "      <td>West Virginia</td>\n",
       "      <td>Barbour</td>\n",
       "      <td>2015</td>\n",
       "      <td>16210</td>\n",
       "      <td>3482</td>\n",
       "      <td>21.5</td>\n",
       "      <td>5286</td>\n",
       "      <td>13.3</td>\n",
       "      <td>1346</td>\n",
       "      <td>5.1</td>\n",
       "    </tr>\n",
       "    <tr>\n",
       "      <th>1</th>\n",
       "      <td>0500000US54003</td>\n",
       "      <td>West Virginia</td>\n",
       "      <td>Berkeley</td>\n",
       "      <td>2015</td>\n",
       "      <td>107351</td>\n",
       "      <td>15235</td>\n",
       "      <td>14.2</td>\n",
       "      <td>27999</td>\n",
       "      <td>10.8</td>\n",
       "      <td>14451</td>\n",
       "      <td>2.7</td>\n",
       "    </tr>\n",
       "    <tr>\n",
       "      <th>2</th>\n",
       "      <td>0500000US54005</td>\n",
       "      <td>West Virginia</td>\n",
       "      <td>Boone</td>\n",
       "      <td>2015</td>\n",
       "      <td>23743</td>\n",
       "      <td>5529</td>\n",
       "      <td>23.3</td>\n",
       "      <td>8269</td>\n",
       "      <td>19.3</td>\n",
       "      <td>1480</td>\n",
       "      <td>1.4</td>\n",
       "    </tr>\n",
       "    <tr>\n",
       "      <th>3</th>\n",
       "      <td>0500000US54007</td>\n",
       "      <td>West Virginia</td>\n",
       "      <td>Braxton</td>\n",
       "      <td>2015</td>\n",
       "      <td>13999</td>\n",
       "      <td>2941</td>\n",
       "      <td>21.0</td>\n",
       "      <td>4966</td>\n",
       "      <td>15.2</td>\n",
       "      <td>1244</td>\n",
       "      <td>2.3</td>\n",
       "    </tr>\n",
       "    <tr>\n",
       "      <th>4</th>\n",
       "      <td>0500000US54009</td>\n",
       "      <td>West Virginia</td>\n",
       "      <td>Brooke</td>\n",
       "      <td>2015</td>\n",
       "      <td>22585</td>\n",
       "      <td>2960</td>\n",
       "      <td>13.1</td>\n",
       "      <td>7330</td>\n",
       "      <td>9.9</td>\n",
       "      <td>3121</td>\n",
       "      <td>4.1</td>\n",
       "    </tr>\n",
       "  </tbody>\n",
       "</table>\n",
       "</div>"
      ],
      "text/plain": [
       "           GEO_ID          State    County  year Total Population  \\\n",
       "0  0500000US54001  West Virginia   Barbour  2015            16210   \n",
       "1  0500000US54003  West Virginia  Berkeley  2015           107351   \n",
       "2  0500000US54005  West Virginia     Boone  2015            23743   \n",
       "3  0500000US54007  West Virginia   Braxton  2015            13999   \n",
       "4  0500000US54009  West Virginia    Brooke  2015            22585   \n",
       "\n",
       "  Population Below Poverty Percent Below Poverty Adults with High School  \\\n",
       "0                     3482                  21.5                    5286   \n",
       "1                    15235                  14.2                   27999   \n",
       "2                     5529                  23.3                    8269   \n",
       "3                     2941                  21.0                    4966   \n",
       "4                     2960                  13.1                    7330   \n",
       "\n",
       "  Percent Adults with High School Adults with College Degree  \\\n",
       "0                            13.3                       1346   \n",
       "1                            10.8                      14451   \n",
       "2                            19.3                       1480   \n",
       "3                            15.2                       1244   \n",
       "4                             9.9                       3121   \n",
       "\n",
       "  Percent Adults with College Degree  \n",
       "0                                5.1  \n",
       "1                                2.7  \n",
       "2                                1.4  \n",
       "3                                2.3  \n",
       "4                                4.1  "
      ]
     },
     "execution_count": 22,
     "metadata": {},
     "output_type": "execute_result"
    }
   ],
   "source": [
    "df_out13.head()"
   ]
  },
  {
   "cell_type": "code",
   "execution_count": 23,
   "id": "0601e288",
   "metadata": {},
   "outputs": [],
   "source": [
    "df_out13.to_csv(\"df_out13.csv\", index=False)\n"
   ]
  }
 ],
 "metadata": {
  "kernelspec": {
   "display_name": ".venv",
   "language": "python",
   "name": "python3"
  },
  "language_info": {
   "codemirror_mode": {
    "name": "ipython",
    "version": 3
   },
   "file_extension": ".py",
   "mimetype": "text/x-python",
   "name": "python",
   "nbconvert_exporter": "python",
   "pygments_lexer": "ipython3",
   "version": "3.12.2"
  }
 },
 "nbformat": 4,
 "nbformat_minor": 5
}
