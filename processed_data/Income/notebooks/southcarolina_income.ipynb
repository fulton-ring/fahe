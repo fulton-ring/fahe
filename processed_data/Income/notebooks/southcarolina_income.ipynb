{
 "cells": [
  {
   "cell_type": "code",
   "execution_count": 1,
   "id": "75bade24",
   "metadata": {},
   "outputs": [],
   "source": [
    "import pandas as pd\n"
   ]
  },
  {
   "cell_type": "code",
   "execution_count": 2,
   "id": "d39939ca",
   "metadata": {},
   "outputs": [],
   "source": [
    "df15 = pd.read_csv(r\"C:\\Users\\athar\\OneDrive\\Desktop\\fulton_ring\\fahe\\income\\sc_income_15.csv\")\n",
    "df16 = pd.read_csv(r\"C:\\Users\\athar\\OneDrive\\Desktop\\fulton_ring\\fahe\\income\\sc_income_16.csv\")\n",
    "df17 = pd.read_csv(r\"C:\\Users\\athar\\OneDrive\\Desktop\\fulton_ring\\fahe\\income\\sc_income_17.csv\")\n",
    "df18 = pd.read_csv(r\"C:\\Users\\athar\\OneDrive\\Desktop\\fulton_ring\\fahe\\income\\sc_income_18.csv\")\n",
    "df19 = pd.read_csv(r\"C:\\Users\\athar\\OneDrive\\Desktop\\fulton_ring\\fahe\\income\\sc_income_19.csv\")\n",
    "df20 = pd.read_csv(r\"C:\\Users\\athar\\OneDrive\\Desktop\\fulton_ring\\fahe\\income\\sc_income_20.csv\")\n",
    "df21 = pd.read_csv(r\"C:\\Users\\athar\\OneDrive\\Desktop\\fulton_ring\\fahe\\income\\sc_income_21.csv\")\n",
    "df22 = pd.read_csv(r\"C:\\Users\\athar\\OneDrive\\Desktop\\fulton_ring\\fahe\\income\\sc_income_22.csv\")\n",
    "df23 = pd.read_csv(r\"C:\\Users\\athar\\OneDrive\\Desktop\\fulton_ring\\fahe\\income\\sc_income_23.csv\")"
   ]
  },
  {
   "cell_type": "code",
   "execution_count": 3,
   "id": "ad0cc5db",
   "metadata": {},
   "outputs": [],
   "source": [
    "df15['year'] = 2015\n",
    "df16['year'] = 2016\n",
    "df17['year'] = 2017\n",
    "df18['year'] = 2018\n",
    "df19['year'] = 2019\n",
    "df20['year'] = 2020\n",
    "df21['year'] = 2021\n",
    "df22['year'] = 2022\n",
    "df23['year'] = 2023"
   ]
  },
  {
   "cell_type": "code",
   "execution_count": 4,
   "id": "0d127919",
   "metadata": {},
   "outputs": [],
   "source": [
    "df_all = pd.concat([df15, df16, df17, df18, df19, df20, df21, df22, df23], ignore_index=True)\n"
   ]
  },
  {
   "cell_type": "code",
   "execution_count": 5,
   "id": "e6667a1b",
   "metadata": {},
   "outputs": [
    {
     "name": "stderr",
     "output_type": "stream",
     "text": [
      "C:\\Users\\athar\\AppData\\Local\\Temp\\ipykernel_33372\\61925457.py:2: PerformanceWarning: DataFrame is highly fragmented.  This is usually the result of calling `frame.insert` many times, which has poor performance.  Consider joining all columns at once using pd.concat(axis=1) instead. To get a de-fragmented frame, use `newframe = frame.copy()`\n",
      "  df_all[['County', 'State']] = df_all['NAME'].str.split(',', expand=True)\n",
      "C:\\Users\\athar\\AppData\\Local\\Temp\\ipykernel_33372\\61925457.py:2: PerformanceWarning: DataFrame is highly fragmented.  This is usually the result of calling `frame.insert` many times, which has poor performance.  Consider joining all columns at once using pd.concat(axis=1) instead. To get a de-fragmented frame, use `newframe = frame.copy()`\n",
      "  df_all[['County', 'State']] = df_all['NAME'].str.split(',', expand=True)\n"
     ]
    }
   ],
   "source": [
    "# Split NAME column into County and State\n",
    "df_all[['County', 'State']] = df_all['NAME'].str.split(',', expand=True)"
   ]
  },
  {
   "cell_type": "code",
   "execution_count": 6,
   "id": "2368a989",
   "metadata": {},
   "outputs": [],
   "source": [
    "# Clean up extra spaces\n",
    "df_all['County'] = df_all['County'].str.strip()\n",
    "df_all['State'] = df_all['State'].str.strip()"
   ]
  },
  {
   "cell_type": "code",
   "execution_count": 7,
   "id": "f3fca668",
   "metadata": {},
   "outputs": [],
   "source": [
    "# Drop the original NAME column if not needed\n",
    "df_all = df_all.drop(columns=['NAME'])"
   ]
  },
  {
   "cell_type": "code",
   "execution_count": 8,
   "id": "00c90944",
   "metadata": {},
   "outputs": [],
   "source": [
    "# Delete row at index 0\n",
    "df_all = df_all.drop(0)\n",
    "# Reset index after deletion\n",
    "df_all = df_all.reset_index(drop=True)"
   ]
  },
  {
   "cell_type": "code",
   "execution_count": 9,
   "id": "244442ea",
   "metadata": {},
   "outputs": [],
   "source": [
    "# Remove the word \"County\" from County column\n",
    "df_all['County'] = df_all['County'].str.replace('County', '', regex=False).str.strip()"
   ]
  },
  {
   "cell_type": "code",
   "execution_count": 10,
   "id": "ffe9c4ed",
   "metadata": {},
   "outputs": [],
   "source": [
    "# Reorder columns: GEO_ID, year, County, State, then the rest\n",
    "cols = df_all.columns.tolist()"
   ]
  },
  {
   "cell_type": "code",
   "execution_count": 11,
   "id": "1a54a23a",
   "metadata": {},
   "outputs": [],
   "source": [
    "# Ensure order\n",
    "new_order = ['GEO_ID', 'year', 'County', 'State'] + [col for col in cols if col not in ['GEO_ID', 'year', 'County', 'State']]\n"
   ]
  },
  {
   "cell_type": "code",
   "execution_count": 12,
   "id": "80c21d07",
   "metadata": {},
   "outputs": [],
   "source": [
    "keep = [\n",
    "    \"GEO_ID\", \"NAME\", \"State\", \"County\", \"year\",\n",
    "    \"S1901_C01_001E\",      # total households\n",
    "    \"S1901_C01_012E\"       # mean household income (avg per household)\n",
    "]"
   ]
  },
  {
   "cell_type": "code",
   "execution_count": 13,
   "id": "85824936",
   "metadata": {},
   "outputs": [],
   "source": [
    "# Filter to the columns that exist, then rename\n",
    "existing = [c for c in keep if c in df_all.columns]"
   ]
  },
  {
   "cell_type": "code",
   "execution_count": 14,
   "id": "478a7e60",
   "metadata": {},
   "outputs": [],
   "source": [
    "renamed = {\n",
    "    \"S1901_C01_001E\": \"Number of households\",\n",
    "    \"S1901_C01_012E\": \"Average income (per household)\",\n",
    "    \"NAME\": \"Geographic Area Name\"\n",
    "}"
   ]
  },
  {
   "cell_type": "code",
   "execution_count": 15,
   "id": "7bbe0997",
   "metadata": {},
   "outputs": [],
   "source": [
    "df_out = df_all[existing].rename(columns=renamed)"
   ]
  },
  {
   "cell_type": "code",
   "execution_count": 16,
   "id": "aca9f405",
   "metadata": {},
   "outputs": [],
   "source": [
    "keep_county = pd.read_csv(r\"C:\\Users\\athar\\OneDrive\\Desktop\\fulton_ring\\fahe\\appalachian_counties.csv\")"
   ]
  },
  {
   "cell_type": "code",
   "execution_count": 22,
   "id": "2ee1378a",
   "metadata": {},
   "outputs": [],
   "source": [
    "keep_sc = keep_county[keep_county[\"state\"] == \"South Carolina\"]"
   ]
  },
  {
   "cell_type": "code",
   "execution_count": 23,
   "id": "4307daba",
   "metadata": {},
   "outputs": [],
   "source": [
    "sc_counties = set(keep_sc[\"county\"])\n"
   ]
  },
  {
   "cell_type": "code",
   "execution_count": 24,
   "id": "6c574140",
   "metadata": {},
   "outputs": [],
   "source": [
    "# Keep only rows in df_out where 'County' is in that list\n",
    "df_out10 = df_out[df_out[\"County\"].isin(sc_counties)]"
   ]
  },
  {
   "cell_type": "code",
   "execution_count": 26,
   "id": "3f13d550",
   "metadata": {},
   "outputs": [
    {
     "data": {
      "text/html": [
       "<div>\n",
       "<style scoped>\n",
       "    .dataframe tbody tr th:only-of-type {\n",
       "        vertical-align: middle;\n",
       "    }\n",
       "\n",
       "    .dataframe tbody tr th {\n",
       "        vertical-align: top;\n",
       "    }\n",
       "\n",
       "    .dataframe thead th {\n",
       "        text-align: right;\n",
       "    }\n",
       "</style>\n",
       "<table border=\"1\" class=\"dataframe\">\n",
       "  <thead>\n",
       "    <tr style=\"text-align: right;\">\n",
       "      <th></th>\n",
       "      <th>GEO_ID</th>\n",
       "      <th>State</th>\n",
       "      <th>County</th>\n",
       "      <th>year</th>\n",
       "      <th>Number of households</th>\n",
       "      <th>Average income (per household)</th>\n",
       "    </tr>\n",
       "  </thead>\n",
       "  <tbody>\n",
       "    <tr>\n",
       "      <th>3</th>\n",
       "      <td>0500000US45007</td>\n",
       "      <td>South Carolina</td>\n",
       "      <td>Anderson</td>\n",
       "      <td>2015</td>\n",
       "      <td>74023</td>\n",
       "      <td>42143</td>\n",
       "    </tr>\n",
       "    <tr>\n",
       "      <th>10</th>\n",
       "      <td>0500000US45021</td>\n",
       "      <td>South Carolina</td>\n",
       "      <td>Cherokee</td>\n",
       "      <td>2015</td>\n",
       "      <td>20523</td>\n",
       "      <td>35389</td>\n",
       "    </tr>\n",
       "    <tr>\n",
       "      <th>22</th>\n",
       "      <td>0500000US45045</td>\n",
       "      <td>South Carolina</td>\n",
       "      <td>Greenville</td>\n",
       "      <td>2015</td>\n",
       "      <td>179862</td>\n",
       "      <td>50540</td>\n",
       "    </tr>\n",
       "    <tr>\n",
       "      <th>36</th>\n",
       "      <td>0500000US45073</td>\n",
       "      <td>South Carolina</td>\n",
       "      <td>Oconee</td>\n",
       "      <td>2015</td>\n",
       "      <td>30556</td>\n",
       "      <td>41237</td>\n",
       "    </tr>\n",
       "    <tr>\n",
       "      <th>38</th>\n",
       "      <td>0500000US45077</td>\n",
       "      <td>South Carolina</td>\n",
       "      <td>Pickens</td>\n",
       "      <td>2015</td>\n",
       "      <td>44646</td>\n",
       "      <td>41459</td>\n",
       "    </tr>\n",
       "  </tbody>\n",
       "</table>\n",
       "</div>"
      ],
      "text/plain": [
       "            GEO_ID           State      County  year Number of households  \\\n",
       "3   0500000US45007  South Carolina    Anderson  2015                74023   \n",
       "10  0500000US45021  South Carolina    Cherokee  2015                20523   \n",
       "22  0500000US45045  South Carolina  Greenville  2015               179862   \n",
       "36  0500000US45073  South Carolina      Oconee  2015                30556   \n",
       "38  0500000US45077  South Carolina     Pickens  2015                44646   \n",
       "\n",
       "   Average income (per household)  \n",
       "3                           42143  \n",
       "10                          35389  \n",
       "22                          50540  \n",
       "36                          41237  \n",
       "38                          41459  "
      ]
     },
     "execution_count": 26,
     "metadata": {},
     "output_type": "execute_result"
    }
   ],
   "source": [
    "df_out10.head()"
   ]
  },
  {
   "cell_type": "code",
   "execution_count": 27,
   "id": "b6c027c2",
   "metadata": {},
   "outputs": [],
   "source": [
    "df_out10.to_csv(\"df_out10.csv\", index=False)"
   ]
  },
  {
   "cell_type": "code",
   "execution_count": null,
   "id": "97d5d77a",
   "metadata": {},
   "outputs": [],
   "source": []
  }
 ],
 "metadata": {
  "kernelspec": {
   "display_name": ".venv",
   "language": "python",
   "name": "python3"
  },
  "language_info": {
   "codemirror_mode": {
    "name": "ipython",
    "version": 3
   },
   "file_extension": ".py",
   "mimetype": "text/x-python",
   "name": "python",
   "nbconvert_exporter": "python",
   "pygments_lexer": "ipython3",
   "version": "3.12.2"
  }
 },
 "nbformat": 4,
 "nbformat_minor": 5
}
