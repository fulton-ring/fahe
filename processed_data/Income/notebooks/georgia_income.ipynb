{
 "cells": [
  {
   "cell_type": "code",
   "execution_count": 1,
   "id": "ab88a28b",
   "metadata": {},
   "outputs": [],
   "source": [
    "import pandas as pd"
   ]
  },
  {
   "cell_type": "code",
   "execution_count": 2,
   "id": "354f5e0b",
   "metadata": {},
   "outputs": [],
   "source": [
    "df15 = pd.read_csv(r\"C:\\Users\\athar\\OneDrive\\Desktop\\fulton_ring\\fahe\\income\\georgia_income_15.csv\")\n",
    "df16 = pd.read_csv(r\"C:\\Users\\athar\\OneDrive\\Desktop\\fulton_ring\\fahe\\income\\georgia_income_16.csv\")\n",
    "df17 = pd.read_csv(r\"C:\\Users\\athar\\OneDrive\\Desktop\\fulton_ring\\fahe\\income\\georgia_income_17.csv\")\n",
    "df18 = pd.read_csv(r\"C:\\Users\\athar\\OneDrive\\Desktop\\fulton_ring\\fahe\\income\\georgia_income_18.csv\")\n",
    "df19 = pd.read_csv(r\"C:\\Users\\athar\\OneDrive\\Desktop\\fulton_ring\\fahe\\income\\georgia_income_19.csv\")\n",
    "df20 = pd.read_csv(r\"C:\\Users\\athar\\OneDrive\\Desktop\\fulton_ring\\fahe\\income\\georgia_income_20.csv\")\n",
    "df21 = pd.read_csv(r\"C:\\Users\\athar\\OneDrive\\Desktop\\fulton_ring\\fahe\\income\\georgia_income_21.csv\")\n",
    "df22 = pd.read_csv(r\"C:\\Users\\athar\\OneDrive\\Desktop\\fulton_ring\\fahe\\income\\georgia_income_22.csv\")\n",
    "df23 = pd.read_csv(r\"C:\\Users\\athar\\OneDrive\\Desktop\\fulton_ring\\fahe\\income\\georgia_income_23.csv\")"
   ]
  },
  {
   "cell_type": "code",
   "execution_count": 3,
   "id": "79916657",
   "metadata": {},
   "outputs": [],
   "source": [
    "df15['year'] = 2015\n",
    "df16['year'] = 2016\n",
    "df17['year'] = 2017\n",
    "df18['year'] = 2018\n",
    "df19['year'] = 2019\n",
    "df20['year'] = 2020\n",
    "df21['year'] = 2021\n",
    "df22['year'] = 2022\n",
    "df23['year'] = 2023"
   ]
  },
  {
   "cell_type": "code",
   "execution_count": 4,
   "id": "5979fd09",
   "metadata": {},
   "outputs": [],
   "source": [
    "# Combine them vertically\n",
    "df_all = pd.concat([df15, df16, df17, df18, df19, df20, df21, df22, df23], ignore_index=True)"
   ]
  },
  {
   "cell_type": "code",
   "execution_count": 5,
   "id": "7dae19c6",
   "metadata": {},
   "outputs": [
    {
     "name": "stderr",
     "output_type": "stream",
     "text": [
      "C:\\Users\\athar\\AppData\\Local\\Temp\\ipykernel_9796\\61925457.py:2: PerformanceWarning: DataFrame is highly fragmented.  This is usually the result of calling `frame.insert` many times, which has poor performance.  Consider joining all columns at once using pd.concat(axis=1) instead. To get a de-fragmented frame, use `newframe = frame.copy()`\n",
      "  df_all[['County', 'State']] = df_all['NAME'].str.split(',', expand=True)\n",
      "C:\\Users\\athar\\AppData\\Local\\Temp\\ipykernel_9796\\61925457.py:2: PerformanceWarning: DataFrame is highly fragmented.  This is usually the result of calling `frame.insert` many times, which has poor performance.  Consider joining all columns at once using pd.concat(axis=1) instead. To get a de-fragmented frame, use `newframe = frame.copy()`\n",
      "  df_all[['County', 'State']] = df_all['NAME'].str.split(',', expand=True)\n"
     ]
    }
   ],
   "source": [
    "# Split NAME column into County and State\n",
    "df_all[['County', 'State']] = df_all['NAME'].str.split(',', expand=True)"
   ]
  },
  {
   "cell_type": "code",
   "execution_count": 6,
   "id": "983402e5",
   "metadata": {},
   "outputs": [],
   "source": [
    "# Clean up extra spaces\n",
    "df_all['County'] = df_all['County'].str.strip()\n",
    "df_all['State'] = df_all['State'].str.strip()"
   ]
  },
  {
   "cell_type": "code",
   "execution_count": 7,
   "id": "fbabc190",
   "metadata": {},
   "outputs": [],
   "source": [
    "# Drop the original NAME column if not needed\n",
    "df_all = df_all.drop(columns=['NAME'])"
   ]
  },
  {
   "cell_type": "code",
   "execution_count": 9,
   "id": "4a8db617",
   "metadata": {},
   "outputs": [],
   "source": [
    "# Delete row at index 0\n",
    "df_all = df_all.drop(0)"
   ]
  },
  {
   "cell_type": "code",
   "execution_count": 10,
   "id": "bb6663e2",
   "metadata": {},
   "outputs": [],
   "source": [
    "# Reset index after deletion\n",
    "df_all = df_all.reset_index(drop=True)"
   ]
  },
  {
   "cell_type": "code",
   "execution_count": 11,
   "id": "57f241e6",
   "metadata": {},
   "outputs": [
    {
     "data": {
      "text/html": [
       "<div>\n",
       "<style scoped>\n",
       "    .dataframe tbody tr th:only-of-type {\n",
       "        vertical-align: middle;\n",
       "    }\n",
       "\n",
       "    .dataframe tbody tr th {\n",
       "        vertical-align: top;\n",
       "    }\n",
       "\n",
       "    .dataframe thead th {\n",
       "        text-align: right;\n",
       "    }\n",
       "</style>\n",
       "<table border=\"1\" class=\"dataframe\">\n",
       "  <thead>\n",
       "    <tr style=\"text-align: right;\">\n",
       "      <th></th>\n",
       "      <th>GEO_ID</th>\n",
       "      <th>S1901_C01_001E</th>\n",
       "      <th>S1901_C01_001M</th>\n",
       "      <th>S1901_C02_001E</th>\n",
       "      <th>S1901_C02_001M</th>\n",
       "      <th>S1901_C03_001E</th>\n",
       "      <th>S1901_C03_001M</th>\n",
       "      <th>S1901_C04_001E</th>\n",
       "      <th>S1901_C04_001M</th>\n",
       "      <th>S1901_C01_002E</th>\n",
       "      <th>...</th>\n",
       "      <th>S1901_C02_016E</th>\n",
       "      <th>S1901_C02_016M</th>\n",
       "      <th>S1901_C03_016E</th>\n",
       "      <th>S1901_C03_016M</th>\n",
       "      <th>S1901_C04_016E</th>\n",
       "      <th>S1901_C04_016M</th>\n",
       "      <th>Unnamed: 130</th>\n",
       "      <th>year</th>\n",
       "      <th>County</th>\n",
       "      <th>State</th>\n",
       "    </tr>\n",
       "  </thead>\n",
       "  <tbody>\n",
       "    <tr>\n",
       "      <th>0</th>\n",
       "      <td>0500000US13001</td>\n",
       "      <td>6812</td>\n",
       "      <td>235</td>\n",
       "      <td>4736</td>\n",
       "      <td>306</td>\n",
       "      <td>3461</td>\n",
       "      <td>305</td>\n",
       "      <td>2076</td>\n",
       "      <td>262</td>\n",
       "      <td>13.2</td>\n",
       "      <td>...</td>\n",
       "      <td>(X)</td>\n",
       "      <td>(X)</td>\n",
       "      <td>(X)</td>\n",
       "      <td>(X)</td>\n",
       "      <td>36.3</td>\n",
       "      <td>(X)</td>\n",
       "      <td>NaN</td>\n",
       "      <td>2015</td>\n",
       "      <td>Appling County</td>\n",
       "      <td>Georgia</td>\n",
       "    </tr>\n",
       "    <tr>\n",
       "      <th>1</th>\n",
       "      <td>0500000US13003</td>\n",
       "      <td>2772</td>\n",
       "      <td>112</td>\n",
       "      <td>1861</td>\n",
       "      <td>151</td>\n",
       "      <td>1343</td>\n",
       "      <td>136</td>\n",
       "      <td>911</td>\n",
       "      <td>121</td>\n",
       "      <td>12.2</td>\n",
       "      <td>...</td>\n",
       "      <td>(X)</td>\n",
       "      <td>(X)</td>\n",
       "      <td>(X)</td>\n",
       "      <td>(X)</td>\n",
       "      <td>29.4</td>\n",
       "      <td>(X)</td>\n",
       "      <td>NaN</td>\n",
       "      <td>2015</td>\n",
       "      <td>Atkinson County</td>\n",
       "      <td>Georgia</td>\n",
       "    </tr>\n",
       "    <tr>\n",
       "      <th>2</th>\n",
       "      <td>0500000US13005</td>\n",
       "      <td>3951</td>\n",
       "      <td>172</td>\n",
       "      <td>2698</td>\n",
       "      <td>195</td>\n",
       "      <td>2074</td>\n",
       "      <td>196</td>\n",
       "      <td>1253</td>\n",
       "      <td>185</td>\n",
       "      <td>11.9</td>\n",
       "      <td>...</td>\n",
       "      <td>(X)</td>\n",
       "      <td>(X)</td>\n",
       "      <td>(X)</td>\n",
       "      <td>(X)</td>\n",
       "      <td>54.0</td>\n",
       "      <td>(X)</td>\n",
       "      <td>NaN</td>\n",
       "      <td>2015</td>\n",
       "      <td>Bacon County</td>\n",
       "      <td>Georgia</td>\n",
       "    </tr>\n",
       "    <tr>\n",
       "      <th>3</th>\n",
       "      <td>0500000US13007</td>\n",
       "      <td>1291</td>\n",
       "      <td>124</td>\n",
       "      <td>864</td>\n",
       "      <td>80</td>\n",
       "      <td>617</td>\n",
       "      <td>87</td>\n",
       "      <td>427</td>\n",
       "      <td>114</td>\n",
       "      <td>13.9</td>\n",
       "      <td>...</td>\n",
       "      <td>(X)</td>\n",
       "      <td>(X)</td>\n",
       "      <td>(X)</td>\n",
       "      <td>(X)</td>\n",
       "      <td>56.0</td>\n",
       "      <td>(X)</td>\n",
       "      <td>NaN</td>\n",
       "      <td>2015</td>\n",
       "      <td>Baker County</td>\n",
       "      <td>Georgia</td>\n",
       "    </tr>\n",
       "    <tr>\n",
       "      <th>4</th>\n",
       "      <td>0500000US13009</td>\n",
       "      <td>15978</td>\n",
       "      <td>477</td>\n",
       "      <td>9198</td>\n",
       "      <td>497</td>\n",
       "      <td>5823</td>\n",
       "      <td>535</td>\n",
       "      <td>6780</td>\n",
       "      <td>509</td>\n",
       "      <td>16.3</td>\n",
       "      <td>...</td>\n",
       "      <td>(X)</td>\n",
       "      <td>(X)</td>\n",
       "      <td>(X)</td>\n",
       "      <td>(X)</td>\n",
       "      <td>42.3</td>\n",
       "      <td>(X)</td>\n",
       "      <td>NaN</td>\n",
       "      <td>2015</td>\n",
       "      <td>Baldwin County</td>\n",
       "      <td>Georgia</td>\n",
       "    </tr>\n",
       "  </tbody>\n",
       "</table>\n",
       "<p>5 rows × 133 columns</p>\n",
       "</div>"
      ],
      "text/plain": [
       "           GEO_ID S1901_C01_001E S1901_C01_001M S1901_C02_001E S1901_C02_001M  \\\n",
       "0  0500000US13001           6812            235           4736            306   \n",
       "1  0500000US13003           2772            112           1861            151   \n",
       "2  0500000US13005           3951            172           2698            195   \n",
       "3  0500000US13007           1291            124            864             80   \n",
       "4  0500000US13009          15978            477           9198            497   \n",
       "\n",
       "  S1901_C03_001E S1901_C03_001M S1901_C04_001E S1901_C04_001M S1901_C01_002E  \\\n",
       "0           3461            305           2076            262           13.2   \n",
       "1           1343            136            911            121           12.2   \n",
       "2           2074            196           1253            185           11.9   \n",
       "3            617             87            427            114           13.9   \n",
       "4           5823            535           6780            509           16.3   \n",
       "\n",
       "   ... S1901_C02_016E S1901_C02_016M S1901_C03_016E S1901_C03_016M  \\\n",
       "0  ...            (X)            (X)            (X)            (X)   \n",
       "1  ...            (X)            (X)            (X)            (X)   \n",
       "2  ...            (X)            (X)            (X)            (X)   \n",
       "3  ...            (X)            (X)            (X)            (X)   \n",
       "4  ...            (X)            (X)            (X)            (X)   \n",
       "\n",
       "  S1901_C04_016E S1901_C04_016M Unnamed: 130  year           County    State  \n",
       "0           36.3            (X)          NaN  2015   Appling County  Georgia  \n",
       "1           29.4            (X)          NaN  2015  Atkinson County  Georgia  \n",
       "2           54.0            (X)          NaN  2015     Bacon County  Georgia  \n",
       "3           56.0            (X)          NaN  2015     Baker County  Georgia  \n",
       "4           42.3            (X)          NaN  2015   Baldwin County  Georgia  \n",
       "\n",
       "[5 rows x 133 columns]"
      ]
     },
     "execution_count": 11,
     "metadata": {},
     "output_type": "execute_result"
    }
   ],
   "source": [
    "df_all.head()"
   ]
  },
  {
   "cell_type": "code",
   "execution_count": 12,
   "id": "322e12b4",
   "metadata": {},
   "outputs": [],
   "source": [
    "# Remove the word \"County\" from County column\n",
    "df_all['County'] = df_all['County'].str.replace('County', '', regex=False).str.strip()"
   ]
  },
  {
   "cell_type": "code",
   "execution_count": 13,
   "id": "8ac54e13",
   "metadata": {},
   "outputs": [],
   "source": [
    "# Reorder columns: GEO_ID, year, County, State, then the rest\n",
    "cols = df_all.columns.tolist()"
   ]
  },
  {
   "cell_type": "code",
   "execution_count": 14,
   "id": "085dc509",
   "metadata": {},
   "outputs": [],
   "source": [
    "# Ensure order\n",
    "new_order = ['GEO_ID', 'year', 'County', 'State'] + [col for col in cols if col not in ['GEO_ID', 'year', 'County', 'State']]\n"
   ]
  },
  {
   "cell_type": "code",
   "execution_count": 15,
   "id": "e387e8a9",
   "metadata": {},
   "outputs": [],
   "source": [
    "df_all = df_all[new_order]"
   ]
  },
  {
   "cell_type": "code",
   "execution_count": 16,
   "id": "23d35d43",
   "metadata": {},
   "outputs": [],
   "source": [
    "keep = [\n",
    "    \"GEO_ID\", \"NAME\", \"State\", \"County\", \"year\",\n",
    "    \"S1901_C01_001E\",      # total households\n",
    "    \"S1901_C01_012E\"       # mean household income (avg per household)\n",
    "]"
   ]
  },
  {
   "cell_type": "code",
   "execution_count": 17,
   "id": "173893e1",
   "metadata": {},
   "outputs": [],
   "source": [
    "# Filter to the columns that exist, then rename\n",
    "existing = [c for c in keep if c in df_all.columns]"
   ]
  },
  {
   "cell_type": "code",
   "execution_count": 18,
   "id": "e44550d3",
   "metadata": {},
   "outputs": [],
   "source": [
    "renamed = {\n",
    "    \"S1901_C01_001E\": \"Number of households\",\n",
    "    \"S1901_C01_012E\": \"Average income (per household)\",\n",
    "    \"NAME\": \"Geographic Area Name\"\n",
    "}"
   ]
  },
  {
   "cell_type": "code",
   "execution_count": 19,
   "id": "52bdfa79",
   "metadata": {},
   "outputs": [],
   "source": [
    "df_out = df_all[existing].rename(columns=renamed)"
   ]
  },
  {
   "cell_type": "code",
   "execution_count": 20,
   "id": "e1675dfe",
   "metadata": {},
   "outputs": [
    {
     "data": {
      "text/html": [
       "<div>\n",
       "<style scoped>\n",
       "    .dataframe tbody tr th:only-of-type {\n",
       "        vertical-align: middle;\n",
       "    }\n",
       "\n",
       "    .dataframe tbody tr th {\n",
       "        vertical-align: top;\n",
       "    }\n",
       "\n",
       "    .dataframe thead th {\n",
       "        text-align: right;\n",
       "    }\n",
       "</style>\n",
       "<table border=\"1\" class=\"dataframe\">\n",
       "  <thead>\n",
       "    <tr style=\"text-align: right;\">\n",
       "      <th></th>\n",
       "      <th>GEO_ID</th>\n",
       "      <th>State</th>\n",
       "      <th>County</th>\n",
       "      <th>year</th>\n",
       "      <th>Number of households</th>\n",
       "      <th>Average income (per household)</th>\n",
       "    </tr>\n",
       "  </thead>\n",
       "  <tbody>\n",
       "    <tr>\n",
       "      <th>0</th>\n",
       "      <td>0500000US13001</td>\n",
       "      <td>Georgia</td>\n",
       "      <td>Appling</td>\n",
       "      <td>2015</td>\n",
       "      <td>6812</td>\n",
       "      <td>37135</td>\n",
       "    </tr>\n",
       "    <tr>\n",
       "      <th>1</th>\n",
       "      <td>0500000US13003</td>\n",
       "      <td>Georgia</td>\n",
       "      <td>Atkinson</td>\n",
       "      <td>2015</td>\n",
       "      <td>2772</td>\n",
       "      <td>30933</td>\n",
       "    </tr>\n",
       "    <tr>\n",
       "      <th>2</th>\n",
       "      <td>0500000US13005</td>\n",
       "      <td>Georgia</td>\n",
       "      <td>Bacon</td>\n",
       "      <td>2015</td>\n",
       "      <td>3951</td>\n",
       "      <td>37162</td>\n",
       "    </tr>\n",
       "    <tr>\n",
       "      <th>3</th>\n",
       "      <td>0500000US13007</td>\n",
       "      <td>Georgia</td>\n",
       "      <td>Baker</td>\n",
       "      <td>2015</td>\n",
       "      <td>1291</td>\n",
       "      <td>44297</td>\n",
       "    </tr>\n",
       "    <tr>\n",
       "      <th>4</th>\n",
       "      <td>0500000US13009</td>\n",
       "      <td>Georgia</td>\n",
       "      <td>Baldwin</td>\n",
       "      <td>2015</td>\n",
       "      <td>15978</td>\n",
       "      <td>32460</td>\n",
       "    </tr>\n",
       "  </tbody>\n",
       "</table>\n",
       "</div>"
      ],
      "text/plain": [
       "           GEO_ID    State    County  year Number of households  \\\n",
       "0  0500000US13001  Georgia   Appling  2015                 6812   \n",
       "1  0500000US13003  Georgia  Atkinson  2015                 2772   \n",
       "2  0500000US13005  Georgia     Bacon  2015                 3951   \n",
       "3  0500000US13007  Georgia     Baker  2015                 1291   \n",
       "4  0500000US13009  Georgia   Baldwin  2015                15978   \n",
       "\n",
       "  Average income (per household)  \n",
       "0                          37135  \n",
       "1                          30933  \n",
       "2                          37162  \n",
       "3                          44297  \n",
       "4                          32460  "
      ]
     },
     "execution_count": 20,
     "metadata": {},
     "output_type": "execute_result"
    }
   ],
   "source": [
    "df_out.head()"
   ]
  },
  {
   "cell_type": "code",
   "execution_count": 21,
   "id": "29c766b6",
   "metadata": {},
   "outputs": [],
   "source": [
    "keep_county = pd.read_csv(r\"C:\\Users\\athar\\OneDrive\\Desktop\\fulton_ring\\fahe\\appalachian_counties.csv\")"
   ]
  },
  {
   "cell_type": "code",
   "execution_count": 22,
   "id": "dd9eddcd",
   "metadata": {},
   "outputs": [],
   "source": [
    "keep_gg = keep_county[keep_county[\"state\"] == \"Georgia\"]"
   ]
  },
  {
   "cell_type": "code",
   "execution_count": 23,
   "id": "6acc4098",
   "metadata": {},
   "outputs": [],
   "source": [
    "# Make a set of counties from keep_alabama\n",
    "gg_counties = set(keep_gg[\"county\"])"
   ]
  },
  {
   "cell_type": "code",
   "execution_count": 26,
   "id": "284e0ec8",
   "metadata": {},
   "outputs": [],
   "source": [
    "# Keep only rows in df_out where 'County' is in that list\n",
    "df_out2 = df_out[df_out[\"County\"].isin(gg_counties)]"
   ]
  },
  {
   "cell_type": "code",
   "execution_count": null,
   "id": "90e0d950",
   "metadata": {},
   "outputs": [
    {
     "data": {
      "text/html": [
       "<div>\n",
       "<style scoped>\n",
       "    .dataframe tbody tr th:only-of-type {\n",
       "        vertical-align: middle;\n",
       "    }\n",
       "\n",
       "    .dataframe tbody tr th {\n",
       "        vertical-align: top;\n",
       "    }\n",
       "\n",
       "    .dataframe thead th {\n",
       "        text-align: right;\n",
       "    }\n",
       "</style>\n",
       "<table border=\"1\" class=\"dataframe\">\n",
       "  <thead>\n",
       "    <tr style=\"text-align: right;\">\n",
       "      <th></th>\n",
       "      <th>GEO_ID</th>\n",
       "      <th>State</th>\n",
       "      <th>County</th>\n",
       "      <th>year</th>\n",
       "      <th>Number of households</th>\n",
       "      <th>Average income (per household)</th>\n",
       "    </tr>\n",
       "  </thead>\n",
       "  <tbody>\n",
       "    <tr>\n",
       "      <th>5</th>\n",
       "      <td>0500000US13011</td>\n",
       "      <td>Georgia</td>\n",
       "      <td>Banks</td>\n",
       "      <td>2015</td>\n",
       "      <td>6553</td>\n",
       "      <td>41472</td>\n",
       "    </tr>\n",
       "    <tr>\n",
       "      <th>6</th>\n",
       "      <td>0500000US13013</td>\n",
       "      <td>Georgia</td>\n",
       "      <td>Barrow</td>\n",
       "      <td>2015</td>\n",
       "      <td>23560</td>\n",
       "      <td>52012</td>\n",
       "    </tr>\n",
       "    <tr>\n",
       "      <th>7</th>\n",
       "      <td>0500000US13015</td>\n",
       "      <td>Georgia</td>\n",
       "      <td>Bartow</td>\n",
       "      <td>2015</td>\n",
       "      <td>35732</td>\n",
       "      <td>48893</td>\n",
       "    </tr>\n",
       "    <tr>\n",
       "      <th>21</th>\n",
       "      <td>0500000US13045</td>\n",
       "      <td>Georgia</td>\n",
       "      <td>Carroll</td>\n",
       "      <td>2015</td>\n",
       "      <td>40074</td>\n",
       "      <td>43586</td>\n",
       "    </tr>\n",
       "    <tr>\n",
       "      <th>22</th>\n",
       "      <td>0500000US13047</td>\n",
       "      <td>Georgia</td>\n",
       "      <td>Catoosa</td>\n",
       "      <td>2015</td>\n",
       "      <td>23943</td>\n",
       "      <td>50876</td>\n",
       "    </tr>\n",
       "  </tbody>\n",
       "</table>\n",
       "</div>"
      ],
      "text/plain": [
       "            GEO_ID    State   County  year Number of households  \\\n",
       "5   0500000US13011  Georgia    Banks  2015                 6553   \n",
       "6   0500000US13013  Georgia   Barrow  2015                23560   \n",
       "7   0500000US13015  Georgia   Bartow  2015                35732   \n",
       "21  0500000US13045  Georgia  Carroll  2015                40074   \n",
       "22  0500000US13047  Georgia  Catoosa  2015                23943   \n",
       "\n",
       "   Average income (per household)  \n",
       "5                           41472  \n",
       "6                           52012  \n",
       "7                           48893  \n",
       "21                          43586  \n",
       "22                          50876  "
      ]
     },
     "execution_count": 25,
     "metadata": {},
     "output_type": "execute_result"
    }
   ],
   "source": [
    "df_out2.head()"
   ]
  },
  {
   "cell_type": "code",
   "execution_count": 27,
   "id": "1cbea4f2",
   "metadata": {},
   "outputs": [],
   "source": [
    "df_out2.to_csv(\"df_out2.csv\", index=False)"
   ]
  }
 ],
 "metadata": {
  "kernelspec": {
   "display_name": ".venv",
   "language": "python",
   "name": "python3"
  },
  "language_info": {
   "codemirror_mode": {
    "name": "ipython",
    "version": 3
   },
   "file_extension": ".py",
   "mimetype": "text/x-python",
   "name": "python",
   "nbconvert_exporter": "python",
   "pygments_lexer": "ipython3",
   "version": "3.12.2"
  }
 },
 "nbformat": 4,
 "nbformat_minor": 5
}
