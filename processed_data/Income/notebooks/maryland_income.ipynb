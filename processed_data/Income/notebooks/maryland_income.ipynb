{
 "cells": [
  {
   "cell_type": "code",
   "execution_count": 1,
   "id": "ed321028",
   "metadata": {},
   "outputs": [],
   "source": [
    "import pandas as pd\n"
   ]
  },
  {
   "cell_type": "code",
   "execution_count": 2,
   "id": "9bfe8d9f",
   "metadata": {},
   "outputs": [],
   "source": [
    "df15 = pd.read_csv(r\"C:\\Users\\athar\\OneDrive\\Desktop\\fulton_ring\\fahe\\income\\maryland_income_15.csv\")\n",
    "df16 = pd.read_csv(r\"C:\\Users\\athar\\OneDrive\\Desktop\\fulton_ring\\fahe\\income\\maryland_income_16.csv\")\n",
    "df17 = pd.read_csv(r\"C:\\Users\\athar\\OneDrive\\Desktop\\fulton_ring\\fahe\\income\\maryland_income_17.csv\")\n",
    "df18 = pd.read_csv(r\"C:\\Users\\athar\\OneDrive\\Desktop\\fulton_ring\\fahe\\income\\maryland_income_18.csv\")\n",
    "df19 = pd.read_csv(r\"C:\\Users\\athar\\OneDrive\\Desktop\\fulton_ring\\fahe\\income\\maryland_income_19.csv\")\n",
    "df20 = pd.read_csv(r\"C:\\Users\\athar\\OneDrive\\Desktop\\fulton_ring\\fahe\\income\\maryland_income_20.csv\")\n",
    "df21 = pd.read_csv(r\"C:\\Users\\athar\\OneDrive\\Desktop\\fulton_ring\\fahe\\income\\maryland_income_21.csv\")\n",
    "df22 = pd.read_csv(r\"C:\\Users\\athar\\OneDrive\\Desktop\\fulton_ring\\fahe\\income\\maryland_income_22.csv\")\n",
    "df23 = pd.read_csv(r\"C:\\Users\\athar\\OneDrive\\Desktop\\fulton_ring\\fahe\\income\\maryland_income_23.csv\")"
   ]
  },
  {
   "cell_type": "code",
   "execution_count": 3,
   "id": "9c6d7a0c",
   "metadata": {},
   "outputs": [],
   "source": [
    "df15['year'] = 2015\n",
    "df16['year'] = 2016\n",
    "df17['year'] = 2017\n",
    "df18['year'] = 2018\n",
    "df19['year'] = 2019\n",
    "df20['year'] = 2020\n",
    "df21['year'] = 2021\n",
    "df22['year'] = 2022\n",
    "df23['year'] = 2023"
   ]
  },
  {
   "cell_type": "code",
   "execution_count": 4,
   "id": "af6de0e5",
   "metadata": {},
   "outputs": [],
   "source": [
    "df_all = pd.concat([df15, df16, df17, df18, df19, df20, df21, df22, df23], ignore_index=True)\n"
   ]
  },
  {
   "cell_type": "code",
   "execution_count": 5,
   "id": "a465fd95",
   "metadata": {},
   "outputs": [
    {
     "name": "stderr",
     "output_type": "stream",
     "text": [
      "C:\\Users\\athar\\AppData\\Local\\Temp\\ipykernel_42044\\61925457.py:2: PerformanceWarning: DataFrame is highly fragmented.  This is usually the result of calling `frame.insert` many times, which has poor performance.  Consider joining all columns at once using pd.concat(axis=1) instead. To get a de-fragmented frame, use `newframe = frame.copy()`\n",
      "  df_all[['County', 'State']] = df_all['NAME'].str.split(',', expand=True)\n",
      "C:\\Users\\athar\\AppData\\Local\\Temp\\ipykernel_42044\\61925457.py:2: PerformanceWarning: DataFrame is highly fragmented.  This is usually the result of calling `frame.insert` many times, which has poor performance.  Consider joining all columns at once using pd.concat(axis=1) instead. To get a de-fragmented frame, use `newframe = frame.copy()`\n",
      "  df_all[['County', 'State']] = df_all['NAME'].str.split(',', expand=True)\n"
     ]
    }
   ],
   "source": [
    "# Split NAME column into County and State\n",
    "df_all[['County', 'State']] = df_all['NAME'].str.split(',', expand=True)"
   ]
  },
  {
   "cell_type": "code",
   "execution_count": 6,
   "id": "95b02054",
   "metadata": {},
   "outputs": [],
   "source": [
    "# Clean up extra spaces\n",
    "df_all['County'] = df_all['County'].str.strip()\n",
    "df_all['State'] = df_all['State'].str.strip()"
   ]
  },
  {
   "cell_type": "code",
   "execution_count": 7,
   "id": "9fe41d08",
   "metadata": {},
   "outputs": [],
   "source": [
    "# Drop the original NAME column if not needed\n",
    "df_all = df_all.drop(columns=['NAME'])"
   ]
  },
  {
   "cell_type": "code",
   "execution_count": 9,
   "id": "3074aa9c",
   "metadata": {},
   "outputs": [],
   "source": [
    "# Delete row at index 0\n",
    "df_all = df_all.drop(0)\n",
    "# Reset index after deletion\n",
    "df_all = df_all.reset_index(drop=True)"
   ]
  },
  {
   "cell_type": "code",
   "execution_count": 10,
   "id": "c8ac3e93",
   "metadata": {},
   "outputs": [],
   "source": [
    "# Remove the word \"County\" from County column\n",
    "df_all['County'] = df_all['County'].str.replace('County', '', regex=False).str.strip()"
   ]
  },
  {
   "cell_type": "code",
   "execution_count": 11,
   "id": "544312be",
   "metadata": {},
   "outputs": [],
   "source": [
    "# Reorder columns: GEO_ID, year, County, State, then the rest\n",
    "cols = df_all.columns.tolist()"
   ]
  },
  {
   "cell_type": "code",
   "execution_count": 12,
   "id": "6ea062fc",
   "metadata": {},
   "outputs": [],
   "source": [
    "# Ensure order\n",
    "new_order = ['GEO_ID', 'year', 'County', 'State'] + [col for col in cols if col not in ['GEO_ID', 'year', 'County', 'State']]\n"
   ]
  },
  {
   "cell_type": "code",
   "execution_count": 13,
   "id": "7f3275bc",
   "metadata": {},
   "outputs": [],
   "source": [
    "df_all = df_all[new_order]"
   ]
  },
  {
   "cell_type": "code",
   "execution_count": 14,
   "id": "fad876ed",
   "metadata": {},
   "outputs": [],
   "source": [
    "keep = [\n",
    "    \"GEO_ID\", \"NAME\", \"State\", \"County\", \"year\",\n",
    "    \"S1901_C01_001E\",      # total households\n",
    "    \"S1901_C01_012E\"       # mean household income (avg per household)\n",
    "]"
   ]
  },
  {
   "cell_type": "code",
   "execution_count": 16,
   "id": "5c03d341",
   "metadata": {},
   "outputs": [],
   "source": [
    "# Filter to the columns that exist, then rename\n",
    "existing = [c for c in keep if c in df_all.columns]"
   ]
  },
  {
   "cell_type": "code",
   "execution_count": 17,
   "id": "3e6d3297",
   "metadata": {},
   "outputs": [],
   "source": [
    "renamed = {\n",
    "    \"S1901_C01_001E\": \"Number of households\",\n",
    "    \"S1901_C01_012E\": \"Average income (per household)\",\n",
    "    \"NAME\": \"Geographic Area Name\"\n",
    "}"
   ]
  },
  {
   "cell_type": "code",
   "execution_count": 18,
   "id": "4a16053b",
   "metadata": {},
   "outputs": [],
   "source": [
    "df_out = df_all[existing].rename(columns=renamed)"
   ]
  },
  {
   "cell_type": "code",
   "execution_count": 19,
   "id": "d86577e5",
   "metadata": {},
   "outputs": [],
   "source": [
    "keep_county = pd.read_csv(r\"C:\\Users\\athar\\OneDrive\\Desktop\\fulton_ring\\fahe\\appalachian_counties.csv\")"
   ]
  },
  {
   "cell_type": "code",
   "execution_count": 20,
   "id": "aa77a5f4",
   "metadata": {},
   "outputs": [],
   "source": [
    "keep_ml = keep_county[keep_county[\"state\"] == \"Maryland\"]"
   ]
  },
  {
   "cell_type": "code",
   "execution_count": 21,
   "id": "21af2fa6",
   "metadata": {},
   "outputs": [],
   "source": [
    "ml_counties = set(keep_ml[\"county\"])"
   ]
  },
  {
   "cell_type": "code",
   "execution_count": 22,
   "id": "c26803d3",
   "metadata": {},
   "outputs": [],
   "source": [
    "# Keep only rows in df_out where 'County' is in that list\n",
    "df_out4 = df_out[df_out[\"County\"].isin(ml_counties)]"
   ]
  },
  {
   "cell_type": "code",
   "execution_count": 23,
   "id": "ebf0da16",
   "metadata": {},
   "outputs": [
    {
     "data": {
      "text/html": [
       "<div>\n",
       "<style scoped>\n",
       "    .dataframe tbody tr th:only-of-type {\n",
       "        vertical-align: middle;\n",
       "    }\n",
       "\n",
       "    .dataframe tbody tr th {\n",
       "        vertical-align: top;\n",
       "    }\n",
       "\n",
       "    .dataframe thead th {\n",
       "        text-align: right;\n",
       "    }\n",
       "</style>\n",
       "<table border=\"1\" class=\"dataframe\">\n",
       "  <thead>\n",
       "    <tr style=\"text-align: right;\">\n",
       "      <th></th>\n",
       "      <th>GEO_ID</th>\n",
       "      <th>State</th>\n",
       "      <th>County</th>\n",
       "      <th>year</th>\n",
       "      <th>Number of households</th>\n",
       "      <th>Average income (per household)</th>\n",
       "    </tr>\n",
       "  </thead>\n",
       "  <tbody>\n",
       "    <tr>\n",
       "      <th>0</th>\n",
       "      <td>0500000US24001</td>\n",
       "      <td>Maryland</td>\n",
       "      <td>Allegany</td>\n",
       "      <td>2015</td>\n",
       "      <td>28324</td>\n",
       "      <td>40551</td>\n",
       "    </tr>\n",
       "    <tr>\n",
       "      <th>10</th>\n",
       "      <td>0500000US24023</td>\n",
       "      <td>Maryland</td>\n",
       "      <td>Garrett</td>\n",
       "      <td>2015</td>\n",
       "      <td>11863</td>\n",
       "      <td>45432</td>\n",
       "    </tr>\n",
       "    <tr>\n",
       "      <th>20</th>\n",
       "      <td>0500000US24043</td>\n",
       "      <td>Maryland</td>\n",
       "      <td>Washington</td>\n",
       "      <td>2015</td>\n",
       "      <td>56067</td>\n",
       "      <td>56228</td>\n",
       "    </tr>\n",
       "    <tr>\n",
       "      <th>25</th>\n",
       "      <td>0500000US24001</td>\n",
       "      <td>Maryland</td>\n",
       "      <td>Allegany</td>\n",
       "      <td>2016</td>\n",
       "      <td>28167</td>\n",
       "      <td>41559</td>\n",
       "    </tr>\n",
       "    <tr>\n",
       "      <th>35</th>\n",
       "      <td>0500000US24023</td>\n",
       "      <td>Maryland</td>\n",
       "      <td>Garrett</td>\n",
       "      <td>2016</td>\n",
       "      <td>11644</td>\n",
       "      <td>46277</td>\n",
       "    </tr>\n",
       "  </tbody>\n",
       "</table>\n",
       "</div>"
      ],
      "text/plain": [
       "            GEO_ID     State      County  year Number of households  \\\n",
       "0   0500000US24001  Maryland    Allegany  2015                28324   \n",
       "10  0500000US24023  Maryland     Garrett  2015                11863   \n",
       "20  0500000US24043  Maryland  Washington  2015                56067   \n",
       "25  0500000US24001  Maryland    Allegany  2016                28167   \n",
       "35  0500000US24023  Maryland     Garrett  2016                11644   \n",
       "\n",
       "   Average income (per household)  \n",
       "0                           40551  \n",
       "10                          45432  \n",
       "20                          56228  \n",
       "25                          41559  \n",
       "35                          46277  "
      ]
     },
     "execution_count": 23,
     "metadata": {},
     "output_type": "execute_result"
    }
   ],
   "source": [
    "df_out4.head()"
   ]
  },
  {
   "cell_type": "code",
   "execution_count": 24,
   "id": "a0b4108d",
   "metadata": {},
   "outputs": [],
   "source": [
    "df_out4.to_csv(\"df_out4.csv\", index=False)"
   ]
  },
  {
   "cell_type": "code",
   "execution_count": null,
   "id": "78429af8",
   "metadata": {},
   "outputs": [],
   "source": []
  }
 ],
 "metadata": {
  "kernelspec": {
   "display_name": ".venv",
   "language": "python",
   "name": "python3"
  },
  "language_info": {
   "codemirror_mode": {
    "name": "ipython",
    "version": 3
   },
   "file_extension": ".py",
   "mimetype": "text/x-python",
   "name": "python",
   "nbconvert_exporter": "python",
   "pygments_lexer": "ipython3",
   "version": "3.12.2"
  }
 },
 "nbformat": 4,
 "nbformat_minor": 5
}
