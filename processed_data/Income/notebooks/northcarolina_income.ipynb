{
 "cells": [
  {
   "cell_type": "code",
   "execution_count": null,
   "id": "cc9b68b1",
   "metadata": {},
   "outputs": [],
   "source": [
    "import pandas as pda"
   ]
  },
  {
   "cell_type": "code",
   "execution_count": 2,
   "id": "701adfa1",
   "metadata": {},
   "outputs": [],
   "source": [
    "df15 = pd.read_csv(r\"C:\\Users\\athar\\OneDrive\\Desktop\\fulton_ring\\fahe\\income\\nc_income_15.csv\")\n",
    "df16 = pd.read_csv(r\"C:\\Users\\athar\\OneDrive\\Desktop\\fulton_ring\\fahe\\income\\nc_income_16.csv\")\n",
    "df17 = pd.read_csv(r\"C:\\Users\\athar\\OneDrive\\Desktop\\fulton_ring\\fahe\\income\\nc_income_17.csv\")\n",
    "df18 = pd.read_csv(r\"C:\\Users\\athar\\OneDrive\\Desktop\\fulton_ring\\fahe\\income\\nc_income_18.csv\")\n",
    "df19 = pd.read_csv(r\"C:\\Users\\athar\\OneDrive\\Desktop\\fulton_ring\\fahe\\income\\nc_income_19.csv\")\n",
    "df20 = pd.read_csv(r\"C:\\Users\\athar\\OneDrive\\Desktop\\fulton_ring\\fahe\\income\\nc_income_20.csv\")\n",
    "df21 = pd.read_csv(r\"C:\\Users\\athar\\OneDrive\\Desktop\\fulton_ring\\fahe\\income\\nc_income_21.csv\")\n",
    "df22 = pd.read_csv(r\"C:\\Users\\athar\\OneDrive\\Desktop\\fulton_ring\\fahe\\income\\nc_income_22.csv\")\n",
    "df23 = pd.read_csv(r\"C:\\Users\\athar\\OneDrive\\Desktop\\fulton_ring\\fahe\\income\\nc_income_23.csv\")"
   ]
  },
  {
   "cell_type": "code",
   "execution_count": 3,
   "id": "c8bd1471",
   "metadata": {},
   "outputs": [],
   "source": [
    "df15['year'] = 2015\n",
    "df16['year'] = 2016\n",
    "df17['year'] = 2017\n",
    "df18['year'] = 2018\n",
    "df19['year'] = 2019\n",
    "df20['year'] = 2020\n",
    "df21['year'] = 2021\n",
    "df22['year'] = 2022\n",
    "df23['year'] = 2023"
   ]
  },
  {
   "cell_type": "code",
   "execution_count": 4,
   "id": "ed97ca4b",
   "metadata": {},
   "outputs": [],
   "source": [
    "df_all = pd.concat([df15, df16, df17, df18, df19, df20, df21, df22, df23], ignore_index=True)\n"
   ]
  },
  {
   "cell_type": "code",
   "execution_count": 5,
   "id": "2a1b62d6",
   "metadata": {},
   "outputs": [
    {
     "name": "stderr",
     "output_type": "stream",
     "text": [
      "C:\\Users\\athar\\AppData\\Local\\Temp\\ipykernel_15436\\61925457.py:2: PerformanceWarning: DataFrame is highly fragmented.  This is usually the result of calling `frame.insert` many times, which has poor performance.  Consider joining all columns at once using pd.concat(axis=1) instead. To get a de-fragmented frame, use `newframe = frame.copy()`\n",
      "  df_all[['County', 'State']] = df_all['NAME'].str.split(',', expand=True)\n",
      "C:\\Users\\athar\\AppData\\Local\\Temp\\ipykernel_15436\\61925457.py:2: PerformanceWarning: DataFrame is highly fragmented.  This is usually the result of calling `frame.insert` many times, which has poor performance.  Consider joining all columns at once using pd.concat(axis=1) instead. To get a de-fragmented frame, use `newframe = frame.copy()`\n",
      "  df_all[['County', 'State']] = df_all['NAME'].str.split(',', expand=True)\n"
     ]
    }
   ],
   "source": [
    "# Split NAME column into County and State\n",
    "df_all[['County', 'State']] = df_all['NAME'].str.split(',', expand=True)"
   ]
  },
  {
   "cell_type": "code",
   "execution_count": 6,
   "id": "39348bf5",
   "metadata": {},
   "outputs": [],
   "source": [
    "# Clean up extra spaces\n",
    "df_all['County'] = df_all['County'].str.strip()\n",
    "df_all['State'] = df_all['State'].str.strip()"
   ]
  },
  {
   "cell_type": "code",
   "execution_count": 7,
   "id": "d9dd1296",
   "metadata": {},
   "outputs": [],
   "source": [
    "# Drop the original NAME column if not needed\n",
    "df_all = df_all.drop(columns=['NAME'])"
   ]
  },
  {
   "cell_type": "code",
   "execution_count": 8,
   "id": "f2aaffb4",
   "metadata": {},
   "outputs": [],
   "source": [
    "# Delete row at index 0\n",
    "df_all = df_all.drop(0)\n",
    "# Reset index after deletion\n",
    "df_all = df_all.reset_index(drop=True)"
   ]
  },
  {
   "cell_type": "code",
   "execution_count": 9,
   "id": "bf8a85fb",
   "metadata": {},
   "outputs": [],
   "source": [
    "# Remove the word \"County\" from County column\n",
    "df_all['County'] = df_all['County'].str.replace('County', '', regex=False).str.strip()"
   ]
  },
  {
   "cell_type": "code",
   "execution_count": 10,
   "id": "c2a070ae",
   "metadata": {},
   "outputs": [],
   "source": [
    "# Reorder columns: GEO_ID, year, County, State, then the rest\n",
    "cols = df_all.columns.tolist()"
   ]
  },
  {
   "cell_type": "code",
   "execution_count": 11,
   "id": "71ec021f",
   "metadata": {},
   "outputs": [],
   "source": [
    "# Ensure order\n",
    "new_order = ['GEO_ID', 'year', 'County', 'State'] + [col for col in cols if col not in ['GEO_ID', 'year', 'County', 'State']]\n"
   ]
  },
  {
   "cell_type": "code",
   "execution_count": 12,
   "id": "ef71dcc6",
   "metadata": {},
   "outputs": [],
   "source": [
    "df_all = df_all[new_order]"
   ]
  },
  {
   "cell_type": "code",
   "execution_count": 13,
   "id": "a66a9d4a",
   "metadata": {},
   "outputs": [],
   "source": [
    "keep = [\n",
    "    \"GEO_ID\", \"NAME\", \"State\", \"County\", \"year\",\n",
    "    \"S1901_C01_001E\",      # total households\n",
    "    \"S1901_C01_012E\"       # mean household income (avg per household)\n",
    "]"
   ]
  },
  {
   "cell_type": "code",
   "execution_count": 14,
   "id": "c2d04d29",
   "metadata": {},
   "outputs": [],
   "source": [
    "# Filter to the columns that exist, then rename\n",
    "existing = [c for c in keep if c in df_all.columns]"
   ]
  },
  {
   "cell_type": "code",
   "execution_count": 15,
   "id": "d61205e7",
   "metadata": {},
   "outputs": [],
   "source": [
    "renamed = {\n",
    "    \"S1901_C01_001E\": \"Number of households\",\n",
    "    \"S1901_C01_012E\": \"Average income (per household)\",\n",
    "    \"NAME\": \"Geographic Area Name\"\n",
    "}"
   ]
  },
  {
   "cell_type": "code",
   "execution_count": 16,
   "id": "4186c048",
   "metadata": {},
   "outputs": [],
   "source": [
    "df_out = df_all[existing].rename(columns=renamed)"
   ]
  },
  {
   "cell_type": "code",
   "execution_count": 17,
   "id": "711bbb60",
   "metadata": {},
   "outputs": [],
   "source": [
    "keep_county = pd.read_csv(r\"C:\\Users\\athar\\OneDrive\\Desktop\\fulton_ring\\fahe\\appalachian_counties.csv\")"
   ]
  },
  {
   "cell_type": "code",
   "execution_count": 18,
   "id": "9d42c204",
   "metadata": {},
   "outputs": [],
   "source": [
    "keep_nc = keep_county[keep_county[\"state\"] == \"North Carolina\"]"
   ]
  },
  {
   "cell_type": "code",
   "execution_count": 19,
   "id": "0b07c646",
   "metadata": {},
   "outputs": [],
   "source": [
    "nc_counties = set(keep_nc[\"county\"])\n"
   ]
  },
  {
   "cell_type": "code",
   "execution_count": 20,
   "id": "67ceae91",
   "metadata": {},
   "outputs": [],
   "source": [
    "# Keep only rows in df_out where 'County' is in that list\n",
    "df_out7 = df_out[df_out[\"County\"].isin(nc_counties)]"
   ]
  },
  {
   "cell_type": "code",
   "execution_count": 21,
   "id": "945217ca",
   "metadata": {},
   "outputs": [
    {
     "data": {
      "text/html": [
       "<div>\n",
       "<style scoped>\n",
       "    .dataframe tbody tr th:only-of-type {\n",
       "        vertical-align: middle;\n",
       "    }\n",
       "\n",
       "    .dataframe tbody tr th {\n",
       "        vertical-align: top;\n",
       "    }\n",
       "\n",
       "    .dataframe thead th {\n",
       "        text-align: right;\n",
       "    }\n",
       "</style>\n",
       "<table border=\"1\" class=\"dataframe\">\n",
       "  <thead>\n",
       "    <tr style=\"text-align: right;\">\n",
       "      <th></th>\n",
       "      <th>GEO_ID</th>\n",
       "      <th>State</th>\n",
       "      <th>County</th>\n",
       "      <th>year</th>\n",
       "      <th>Number of households</th>\n",
       "      <th>Average income (per household)</th>\n",
       "    </tr>\n",
       "  </thead>\n",
       "  <tbody>\n",
       "    <tr>\n",
       "      <th>1</th>\n",
       "      <td>0500000US37003</td>\n",
       "      <td>North Carolina</td>\n",
       "      <td>Alexander</td>\n",
       "      <td>2015</td>\n",
       "      <td>13581</td>\n",
       "      <td>39365</td>\n",
       "    </tr>\n",
       "    <tr>\n",
       "      <th>2</th>\n",
       "      <td>0500000US37005</td>\n",
       "      <td>North Carolina</td>\n",
       "      <td>Alleghany</td>\n",
       "      <td>2015</td>\n",
       "      <td>4770</td>\n",
       "      <td>36968</td>\n",
       "    </tr>\n",
       "    <tr>\n",
       "      <th>4</th>\n",
       "      <td>0500000US37009</td>\n",
       "      <td>North Carolina</td>\n",
       "      <td>Ashe</td>\n",
       "      <td>2015</td>\n",
       "      <td>11786</td>\n",
       "      <td>36267</td>\n",
       "    </tr>\n",
       "    <tr>\n",
       "      <th>5</th>\n",
       "      <td>0500000US37011</td>\n",
       "      <td>North Carolina</td>\n",
       "      <td>Avery</td>\n",
       "      <td>2015</td>\n",
       "      <td>6801</td>\n",
       "      <td>37777</td>\n",
       "    </tr>\n",
       "    <tr>\n",
       "      <th>10</th>\n",
       "      <td>0500000US37021</td>\n",
       "      <td>North Carolina</td>\n",
       "      <td>Buncombe</td>\n",
       "      <td>2015</td>\n",
       "      <td>101860</td>\n",
       "      <td>45167</td>\n",
       "    </tr>\n",
       "  </tbody>\n",
       "</table>\n",
       "</div>"
      ],
      "text/plain": [
       "            GEO_ID           State     County  year Number of households  \\\n",
       "1   0500000US37003  North Carolina  Alexander  2015                13581   \n",
       "2   0500000US37005  North Carolina  Alleghany  2015                 4770   \n",
       "4   0500000US37009  North Carolina       Ashe  2015                11786   \n",
       "5   0500000US37011  North Carolina      Avery  2015                 6801   \n",
       "10  0500000US37021  North Carolina   Buncombe  2015               101860   \n",
       "\n",
       "   Average income (per household)  \n",
       "1                           39365  \n",
       "2                           36968  \n",
       "4                           36267  \n",
       "5                           37777  \n",
       "10                          45167  "
      ]
     },
     "execution_count": 21,
     "metadata": {},
     "output_type": "execute_result"
    }
   ],
   "source": [
    "df_out7.head()"
   ]
  },
  {
   "cell_type": "code",
   "execution_count": 22,
   "id": "00db322e",
   "metadata": {},
   "outputs": [],
   "source": [
    "df_out7.to_csv(\"df_out7.csv\", index=False)"
   ]
  },
  {
   "cell_type": "code",
   "execution_count": null,
   "id": "01c2c519",
   "metadata": {},
   "outputs": [],
   "source": []
  }
 ],
 "metadata": {
  "kernelspec": {
   "display_name": ".venv",
   "language": "python",
   "name": "python3"
  },
  "language_info": {
   "codemirror_mode": {
    "name": "ipython",
    "version": 3
   },
   "file_extension": ".py",
   "mimetype": "text/x-python",
   "name": "python",
   "nbconvert_exporter": "python",
   "pygments_lexer": "ipython3",
   "version": "3.12.2"
  }
 },
 "nbformat": 4,
 "nbformat_minor": 5
}
