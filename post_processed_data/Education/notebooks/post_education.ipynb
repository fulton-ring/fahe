{
 "cells": [
  {
   "cell_type": "code",
   "execution_count": 84,
   "id": "615cdc9c",
   "metadata": {},
   "outputs": [],
   "source": [
    "import pandas as pd\n"
   ]
  },
  {
   "cell_type": "code",
   "execution_count": 85,
   "id": "f0304a9c",
   "metadata": {},
   "outputs": [],
   "source": [
    "import geopandas as gpd"
   ]
  },
  {
   "cell_type": "code",
   "execution_count": 86,
   "id": "84b9d3c4",
   "metadata": {},
   "outputs": [],
   "source": [
    "education = pd.read_csv(r\"C:\\Users\\athar\\OneDrive\\Desktop\\fulton_ring\\fahe\\rough_edu\\education.csv\")"
   ]
  },
  {
   "cell_type": "code",
   "execution_count": 87,
   "id": "d543efb5",
   "metadata": {},
   "outputs": [
    {
     "data": {
      "text/html": [
       "<div>\n",
       "<style scoped>\n",
       "    .dataframe tbody tr th:only-of-type {\n",
       "        vertical-align: middle;\n",
       "    }\n",
       "\n",
       "    .dataframe tbody tr th {\n",
       "        vertical-align: top;\n",
       "    }\n",
       "\n",
       "    .dataframe thead th {\n",
       "        text-align: right;\n",
       "    }\n",
       "</style>\n",
       "<table border=\"1\" class=\"dataframe\">\n",
       "  <thead>\n",
       "    <tr style=\"text-align: right;\">\n",
       "      <th></th>\n",
       "      <th>geo_id</th>\n",
       "      <th>state_name</th>\n",
       "      <th>county</th>\n",
       "      <th>year</th>\n",
       "      <th>adults(18-24)_with_high_school</th>\n",
       "      <th>percent_adults(18-24)_with_high_school</th>\n",
       "      <th>adults(18-24)_with_college_degree</th>\n",
       "      <th>total_median_earnings</th>\n",
       "    </tr>\n",
       "  </thead>\n",
       "  <tbody>\n",
       "    <tr>\n",
       "      <th>0</th>\n",
       "      <td>0500000US01007</td>\n",
       "      <td>Alabama</td>\n",
       "      <td>Bibb</td>\n",
       "      <td>2015</td>\n",
       "      <td>681.0</td>\n",
       "      <td>33.1</td>\n",
       "      <td>25.0</td>\n",
       "      <td>29113</td>\n",
       "    </tr>\n",
       "    <tr>\n",
       "      <th>1</th>\n",
       "      <td>0500000US01009</td>\n",
       "      <td>Alabama</td>\n",
       "      <td>Blount</td>\n",
       "      <td>2015</td>\n",
       "      <td>1538.0</td>\n",
       "      <td>33.3</td>\n",
       "      <td>138.0</td>\n",
       "      <td>34549</td>\n",
       "    </tr>\n",
       "    <tr>\n",
       "      <th>2</th>\n",
       "      <td>0500000US01015</td>\n",
       "      <td>Alabama</td>\n",
       "      <td>Calhoun</td>\n",
       "      <td>2015</td>\n",
       "      <td>3362.0</td>\n",
       "      <td>28.3</td>\n",
       "      <td>570.0</td>\n",
       "      <td>28449</td>\n",
       "    </tr>\n",
       "    <tr>\n",
       "      <th>3</th>\n",
       "      <td>0500000US01017</td>\n",
       "      <td>Alabama</td>\n",
       "      <td>Chambers</td>\n",
       "      <td>2015</td>\n",
       "      <td>1234.0</td>\n",
       "      <td>42.6</td>\n",
       "      <td>114.0</td>\n",
       "      <td>28983</td>\n",
       "    </tr>\n",
       "    <tr>\n",
       "      <th>4</th>\n",
       "      <td>0500000US01019</td>\n",
       "      <td>Alabama</td>\n",
       "      <td>Cherokee</td>\n",
       "      <td>2015</td>\n",
       "      <td>739.0</td>\n",
       "      <td>38.3</td>\n",
       "      <td>107.0</td>\n",
       "      <td>30545</td>\n",
       "    </tr>\n",
       "  </tbody>\n",
       "</table>\n",
       "</div>"
      ],
      "text/plain": [
       "           geo_id state_name    county  year  adults(18-24)_with_high_school  \\\n",
       "0  0500000US01007    Alabama      Bibb  2015                           681.0   \n",
       "1  0500000US01009    Alabama    Blount  2015                          1538.0   \n",
       "2  0500000US01015    Alabama   Calhoun  2015                          3362.0   \n",
       "3  0500000US01017    Alabama  Chambers  2015                          1234.0   \n",
       "4  0500000US01019    Alabama  Cherokee  2015                           739.0   \n",
       "\n",
       "   percent_adults(18-24)_with_high_school  adults(18-24)_with_college_degree  \\\n",
       "0                                    33.1                               25.0   \n",
       "1                                    33.3                              138.0   \n",
       "2                                    28.3                              570.0   \n",
       "3                                    42.6                              114.0   \n",
       "4                                    38.3                              107.0   \n",
       "\n",
       "  total_median_earnings  \n",
       "0                 29113  \n",
       "1                 34549  \n",
       "2                 28449  \n",
       "3                 28983  \n",
       "4                 30545  "
      ]
     },
     "execution_count": 87,
     "metadata": {},
     "output_type": "execute_result"
    }
   ],
   "source": [
    "education.head()"
   ]
  },
  {
   "cell_type": "code",
   "execution_count": 88,
   "id": "dddbd17c",
   "metadata": {},
   "outputs": [],
   "source": [
    "# Read the shapefile\n",
    "gdf = gpd.read_file('C:/Users/athar/OneDrive/Desktop/fulton_ring/cb_2018_us_county_5m/cb_2018_us_county_5m.shp')"
   ]
  },
  {
   "cell_type": "code",
   "execution_count": 89,
   "id": "ef50188b",
   "metadata": {},
   "outputs": [
    {
     "name": "stdout",
     "output_type": "stream",
     "text": [
      "  STATEFP COUNTYFP  COUNTYNS        AFFGEOID  GEOID      NAME LSAD  \\\n",
      "0      39      071  01074048  0500000US39071  39071  Highland   06   \n",
      "1      06      003  01675840  0500000US06003  06003    Alpine   06   \n",
      "2      12      033  00295737  0500000US12033  12033  Escambia   06   \n",
      "3      17      101  00424252  0500000US17101  17101  Lawrence   06   \n",
      "4      28      153  00695797  0500000US28153  28153     Wayne   06   \n",
      "\n",
      "        ALAND     AWATER                                           geometry  \n",
      "0  1432479992   12194983  POLYGON ((-83.86976 39.05553, -83.86568 39.247...  \n",
      "1  1912292630   12557304  POLYGON ((-120.07248 38.50987, -120.07239 38.7...  \n",
      "2  1701544502  563927612  POLYGON ((-87.62999 30.87766, -87.62946 30.880...  \n",
      "3   963936864    5077783  POLYGON ((-87.91028 38.57493, -87.90811 38.850...  \n",
      "4  2099745573    7255476  POLYGON ((-88.94317 31.78421, -88.94336 31.824...  \n"
     ]
    }
   ],
   "source": [
    "print(gdf.head())"
   ]
  },
  {
   "cell_type": "code",
   "execution_count": 90,
   "id": "eae0ec73",
   "metadata": {},
   "outputs": [],
   "source": [
    "# keep only the join key + geometry\n",
    "gdf_slim = gdf[[\"GEOID\", \"geometry\"]].copy()\n",
    "gdf_slim[\"GEOID\"] = gdf_slim[\"GEOID\"].astype(str).str.zfill(5)"
   ]
  },
  {
   "cell_type": "code",
   "execution_count": 91,
   "id": "be95c927",
   "metadata": {},
   "outputs": [],
   "source": [
    "# create a FIPS code column (last 5 characters of GEO_ID)\n",
    "education[\"county_fips\"] = education[\"geo_id\"].str[-5:]"
   ]
  },
  {
   "cell_type": "code",
   "execution_count": 92,
   "id": "73130d06",
   "metadata": {},
   "outputs": [],
   "source": [
    "# join on FIPS = GEOID\n",
    "merged = education.merge(\n",
    "    gdf_slim.rename(columns={\"GEOID\": \"county_fips\"}),\n",
    "    on=\"county_fips\",\n",
    "    how=\"left\"\n",
    ")"
   ]
  },
  {
   "cell_type": "code",
   "execution_count": 93,
   "id": "45131800",
   "metadata": {},
   "outputs": [],
   "source": [
    "# Convert merged DataFrame into a GeoDataFrame\n",
    "gdf = gpd.GeoDataFrame(merged, geometry=\"geometry\", crs=\"EPSG:4326\")"
   ]
  },
  {
   "cell_type": "code",
   "execution_count": 94,
   "id": "90ee2ce2",
   "metadata": {},
   "outputs": [
    {
     "data": {
      "text/plain": [
       "(5544, 10)"
      ]
     },
     "execution_count": 94,
     "metadata": {},
     "output_type": "execute_result"
    }
   ],
   "source": [
    "merged.head()\n",
    "merged.shape"
   ]
  },
  {
   "cell_type": "code",
   "execution_count": 95,
   "id": "912691a9",
   "metadata": {},
   "outputs": [],
   "source": [
    "merged.to_csv('./final_education.csv', index=False)"
   ]
  },
  {
   "cell_type": "code",
   "execution_count": null,
   "id": "7b5319de",
   "metadata": {},
   "outputs": [],
   "source": []
  },
  {
   "cell_type": "code",
   "execution_count": 96,
   "id": "28852167",
   "metadata": {},
   "outputs": [
    {
     "data": {
      "text/html": [
       "<div>\n",
       "<style scoped>\n",
       "    .dataframe tbody tr th:only-of-type {\n",
       "        vertical-align: middle;\n",
       "    }\n",
       "\n",
       "    .dataframe tbody tr th {\n",
       "        vertical-align: top;\n",
       "    }\n",
       "\n",
       "    .dataframe thead th {\n",
       "        text-align: right;\n",
       "    }\n",
       "</style>\n",
       "<table border=\"1\" class=\"dataframe\">\n",
       "  <thead>\n",
       "    <tr style=\"text-align: right;\">\n",
       "      <th></th>\n",
       "      <th>geo_id</th>\n",
       "      <th>state_name</th>\n",
       "      <th>county</th>\n",
       "      <th>year</th>\n",
       "      <th>adults(18-24)_with_high_school</th>\n",
       "      <th>percent_adults(18-24)_with_high_school</th>\n",
       "      <th>adults(18-24)_with_college_degree</th>\n",
       "      <th>total_median_earnings</th>\n",
       "      <th>county_fips</th>\n",
       "      <th>geometry</th>\n",
       "    </tr>\n",
       "  </thead>\n",
       "  <tbody>\n",
       "    <tr>\n",
       "      <th>0</th>\n",
       "      <td>0500000US01007</td>\n",
       "      <td>Alabama</td>\n",
       "      <td>Bibb</td>\n",
       "      <td>2015</td>\n",
       "      <td>681.0</td>\n",
       "      <td>33.1</td>\n",
       "      <td>25.0</td>\n",
       "      <td>29113</td>\n",
       "      <td>01007</td>\n",
       "      <td>POLYGON ((-87.42194 33.00338, -87.31854 33.006...</td>\n",
       "    </tr>\n",
       "    <tr>\n",
       "      <th>1</th>\n",
       "      <td>0500000US01009</td>\n",
       "      <td>Alabama</td>\n",
       "      <td>Blount</td>\n",
       "      <td>2015</td>\n",
       "      <td>1538.0</td>\n",
       "      <td>33.3</td>\n",
       "      <td>138.0</td>\n",
       "      <td>34549</td>\n",
       "      <td>01009</td>\n",
       "      <td>POLYGON ((-86.96336 33.85822, -86.9202 33.8734...</td>\n",
       "    </tr>\n",
       "    <tr>\n",
       "      <th>2</th>\n",
       "      <td>0500000US01015</td>\n",
       "      <td>Alabama</td>\n",
       "      <td>Calhoun</td>\n",
       "      <td>2015</td>\n",
       "      <td>3362.0</td>\n",
       "      <td>28.3</td>\n",
       "      <td>570.0</td>\n",
       "      <td>28449</td>\n",
       "      <td>01015</td>\n",
       "      <td>POLYGON ((-86.14371 33.70913, -86.12388 33.710...</td>\n",
       "    </tr>\n",
       "    <tr>\n",
       "      <th>3</th>\n",
       "      <td>0500000US01017</td>\n",
       "      <td>Alabama</td>\n",
       "      <td>Chambers</td>\n",
       "      <td>2015</td>\n",
       "      <td>1234.0</td>\n",
       "      <td>42.6</td>\n",
       "      <td>114.0</td>\n",
       "      <td>28983</td>\n",
       "      <td>01017</td>\n",
       "      <td>POLYGON ((-85.59318 33.10734, -85.23244 33.108...</td>\n",
       "    </tr>\n",
       "    <tr>\n",
       "      <th>4</th>\n",
       "      <td>0500000US01019</td>\n",
       "      <td>Alabama</td>\n",
       "      <td>Cherokee</td>\n",
       "      <td>2015</td>\n",
       "      <td>739.0</td>\n",
       "      <td>38.3</td>\n",
       "      <td>107.0</td>\n",
       "      <td>30545</td>\n",
       "      <td>01019</td>\n",
       "      <td>POLYGON ((-85.84384 34.24345, -85.82548 34.240...</td>\n",
       "    </tr>\n",
       "  </tbody>\n",
       "</table>\n",
       "</div>"
      ],
      "text/plain": [
       "           geo_id state_name    county  year  adults(18-24)_with_high_school  \\\n",
       "0  0500000US01007    Alabama      Bibb  2015                           681.0   \n",
       "1  0500000US01009    Alabama    Blount  2015                          1538.0   \n",
       "2  0500000US01015    Alabama   Calhoun  2015                          3362.0   \n",
       "3  0500000US01017    Alabama  Chambers  2015                          1234.0   \n",
       "4  0500000US01019    Alabama  Cherokee  2015                           739.0   \n",
       "\n",
       "   percent_adults(18-24)_with_high_school  adults(18-24)_with_college_degree  \\\n",
       "0                                    33.1                               25.0   \n",
       "1                                    33.3                              138.0   \n",
       "2                                    28.3                              570.0   \n",
       "3                                    42.6                              114.0   \n",
       "4                                    38.3                              107.0   \n",
       "\n",
       "  total_median_earnings county_fips  \\\n",
       "0                 29113       01007   \n",
       "1                 34549       01009   \n",
       "2                 28449       01015   \n",
       "3                 28983       01017   \n",
       "4                 30545       01019   \n",
       "\n",
       "                                            geometry  \n",
       "0  POLYGON ((-87.42194 33.00338, -87.31854 33.006...  \n",
       "1  POLYGON ((-86.96336 33.85822, -86.9202 33.8734...  \n",
       "2  POLYGON ((-86.14371 33.70913, -86.12388 33.710...  \n",
       "3  POLYGON ((-85.59318 33.10734, -85.23244 33.108...  \n",
       "4  POLYGON ((-85.84384 34.24345, -85.82548 34.240...  "
      ]
     },
     "execution_count": 96,
     "metadata": {},
     "output_type": "execute_result"
    }
   ],
   "source": [
    "merged.head()"
   ]
  },
  {
   "cell_type": "code",
   "execution_count": 97,
   "id": "481d4217",
   "metadata": {},
   "outputs": [],
   "source": [
    "# Use a raw string to avoid unicode escape errors in the file path\n",
    "# Save the GeoDataFrame (not the plain DataFrame) to GeoJSON\n",
    "gdf.to_file(r'C:\\Users\\athar\\OneDrive\\Desktop\\fulton_ring\\fahe\\education.geojson', driver='GeoJSON')"
   ]
  },
  {
   "cell_type": "code",
   "execution_count": null,
   "id": "1e6eceff",
   "metadata": {},
   "outputs": [],
   "source": []
  }
 ],
 "metadata": {
  "kernelspec": {
   "display_name": ".venv",
   "language": "python",
   "name": "python3"
  },
  "language_info": {
   "codemirror_mode": {
    "name": "ipython",
    "version": 3
   },
   "file_extension": ".py",
   "mimetype": "text/x-python",
   "name": "python",
   "nbconvert_exporter": "python",
   "pygments_lexer": "ipython3",
   "version": "3.12.2"
  }
 },
 "nbformat": 4,
 "nbformat_minor": 5
}
