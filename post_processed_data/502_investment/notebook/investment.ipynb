{
 "cells": [
  {
   "cell_type": "code",
   "execution_count": 53,
   "id": "0c7e923e",
   "metadata": {},
   "outputs": [],
   "source": [
    "import pandas as pd"
   ]
  },
  {
   "cell_type": "code",
   "execution_count": 54,
   "id": "7d5430ae",
   "metadata": {},
   "outputs": [
    {
     "ename": "InvalidInputException",
     "evalue": "Invalid Input Error: Schema mismatch between globbed files.\nMain file schema: .\\final_data\\2015.csv\nCurrent file: .\\final_data\\alabama2015metadata.csv\nColumn with name: \"year\" is missing\nColumn with name: \"county\" is missing\nColumn with name: \"state_name\" is missing\nColumn with name: \"county_fips\" is missing\nColumn with name: \"502_investment_dollars\" is missing\nColumn with name: \"number_of_502_investment\" is missing\nPotential Fixes \n* Consider setting union_by_name=true.\n* Consider setting files_to_sniff to a higher value (e.g., files_to_sniff = -1)\n",
     "output_type": "error",
     "traceback": [
      "\u001b[31m---------------------------------------------------------------------------\u001b[39m",
      "\u001b[31mInvalidInputException\u001b[39m                     Traceback (most recent call last)",
      "\u001b[36mCell\u001b[39m\u001b[36m \u001b[39m\u001b[32mIn[54]\u001b[39m\u001b[32m, line 12\u001b[39m\n\u001b[32m      1\u001b[39m \u001b[38;5;28;01mimport\u001b[39;00m\u001b[38;5;250m \u001b[39m\u001b[34;01mduckdb\u001b[39;00m\n\u001b[32m      3\u001b[39m query = \u001b[33m\"\"\"\u001b[39m\u001b[33mSELECT year, county,state_name, county_fips,\u001b[39m\n\u001b[32m      4\u001b[39m \u001b[33mSUM(\u001b[39m\u001b[33m\"\u001b[39m\u001b[33m502_investment_dollars\u001b[39m\u001b[33m\"\u001b[39m\u001b[33m) as total_502_investment_dollars,\u001b[39m\n\u001b[32m      5\u001b[39m \u001b[33mSUM(\u001b[39m\u001b[33m\"\u001b[39m\u001b[33mnumber_of_502_investment\u001b[39m\u001b[33m\"\u001b[39m\u001b[33m) as total_number_of_502_investment\u001b[39m\n\u001b[32m   (...)\u001b[39m\u001b[32m      9\u001b[39m \u001b[33m;\u001b[39m\n\u001b[32m     10\u001b[39m \u001b[33m\"\"\"\u001b[39m\n\u001b[32m---> \u001b[39m\u001b[32m12\u001b[39m \u001b[38;5;28;43;01mwith\u001b[39;49;00m\u001b[43m \u001b[49m\u001b[43mduckdb\u001b[49m\u001b[43m.\u001b[49m\u001b[43mconnect\u001b[49m\u001b[43m(\u001b[49m\u001b[43m)\u001b[49m\u001b[43m \u001b[49m\u001b[38;5;28;43;01mas\u001b[39;49;00m\u001b[43m \u001b[49m\u001b[43mconn\u001b[49m\u001b[43m:\u001b[49m\n\u001b[32m     13\u001b[39m \u001b[43m    \u001b[49m\u001b[43mresult\u001b[49m\u001b[43m \u001b[49m\u001b[43m=\u001b[49m\u001b[43m \u001b[49m\u001b[43mconn\u001b[49m\u001b[43m.\u001b[49m\u001b[43msql\u001b[49m\u001b[43m(\u001b[49m\u001b[43mquery\u001b[49m\u001b[43m)\u001b[49m\n\u001b[32m     15\u001b[39m \u001b[43m    \u001b[49m\u001b[43mdf\u001b[49m\u001b[43m \u001b[49m\u001b[43m=\u001b[49m\u001b[43m \u001b[49m\u001b[43mresult\u001b[49m\u001b[43m.\u001b[49m\u001b[43mfetchdf\u001b[49m\u001b[43m(\u001b[49m\u001b[43m)\u001b[49m\n",
      "\u001b[36mCell\u001b[39m\u001b[36m \u001b[39m\u001b[32mIn[54]\u001b[39m\u001b[32m, line 15\u001b[39m\n\u001b[32m     12\u001b[39m \u001b[38;5;28;01mwith\u001b[39;00m duckdb.connect() \u001b[38;5;28;01mas\u001b[39;00m conn:\n\u001b[32m     13\u001b[39m     result = conn.sql(query)\n\u001b[32m---> \u001b[39m\u001b[32m15\u001b[39m     df = \u001b[43mresult\u001b[49m\u001b[43m.\u001b[49m\u001b[43mfetchdf\u001b[49m\u001b[43m(\u001b[49m\u001b[43m)\u001b[49m\n\u001b[32m     18\u001b[39m     \u001b[38;5;66;03m# Join the county geomoetries with the aggregated data\u001b[39;00m\n\u001b[32m     19\u001b[39m     \u001b[38;5;66;03m# Create a geojson with the geometries and aggregated data\u001b[39;00m\n\u001b[32m     20\u001b[39m     \u001b[38;5;66;03m# Save the geojson to a file\u001b[39;00m\n\u001b[32m     21\u001b[39m     \u001b[38;5;66;03m# Display the map with folium\u001b[39;00m\n\u001b[32m     23\u001b[39m \u001b[38;5;28mprint\u001b[39m(df.head())\n",
      "\u001b[31mInvalidInputException\u001b[39m: Invalid Input Error: Schema mismatch between globbed files.\nMain file schema: .\\final_data\\2015.csv\nCurrent file: .\\final_data\\alabama2015metadata.csv\nColumn with name: \"year\" is missing\nColumn with name: \"county\" is missing\nColumn with name: \"state_name\" is missing\nColumn with name: \"county_fips\" is missing\nColumn with name: \"502_investment_dollars\" is missing\nColumn with name: \"number_of_502_investment\" is missing\nPotential Fixes \n* Consider setting union_by_name=true.\n* Consider setting files_to_sniff to a higher value (e.g., files_to_sniff = -1)\n"
     ]
    }
   ],
   "source": [
    "import duckdb\n",
    "\n",
    "query = \"\"\"SELECT year, county,state_name, county_fips,\n",
    "SUM(\"502_investment_dollars\") as total_502_investment_dollars,\n",
    "SUM(\"number_of_502_investment\") as total_number_of_502_investment\n",
    "FROM './final_data/*.csv'\n",
    "GROUP BY year, county, state_name, county_fips\n",
    "ORDER BY year, state_name, county\n",
    ";\n",
    "\"\"\"\n",
    "\n",
    "with duckdb.connect() as conn:\n",
    "    result = conn.sql(query)\n",
    "\n",
    "    df = result.fetchdf()\n",
    "\n",
    "    \n",
    "    # Join the county geomoetries with the aggregated data\n",
    "    # Create a geojson with the geometries and aggregated data\n",
    "    # Save the geojson to a file\n",
    "    # Display the map with folium\n",
    "\n",
    "print(df.head())\n",
    "\n"
   ]
  },
  {
   "cell_type": "code",
   "execution_count": 55,
   "id": "c81a4d8b",
   "metadata": {},
   "outputs": [
    {
     "name": "stdout",
     "output_type": "stream",
     "text": [
      "Saved aggregator.csv\n"
     ]
    }
   ],
   "source": [
    "df.to_csv(\"aggregator.csv\", index=False)\n",
    "print(\"Saved aggregator.csv\")"
   ]
  },
  {
   "cell_type": "code",
   "execution_count": 56,
   "id": "0910507a",
   "metadata": {},
   "outputs": [
    {
     "data": {
      "text/html": [
       "<div>\n",
       "<style scoped>\n",
       "    .dataframe tbody tr th:only-of-type {\n",
       "        vertical-align: middle;\n",
       "    }\n",
       "\n",
       "    .dataframe tbody tr th {\n",
       "        vertical-align: top;\n",
       "    }\n",
       "\n",
       "    .dataframe thead th {\n",
       "        text-align: right;\n",
       "    }\n",
       "</style>\n",
       "<table border=\"1\" class=\"dataframe\">\n",
       "  <thead>\n",
       "    <tr style=\"text-align: right;\">\n",
       "      <th></th>\n",
       "      <th>year</th>\n",
       "      <th>county</th>\n",
       "      <th>state_name</th>\n",
       "      <th>county_fips</th>\n",
       "      <th>total_502_investment_dollars</th>\n",
       "      <th>total_number_of_502_investment</th>\n",
       "    </tr>\n",
       "  </thead>\n",
       "  <tbody>\n",
       "    <tr>\n",
       "      <th>0</th>\n",
       "      <td>2015</td>\n",
       "      <td>Bibb</td>\n",
       "      <td>Alabama</td>\n",
       "      <td>01007</td>\n",
       "      <td>1273871.0</td>\n",
       "      <td>10.0</td>\n",
       "    </tr>\n",
       "    <tr>\n",
       "      <th>1</th>\n",
       "      <td>2015</td>\n",
       "      <td>Blount</td>\n",
       "      <td>Alabama</td>\n",
       "      <td>01009</td>\n",
       "      <td>8956456.0</td>\n",
       "      <td>75.0</td>\n",
       "    </tr>\n",
       "    <tr>\n",
       "      <th>2</th>\n",
       "      <td>2015</td>\n",
       "      <td>Calhoun</td>\n",
       "      <td>Alabama</td>\n",
       "      <td>01015</td>\n",
       "      <td>11578406.0</td>\n",
       "      <td>105.0</td>\n",
       "    </tr>\n",
       "    <tr>\n",
       "      <th>3</th>\n",
       "      <td>2015</td>\n",
       "      <td>Chambers</td>\n",
       "      <td>Alabama</td>\n",
       "      <td>01017</td>\n",
       "      <td>3911636.0</td>\n",
       "      <td>44.0</td>\n",
       "    </tr>\n",
       "    <tr>\n",
       "      <th>4</th>\n",
       "      <td>2015</td>\n",
       "      <td>Cherokee</td>\n",
       "      <td>Alabama</td>\n",
       "      <td>01019</td>\n",
       "      <td>2781056.0</td>\n",
       "      <td>27.0</td>\n",
       "    </tr>\n",
       "  </tbody>\n",
       "</table>\n",
       "</div>"
      ],
      "text/plain": [
       "   year    county state_name county_fips  total_502_investment_dollars  \\\n",
       "0  2015      Bibb    Alabama       01007                     1273871.0   \n",
       "1  2015    Blount    Alabama       01009                     8956456.0   \n",
       "2  2015   Calhoun    Alabama       01015                    11578406.0   \n",
       "3  2015  Chambers    Alabama       01017                     3911636.0   \n",
       "4  2015  Cherokee    Alabama       01019                     2781056.0   \n",
       "\n",
       "   total_number_of_502_investment  \n",
       "0                            10.0  \n",
       "1                            75.0  \n",
       "2                           105.0  \n",
       "3                            44.0  \n",
       "4                            27.0  "
      ]
     },
     "execution_count": 56,
     "metadata": {},
     "output_type": "execute_result"
    }
   ],
   "source": [
    "df.head()"
   ]
  },
  {
   "cell_type": "code",
   "execution_count": 57,
   "id": "546c1a3a",
   "metadata": {},
   "outputs": [],
   "source": [
    "import geopandas as gpd\n",
    "\n",
    "# Read the shapefile\n",
    "gdf = gpd.read_file('C:/Users/athar/OneDrive/Desktop/fulton_ring/cb_2018_us_county_5m/cb_2018_us_county_5m.shp')\n",
    "\n",
    "\n"
   ]
  },
  {
   "cell_type": "code",
   "execution_count": 58,
   "id": "7b02f9bd",
   "metadata": {},
   "outputs": [
    {
     "name": "stdout",
     "output_type": "stream",
     "text": [
      "  STATEFP COUNTYFP  COUNTYNS        AFFGEOID  GEOID      NAME LSAD  \\\n",
      "0      39      071  01074048  0500000US39071  39071  Highland   06   \n",
      "1      06      003  01675840  0500000US06003  06003    Alpine   06   \n",
      "2      12      033  00295737  0500000US12033  12033  Escambia   06   \n",
      "3      17      101  00424252  0500000US17101  17101  Lawrence   06   \n",
      "4      28      153  00695797  0500000US28153  28153     Wayne   06   \n",
      "\n",
      "        ALAND     AWATER                                           geometry  \n",
      "0  1432479992   12194983  POLYGON ((-83.86976 39.05553, -83.86568 39.247...  \n",
      "1  1912292630   12557304  POLYGON ((-120.07248 38.50987, -120.07239 38.7...  \n",
      "2  1701544502  563927612  POLYGON ((-87.62999 30.87766, -87.62946 30.880...  \n",
      "3   963936864    5077783  POLYGON ((-87.91028 38.57493, -87.90811 38.850...  \n",
      "4  2099745573    7255476  POLYGON ((-88.94317 31.78421, -88.94336 31.824...  \n"
     ]
    }
   ],
   "source": [
    "print(gdf.head())\n"
   ]
  },
  {
   "cell_type": "code",
   "execution_count": 59,
   "id": "b1462980",
   "metadata": {},
   "outputs": [],
   "source": [
    "df['county_fips'] = df['county_fips'].astype(str)\n",
    "\n",
    "df['county_fips'] = df['county_fips'].str.zfill(5)\n",
    "\n"
   ]
  },
  {
   "cell_type": "code",
   "execution_count": 60,
   "id": "44cefb30",
   "metadata": {},
   "outputs": [
    {
     "data": {
      "text/html": [
       "<div>\n",
       "<style scoped>\n",
       "    .dataframe tbody tr th:only-of-type {\n",
       "        vertical-align: middle;\n",
       "    }\n",
       "\n",
       "    .dataframe tbody tr th {\n",
       "        vertical-align: top;\n",
       "    }\n",
       "\n",
       "    .dataframe thead th {\n",
       "        text-align: right;\n",
       "    }\n",
       "</style>\n",
       "<table border=\"1\" class=\"dataframe\">\n",
       "  <thead>\n",
       "    <tr style=\"text-align: right;\">\n",
       "      <th></th>\n",
       "      <th>geo_id</th>\n",
       "      <th>geometry</th>\n",
       "      <th>year</th>\n",
       "      <th>county</th>\n",
       "      <th>state_name</th>\n",
       "      <th>county_fips</th>\n",
       "      <th>total_502_investment_dollars</th>\n",
       "      <th>total_number_of_502_investment</th>\n",
       "    </tr>\n",
       "  </thead>\n",
       "  <tbody>\n",
       "    <tr>\n",
       "      <th>0</th>\n",
       "      <td>01007</td>\n",
       "      <td>POLYGON ((-87.42194 33.00338, -87.31854 33.006...</td>\n",
       "      <td>2015</td>\n",
       "      <td>Bibb</td>\n",
       "      <td>Alabama</td>\n",
       "      <td>01007</td>\n",
       "      <td>1273871.0</td>\n",
       "      <td>10.0</td>\n",
       "    </tr>\n",
       "    <tr>\n",
       "      <th>1</th>\n",
       "      <td>01007</td>\n",
       "      <td>POLYGON ((-87.42194 33.00338, -87.31854 33.006...</td>\n",
       "      <td>2016</td>\n",
       "      <td>Bibb</td>\n",
       "      <td>Alabama</td>\n",
       "      <td>01007</td>\n",
       "      <td>658855.0</td>\n",
       "      <td>7.0</td>\n",
       "    </tr>\n",
       "    <tr>\n",
       "      <th>2</th>\n",
       "      <td>01007</td>\n",
       "      <td>POLYGON ((-87.42194 33.00338, -87.31854 33.006...</td>\n",
       "      <td>2017</td>\n",
       "      <td>Bibb</td>\n",
       "      <td>Alabama</td>\n",
       "      <td>01007</td>\n",
       "      <td>1710111.0</td>\n",
       "      <td>15.0</td>\n",
       "    </tr>\n",
       "    <tr>\n",
       "      <th>3</th>\n",
       "      <td>01007</td>\n",
       "      <td>POLYGON ((-87.42194 33.00338, -87.31854 33.006...</td>\n",
       "      <td>2018</td>\n",
       "      <td>Bibb</td>\n",
       "      <td>Alabama</td>\n",
       "      <td>01007</td>\n",
       "      <td>2219547.0</td>\n",
       "      <td>16.0</td>\n",
       "    </tr>\n",
       "    <tr>\n",
       "      <th>4</th>\n",
       "      <td>01007</td>\n",
       "      <td>POLYGON ((-87.42194 33.00338, -87.31854 33.006...</td>\n",
       "      <td>2019</td>\n",
       "      <td>Bibb</td>\n",
       "      <td>Alabama</td>\n",
       "      <td>01007</td>\n",
       "      <td>1596396.0</td>\n",
       "      <td>13.0</td>\n",
       "    </tr>\n",
       "  </tbody>\n",
       "</table>\n",
       "</div>"
      ],
      "text/plain": [
       "  geo_id                                           geometry  year county  \\\n",
       "0  01007  POLYGON ((-87.42194 33.00338, -87.31854 33.006...  2015   Bibb   \n",
       "1  01007  POLYGON ((-87.42194 33.00338, -87.31854 33.006...  2016   Bibb   \n",
       "2  01007  POLYGON ((-87.42194 33.00338, -87.31854 33.006...  2017   Bibb   \n",
       "3  01007  POLYGON ((-87.42194 33.00338, -87.31854 33.006...  2018   Bibb   \n",
       "4  01007  POLYGON ((-87.42194 33.00338, -87.31854 33.006...  2019   Bibb   \n",
       "\n",
       "  state_name county_fips  total_502_investment_dollars  \\\n",
       "0    Alabama       01007                     1273871.0   \n",
       "1    Alabama       01007                      658855.0   \n",
       "2    Alabama       01007                     1710111.0   \n",
       "3    Alabama       01007                     2219547.0   \n",
       "4    Alabama       01007                     1596396.0   \n",
       "\n",
       "   total_number_of_502_investment  \n",
       "0                            10.0  \n",
       "1                             7.0  \n",
       "2                            15.0  \n",
       "3                            16.0  \n",
       "4                            13.0  "
      ]
     },
     "execution_count": 60,
     "metadata": {},
     "output_type": "execute_result"
    }
   ],
   "source": [
    "# Merge and sort so Alabama/Bibb is first (as in the CSV)\n",
    "merged_gdf = gdf.merge(df, left_on='GEOID', right_on='county_fips')\n",
    "cols_to_drop = ['STATEFP', 'COUNTYFP', 'COUNTYNS', 'AFFGEOID', 'NAME', 'LSAD', 'ALAND', 'AWATER']\n",
    "merged_gdf = merged_gdf.drop(columns=cols_to_drop)\n",
    "merged_gdf.columns = [col.lower() for col in merged_gdf.columns]\n",
    "merged_gdf = merged_gdf.rename(columns={'geoid': 'geo_id'})\n",
    "\n",
    "# Sort by state_name and county to match the original CSV order\n",
    "merged_gdf = merged_gdf.sort_values(['state_name', 'county']).reset_index(drop=True)\n",
    "\n",
    "merged_gdf.head()"
   ]
  },
  {
   "cell_type": "code",
   "execution_count": 62,
   "id": "a3a62421",
   "metadata": {},
   "outputs": [],
   "source": [
    "merged_gdf.to_csv('./final_data/final_aggregator.csv', index=False)\n"
   ]
  },
  {
   "cell_type": "code",
   "execution_count": 61,
   "id": "f09347a9",
   "metadata": {},
   "outputs": [],
   "source": [
    "merged_gdf.to_file('./final_data/aggregator.geojson', driver='GeoJSON')"
   ]
  },
  {
   "cell_type": "code",
   "execution_count": null,
   "id": "e74dcba1",
   "metadata": {},
   "outputs": [],
   "source": []
  }
 ],
 "metadata": {
  "kernelspec": {
   "display_name": ".venv",
   "language": "python",
   "name": "python3"
  },
  "language_info": {
   "codemirror_mode": {
    "name": "ipython",
    "version": 3
   },
   "file_extension": ".py",
   "mimetype": "text/x-python",
   "name": "python",
   "nbconvert_exporter": "python",
   "pygments_lexer": "ipython3",
   "version": "3.12.2"
  }
 },
 "nbformat": 4,
 "nbformat_minor": 5
}
