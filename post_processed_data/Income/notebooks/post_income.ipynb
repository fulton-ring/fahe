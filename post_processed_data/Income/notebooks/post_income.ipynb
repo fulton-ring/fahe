{
 "cells": [
  {
   "cell_type": "code",
   "execution_count": 114,
   "id": "22423f2b",
   "metadata": {},
   "outputs": [],
   "source": [
    "import pandas as pd"
   ]
  },
  {
   "cell_type": "code",
   "execution_count": 115,
   "id": "2ce503c5",
   "metadata": {},
   "outputs": [],
   "source": [
    "import geopandas as gpd"
   ]
  },
  {
   "cell_type": "code",
   "execution_count": 116,
   "id": "69ea0fbd",
   "metadata": {},
   "outputs": [],
   "source": [
    "income = pd.read_csv(r\"C:\\Users\\athar\\OneDrive\\Desktop\\fulton_ring\\fahe\\rough\\income.csv\")"
   ]
  },
  {
   "cell_type": "code",
   "execution_count": 117,
   "id": "b7ed8cf6",
   "metadata": {},
   "outputs": [],
   "source": [
    "# Read the shapefile\n",
    "gdf = gpd.read_file('C:/Users/athar/OneDrive/Desktop/fulton_ring/cb_2018_us_county_5m/cb_2018_us_county_5m.shp')"
   ]
  },
  {
   "cell_type": "code",
   "execution_count": 118,
   "id": "36e60661",
   "metadata": {},
   "outputs": [
    {
     "name": "stdout",
     "output_type": "stream",
     "text": [
      "  STATEFP COUNTYFP  COUNTYNS        AFFGEOID  GEOID      NAME LSAD  \\\n",
      "0      39      071  01074048  0500000US39071  39071  Highland   06   \n",
      "1      06      003  01675840  0500000US06003  06003    Alpine   06   \n",
      "2      12      033  00295737  0500000US12033  12033  Escambia   06   \n",
      "3      17      101  00424252  0500000US17101  17101  Lawrence   06   \n",
      "4      28      153  00695797  0500000US28153  28153     Wayne   06   \n",
      "\n",
      "        ALAND     AWATER                                           geometry  \n",
      "0  1432479992   12194983  POLYGON ((-83.86976 39.05553, -83.86568 39.247...  \n",
      "1  1912292630   12557304  POLYGON ((-120.07248 38.50987, -120.07239 38.7...  \n",
      "2  1701544502  563927612  POLYGON ((-87.62999 30.87766, -87.62946 30.880...  \n",
      "3   963936864    5077783  POLYGON ((-87.91028 38.57493, -87.90811 38.850...  \n",
      "4  2099745573    7255476  POLYGON ((-88.94317 31.78421, -88.94336 31.824...  \n"
     ]
    }
   ],
   "source": [
    "print(gdf.head())"
   ]
  },
  {
   "cell_type": "code",
   "execution_count": 119,
   "id": "33eda12b",
   "metadata": {},
   "outputs": [],
   "source": [
    "# keep only the join key + geometry\n",
    "gdf_slim = gdf[[\"GEOID\", \"geometry\"]].copy()\n",
    "gdf_slim[\"GEOID\"] = gdf_slim[\"GEOID\"].astype(str).str.zfill(5)"
   ]
  },
  {
   "cell_type": "code",
   "execution_count": 120,
   "id": "a938f411",
   "metadata": {},
   "outputs": [],
   "source": [
    "# create a FIPS code column (last 5 characters of GEO_ID)\n",
    "income[\"county_fips\"] = income[\"geo_id\"].str[-5:]"
   ]
  },
  {
   "cell_type": "code",
   "execution_count": 121,
   "id": "a69bd365",
   "metadata": {},
   "outputs": [],
   "source": [
    "# Convert merged DataFrame into a GeoDataFrame\n",
    "gdf = gpd.GeoDataFrame(merged, geometry=\"geometry\", crs=\"EPSG:4326\")"
   ]
  },
  {
   "cell_type": "code",
   "execution_count": 122,
   "id": "c2ec96f3",
   "metadata": {},
   "outputs": [],
   "source": [
    "# join on FIPS = GEOID\n",
    "merged_gdf = income.merge(\n",
    "    gdf_slim.rename(columns={\"GEOID\": \"county_fips\"}),\n",
    "    on=\"county_fips\",\n",
    "    how=\"left\"\n",
    ")"
   ]
  },
  {
   "cell_type": "code",
   "execution_count": 123,
   "id": "11316998",
   "metadata": {},
   "outputs": [
    {
     "data": {
      "text/html": [
       "<div>\n",
       "<style scoped>\n",
       "    .dataframe tbody tr th:only-of-type {\n",
       "        vertical-align: middle;\n",
       "    }\n",
       "\n",
       "    .dataframe tbody tr th {\n",
       "        vertical-align: top;\n",
       "    }\n",
       "\n",
       "    .dataframe thead th {\n",
       "        text-align: right;\n",
       "    }\n",
       "</style>\n",
       "<table border=\"1\" class=\"dataframe\">\n",
       "  <thead>\n",
       "    <tr style=\"text-align: right;\">\n",
       "      <th></th>\n",
       "      <th>geo_id</th>\n",
       "      <th>state_name</th>\n",
       "      <th>county</th>\n",
       "      <th>year</th>\n",
       "      <th>number_of_households</th>\n",
       "      <th>average_income_(per_household)</th>\n",
       "      <th>county_fips</th>\n",
       "      <th>geometry</th>\n",
       "    </tr>\n",
       "  </thead>\n",
       "  <tbody>\n",
       "    <tr>\n",
       "      <th>0</th>\n",
       "      <td>0500000US01007</td>\n",
       "      <td>Alabama</td>\n",
       "      <td>Bibb</td>\n",
       "      <td>2015</td>\n",
       "      <td>7027</td>\n",
       "      <td>38678</td>\n",
       "      <td>01007</td>\n",
       "      <td>POLYGON ((-87.42194 33.00338, -87.31854 33.006...</td>\n",
       "    </tr>\n",
       "    <tr>\n",
       "      <th>1</th>\n",
       "      <td>0500000US01009</td>\n",
       "      <td>Alabama</td>\n",
       "      <td>Blount</td>\n",
       "      <td>2015</td>\n",
       "      <td>20816</td>\n",
       "      <td>45813</td>\n",
       "      <td>01009</td>\n",
       "      <td>POLYGON ((-86.96336 33.85822, -86.9202 33.8734...</td>\n",
       "    </tr>\n",
       "    <tr>\n",
       "      <th>2</th>\n",
       "      <td>0500000US01015</td>\n",
       "      <td>Alabama</td>\n",
       "      <td>Calhoun</td>\n",
       "      <td>2015</td>\n",
       "      <td>45154</td>\n",
       "      <td>41703</td>\n",
       "      <td>01015</td>\n",
       "      <td>POLYGON ((-86.14371 33.70913, -86.12388 33.710...</td>\n",
       "    </tr>\n",
       "    <tr>\n",
       "      <th>3</th>\n",
       "      <td>0500000US01017</td>\n",
       "      <td>Alabama</td>\n",
       "      <td>Chambers</td>\n",
       "      <td>2015</td>\n",
       "      <td>13787</td>\n",
       "      <td>34177</td>\n",
       "      <td>01017</td>\n",
       "      <td>POLYGON ((-85.59318 33.10734, -85.23244 33.108...</td>\n",
       "    </tr>\n",
       "    <tr>\n",
       "      <th>4</th>\n",
       "      <td>0500000US01019</td>\n",
       "      <td>Alabama</td>\n",
       "      <td>Cherokee</td>\n",
       "      <td>2015</td>\n",
       "      <td>11278</td>\n",
       "      <td>36296</td>\n",
       "      <td>01019</td>\n",
       "      <td>POLYGON ((-85.84384 34.24345, -85.82548 34.240...</td>\n",
       "    </tr>\n",
       "  </tbody>\n",
       "</table>\n",
       "</div>"
      ],
      "text/plain": [
       "           geo_id state_name    county  year  number_of_households  \\\n",
       "0  0500000US01007    Alabama      Bibb  2015                  7027   \n",
       "1  0500000US01009    Alabama    Blount  2015                 20816   \n",
       "2  0500000US01015    Alabama   Calhoun  2015                 45154   \n",
       "3  0500000US01017    Alabama  Chambers  2015                 13787   \n",
       "4  0500000US01019    Alabama  Cherokee  2015                 11278   \n",
       "\n",
       "   average_income_(per_household) county_fips  \\\n",
       "0                           38678       01007   \n",
       "1                           45813       01009   \n",
       "2                           41703       01015   \n",
       "3                           34177       01017   \n",
       "4                           36296       01019   \n",
       "\n",
       "                                            geometry  \n",
       "0  POLYGON ((-87.42194 33.00338, -87.31854 33.006...  \n",
       "1  POLYGON ((-86.96336 33.85822, -86.9202 33.8734...  \n",
       "2  POLYGON ((-86.14371 33.70913, -86.12388 33.710...  \n",
       "3  POLYGON ((-85.59318 33.10734, -85.23244 33.108...  \n",
       "4  POLYGON ((-85.84384 34.24345, -85.82548 34.240...  "
      ]
     },
     "execution_count": 123,
     "metadata": {},
     "output_type": "execute_result"
    }
   ],
   "source": [
    "merged_gdf.head()"
   ]
  },
  {
   "cell_type": "code",
   "execution_count": 124,
   "id": "11915bb8",
   "metadata": {},
   "outputs": [],
   "source": [
    "merged_gdf.to_csv('./final_household_income.csv', index=False)"
   ]
  },
  {
   "cell_type": "code",
   "execution_count": 125,
   "id": "6ceed8fa",
   "metadata": {},
   "outputs": [],
   "source": [
    "import geopandas as gpd\n",
    "\n",
    "# Convert merged_gdf to a GeoDataFrame before saving\n",
    "merged_gdf_gdf = gpd.GeoDataFrame(merged_gdf, geometry=\"geometry\", crs=\"EPSG:4326\")\n",
    "merged_gdf_gdf.to_file(r'C:\\Users\\athar\\OneDrive\\Desktop\\fulton_ring\\fahe\\household_income.geojson', driver='GeoJSON')"
   ]
  },
  {
   "cell_type": "code",
   "execution_count": null,
   "id": "6ca8fe2c",
   "metadata": {},
   "outputs": [],
   "source": []
  }
 ],
 "metadata": {
  "kernelspec": {
   "display_name": ".venv",
   "language": "python",
   "name": "python3"
  },
  "language_info": {
   "codemirror_mode": {
    "name": "ipython",
    "version": 3
   },
   "file_extension": ".py",
   "mimetype": "text/x-python",
   "name": "python",
   "nbconvert_exporter": "python",
   "pygments_lexer": "ipython3",
   "version": "3.12.2"
  }
 },
 "nbformat": 4,
 "nbformat_minor": 5
}
