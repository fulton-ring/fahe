{
 "cells": [
  {
   "cell_type": "code",
   "execution_count": 2,
   "id": "cd1c2407",
   "metadata": {},
   "outputs": [],
   "source": [
    "\n",
    "import pandas as pd\n",
    "import glob"
   ]
  },
  {
   "cell_type": "code",
   "execution_count": 3,
   "id": "f392dd72",
   "metadata": {},
   "outputs": [],
   "source": [
    "import warnings\n",
    "warnings.filterwarnings('ignore', category=pd.errors.DtypeWarning)"
   ]
  },
  {
   "cell_type": "code",
   "execution_count": 4,
   "id": "469617c6",
   "metadata": {},
   "outputs": [],
   "source": [
    "files = sorted(glob.glob(\"df_out*.csv\"))"
   ]
  },
  {
   "cell_type": "code",
   "execution_count": 5,
   "id": "3c92ac44",
   "metadata": {},
   "outputs": [],
   "source": [
    "dfs = [pd.read_csv(f) for f in files]"
   ]
  },
  {
   "cell_type": "code",
   "execution_count": 6,
   "id": "2206f18d",
   "metadata": {},
   "outputs": [],
   "source": [
    "# Concatenate into one DataFrame\n",
    "df_final = pd.concat(dfs, ignore_index=True)"
   ]
  },
  {
   "cell_type": "code",
   "execution_count": 7,
   "id": "62effae9",
   "metadata": {},
   "outputs": [],
   "source": [
    "df_final.columns = [col.strip().lower().replace(' ', '_') for col in df_final.columns]\n"
   ]
  },
  {
   "cell_type": "code",
   "execution_count": 10,
   "id": "3cef745c",
   "metadata": {},
   "outputs": [],
   "source": [
    "df_final = df_final.rename(columns={\"state\": \"state_name\"})\n"
   ]
  },
  {
   "cell_type": "code",
   "execution_count": 11,
   "id": "e360e623",
   "metadata": {},
   "outputs": [
    {
     "name": "stdout",
     "output_type": "stream",
     "text": [
      "(3294, 6)\n"
     ]
    },
    {
     "data": {
      "text/html": [
       "<div>\n",
       "<style scoped>\n",
       "    .dataframe tbody tr th:only-of-type {\n",
       "        vertical-align: middle;\n",
       "    }\n",
       "\n",
       "    .dataframe tbody tr th {\n",
       "        vertical-align: top;\n",
       "    }\n",
       "\n",
       "    .dataframe thead th {\n",
       "        text-align: right;\n",
       "    }\n",
       "</style>\n",
       "<table border=\"1\" class=\"dataframe\">\n",
       "  <thead>\n",
       "    <tr style=\"text-align: right;\">\n",
       "      <th></th>\n",
       "      <th>geo_id</th>\n",
       "      <th>state_name</th>\n",
       "      <th>county</th>\n",
       "      <th>year</th>\n",
       "      <th>number_of_households</th>\n",
       "      <th>average_income_(per_household)</th>\n",
       "    </tr>\n",
       "  </thead>\n",
       "  <tbody>\n",
       "    <tr>\n",
       "      <th>0</th>\n",
       "      <td>0500000US01007</td>\n",
       "      <td>Alabama</td>\n",
       "      <td>Bibb</td>\n",
       "      <td>2015</td>\n",
       "      <td>7027</td>\n",
       "      <td>38678</td>\n",
       "    </tr>\n",
       "    <tr>\n",
       "      <th>1</th>\n",
       "      <td>0500000US01009</td>\n",
       "      <td>Alabama</td>\n",
       "      <td>Blount</td>\n",
       "      <td>2015</td>\n",
       "      <td>20816</td>\n",
       "      <td>45813</td>\n",
       "    </tr>\n",
       "    <tr>\n",
       "      <th>2</th>\n",
       "      <td>0500000US01015</td>\n",
       "      <td>Alabama</td>\n",
       "      <td>Calhoun</td>\n",
       "      <td>2015</td>\n",
       "      <td>45154</td>\n",
       "      <td>41703</td>\n",
       "    </tr>\n",
       "    <tr>\n",
       "      <th>3</th>\n",
       "      <td>0500000US01017</td>\n",
       "      <td>Alabama</td>\n",
       "      <td>Chambers</td>\n",
       "      <td>2015</td>\n",
       "      <td>13787</td>\n",
       "      <td>34177</td>\n",
       "    </tr>\n",
       "    <tr>\n",
       "      <th>4</th>\n",
       "      <td>0500000US01019</td>\n",
       "      <td>Alabama</td>\n",
       "      <td>Cherokee</td>\n",
       "      <td>2015</td>\n",
       "      <td>11278</td>\n",
       "      <td>36296</td>\n",
       "    </tr>\n",
       "  </tbody>\n",
       "</table>\n",
       "</div>"
      ],
      "text/plain": [
       "           geo_id state_name    county  year  number_of_households  \\\n",
       "0  0500000US01007    Alabama      Bibb  2015                  7027   \n",
       "1  0500000US01009    Alabama    Blount  2015                 20816   \n",
       "2  0500000US01015    Alabama   Calhoun  2015                 45154   \n",
       "3  0500000US01017    Alabama  Chambers  2015                 13787   \n",
       "4  0500000US01019    Alabama  Cherokee  2015                 11278   \n",
       "\n",
       "   average_income_(per_household)  \n",
       "0                           38678  \n",
       "1                           45813  \n",
       "2                           41703  \n",
       "3                           34177  \n",
       "4                           36296  "
      ]
     },
     "execution_count": 11,
     "metadata": {},
     "output_type": "execute_result"
    }
   ],
   "source": [
    "print(df_final.shape)\n",
    "df_final.head()"
   ]
  },
  {
   "cell_type": "code",
   "execution_count": 12,
   "id": "a5aa9eb4",
   "metadata": {},
   "outputs": [],
   "source": [
    "df_final.to_csv(\"income.csv\", index=False)\n"
   ]
  },
  {
   "cell_type": "code",
   "execution_count": null,
   "id": "4d9e213f",
   "metadata": {},
   "outputs": [],
   "source": []
  }
 ],
 "metadata": {
  "kernelspec": {
   "display_name": ".venv",
   "language": "python",
   "name": "python3"
  },
  "language_info": {
   "codemirror_mode": {
    "name": "ipython",
    "version": 3
   },
   "file_extension": ".py",
   "mimetype": "text/x-python",
   "name": "python",
   "nbconvert_exporter": "python",
   "pygments_lexer": "ipython3",
   "version": "3.12.2"
  }
 },
 "nbformat": 4,
 "nbformat_minor": 5
}
